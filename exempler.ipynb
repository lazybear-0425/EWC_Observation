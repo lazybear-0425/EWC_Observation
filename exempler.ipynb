{
  "cells": [
    {
      "cell_type": "markdown",
      "metadata": {
        "id": "view-in-github",
        "colab_type": "text"
      },
      "source": [
        "<a href=\"https://colab.research.google.com/github/lazybear-0425/EWC_Observation/blob/main/exempler.ipynb\" target=\"_parent\"><img src=\"https://colab.research.google.com/assets/colab-badge.svg\" alt=\"Open In Colab\"/></a>"
      ]
    },
    {
      "cell_type": "code",
      "execution_count": 1,
      "metadata": {
        "colab": {
          "base_uri": "https://localhost:8080/"
        },
        "id": "BFwDmQC6uSao",
        "outputId": "dcea52bc-2568-4cbb-ef64-3679746204d5"
      },
      "outputs": [
        {
          "output_type": "stream",
          "name": "stdout",
          "text": [
            "Collecting avalanche-lib\n",
            "  Downloading avalanche_lib-0.6.0-py3-none-any.whl.metadata (12 kB)\n",
            "Requirement already satisfied: typing-extensions>=4.6.0 in /usr/local/lib/python3.11/dist-packages (from avalanche-lib) (4.13.2)\n",
            "Requirement already satisfied: psutil in /usr/local/lib/python3.11/dist-packages (from avalanche-lib) (5.9.5)\n",
            "Collecting gputil (from avalanche-lib)\n",
            "  Downloading GPUtil-1.4.0.tar.gz (5.5 kB)\n",
            "  Preparing metadata (setup.py) ... \u001b[?25l\u001b[?25hdone\n",
            "Requirement already satisfied: scikit-learn in /usr/local/lib/python3.11/dist-packages (from avalanche-lib) (1.6.1)\n",
            "Requirement already satisfied: matplotlib in /usr/local/lib/python3.11/dist-packages (from avalanche-lib) (3.10.0)\n",
            "Requirement already satisfied: numpy in /usr/local/lib/python3.11/dist-packages (from avalanche-lib) (2.0.2)\n",
            "Collecting pytorchcv (from avalanche-lib)\n",
            "  Downloading pytorchcv-0.0.73-py2.py3-none-any.whl.metadata (134 kB)\n",
            "\u001b[2K     \u001b[90m━━━━━━━━━━━━━━━━━━━━━━━━━━━━━━━━━━━━━━━\u001b[0m \u001b[32m134.2/134.2 kB\u001b[0m \u001b[31m3.8 MB/s\u001b[0m eta \u001b[36m0:00:00\u001b[0m\n",
            "\u001b[?25hRequirement already satisfied: wandb in /usr/local/lib/python3.11/dist-packages (from avalanche-lib) (0.19.11)\n",
            "Requirement already satisfied: tensorboard>=1.15 in /usr/local/lib/python3.11/dist-packages (from avalanche-lib) (2.18.0)\n",
            "Requirement already satisfied: tqdm in /usr/local/lib/python3.11/dist-packages (from avalanche-lib) (4.67.1)\n",
            "Requirement already satisfied: torch in /usr/local/lib/python3.11/dist-packages (from avalanche-lib) (2.6.0+cu124)\n",
            "Requirement already satisfied: torchvision in /usr/local/lib/python3.11/dist-packages (from avalanche-lib) (0.21.0+cu124)\n",
            "Collecting torchmetrics (from avalanche-lib)\n",
            "  Downloading torchmetrics-1.7.1-py3-none-any.whl.metadata (21 kB)\n",
            "Requirement already satisfied: gdown in /usr/local/lib/python3.11/dist-packages (from avalanche-lib) (5.2.0)\n",
            "Collecting qpsolvers[open_source_solvers] (from avalanche-lib)\n",
            "  Downloading qpsolvers-4.7.0-py3-none-any.whl.metadata (12 kB)\n",
            "Requirement already satisfied: dill in /usr/local/lib/python3.11/dist-packages (from avalanche-lib) (0.3.7)\n",
            "Requirement already satisfied: packaging in /usr/local/lib/python3.11/dist-packages (from avalanche-lib) (24.2)\n",
            "Requirement already satisfied: absl-py>=0.4 in /usr/local/lib/python3.11/dist-packages (from tensorboard>=1.15->avalanche-lib) (1.4.0)\n",
            "Requirement already satisfied: grpcio>=1.48.2 in /usr/local/lib/python3.11/dist-packages (from tensorboard>=1.15->avalanche-lib) (1.71.0)\n",
            "Requirement already satisfied: markdown>=2.6.8 in /usr/local/lib/python3.11/dist-packages (from tensorboard>=1.15->avalanche-lib) (3.8)\n",
            "Requirement already satisfied: protobuf!=4.24.0,>=3.19.6 in /usr/local/lib/python3.11/dist-packages (from tensorboard>=1.15->avalanche-lib) (5.29.4)\n",
            "Requirement already satisfied: setuptools>=41.0.0 in /usr/local/lib/python3.11/dist-packages (from tensorboard>=1.15->avalanche-lib) (75.2.0)\n",
            "Requirement already satisfied: six>1.9 in /usr/local/lib/python3.11/dist-packages (from tensorboard>=1.15->avalanche-lib) (1.17.0)\n",
            "Requirement already satisfied: tensorboard-data-server<0.8.0,>=0.7.0 in /usr/local/lib/python3.11/dist-packages (from tensorboard>=1.15->avalanche-lib) (0.7.2)\n",
            "Requirement already satisfied: werkzeug>=1.0.1 in /usr/local/lib/python3.11/dist-packages (from tensorboard>=1.15->avalanche-lib) (3.1.3)\n",
            "Requirement already satisfied: beautifulsoup4 in /usr/local/lib/python3.11/dist-packages (from gdown->avalanche-lib) (4.13.4)\n",
            "Requirement already satisfied: filelock in /usr/local/lib/python3.11/dist-packages (from gdown->avalanche-lib) (3.18.0)\n",
            "Requirement already satisfied: requests[socks] in /usr/local/lib/python3.11/dist-packages (from gdown->avalanche-lib) (2.32.3)\n",
            "Requirement already satisfied: contourpy>=1.0.1 in /usr/local/lib/python3.11/dist-packages (from matplotlib->avalanche-lib) (1.3.2)\n",
            "Requirement already satisfied: cycler>=0.10 in /usr/local/lib/python3.11/dist-packages (from matplotlib->avalanche-lib) (0.12.1)\n",
            "Requirement already satisfied: fonttools>=4.22.0 in /usr/local/lib/python3.11/dist-packages (from matplotlib->avalanche-lib) (4.58.0)\n",
            "Requirement already satisfied: kiwisolver>=1.3.1 in /usr/local/lib/python3.11/dist-packages (from matplotlib->avalanche-lib) (1.4.8)\n",
            "Requirement already satisfied: pillow>=8 in /usr/local/lib/python3.11/dist-packages (from matplotlib->avalanche-lib) (11.2.1)\n",
            "Requirement already satisfied: pyparsing>=2.3.1 in /usr/local/lib/python3.11/dist-packages (from matplotlib->avalanche-lib) (3.2.3)\n",
            "Requirement already satisfied: python-dateutil>=2.7 in /usr/local/lib/python3.11/dist-packages (from matplotlib->avalanche-lib) (2.9.0.post0)\n",
            "Requirement already satisfied: scipy>=1.2.0 in /usr/local/lib/python3.11/dist-packages (from qpsolvers[open_source_solvers]->avalanche-lib) (1.15.3)\n",
            "Requirement already satisfied: joblib>=1.2.0 in /usr/local/lib/python3.11/dist-packages (from scikit-learn->avalanche-lib) (1.5.0)\n",
            "Requirement already satisfied: threadpoolctl>=3.1.0 in /usr/local/lib/python3.11/dist-packages (from scikit-learn->avalanche-lib) (3.6.0)\n",
            "Requirement already satisfied: networkx in /usr/local/lib/python3.11/dist-packages (from torch->avalanche-lib) (3.4.2)\n",
            "Requirement already satisfied: jinja2 in /usr/local/lib/python3.11/dist-packages (from torch->avalanche-lib) (3.1.6)\n",
            "Requirement already satisfied: fsspec in /usr/local/lib/python3.11/dist-packages (from torch->avalanche-lib) (2025.3.2)\n",
            "Collecting nvidia-cuda-nvrtc-cu12==12.4.127 (from torch->avalanche-lib)\n",
            "  Downloading nvidia_cuda_nvrtc_cu12-12.4.127-py3-none-manylinux2014_x86_64.whl.metadata (1.5 kB)\n",
            "Collecting nvidia-cuda-runtime-cu12==12.4.127 (from torch->avalanche-lib)\n",
            "  Downloading nvidia_cuda_runtime_cu12-12.4.127-py3-none-manylinux2014_x86_64.whl.metadata (1.5 kB)\n",
            "Collecting nvidia-cuda-cupti-cu12==12.4.127 (from torch->avalanche-lib)\n",
            "  Downloading nvidia_cuda_cupti_cu12-12.4.127-py3-none-manylinux2014_x86_64.whl.metadata (1.6 kB)\n",
            "Collecting nvidia-cudnn-cu12==9.1.0.70 (from torch->avalanche-lib)\n",
            "  Downloading nvidia_cudnn_cu12-9.1.0.70-py3-none-manylinux2014_x86_64.whl.metadata (1.6 kB)\n",
            "Collecting nvidia-cublas-cu12==12.4.5.8 (from torch->avalanche-lib)\n",
            "  Downloading nvidia_cublas_cu12-12.4.5.8-py3-none-manylinux2014_x86_64.whl.metadata (1.5 kB)\n",
            "Collecting nvidia-cufft-cu12==11.2.1.3 (from torch->avalanche-lib)\n",
            "  Downloading nvidia_cufft_cu12-11.2.1.3-py3-none-manylinux2014_x86_64.whl.metadata (1.5 kB)\n",
            "Collecting nvidia-curand-cu12==10.3.5.147 (from torch->avalanche-lib)\n",
            "  Downloading nvidia_curand_cu12-10.3.5.147-py3-none-manylinux2014_x86_64.whl.metadata (1.5 kB)\n",
            "Collecting nvidia-cusolver-cu12==11.6.1.9 (from torch->avalanche-lib)\n",
            "  Downloading nvidia_cusolver_cu12-11.6.1.9-py3-none-manylinux2014_x86_64.whl.metadata (1.6 kB)\n",
            "Collecting nvidia-cusparse-cu12==12.3.1.170 (from torch->avalanche-lib)\n",
            "  Downloading nvidia_cusparse_cu12-12.3.1.170-py3-none-manylinux2014_x86_64.whl.metadata (1.6 kB)\n",
            "Requirement already satisfied: nvidia-cusparselt-cu12==0.6.2 in /usr/local/lib/python3.11/dist-packages (from torch->avalanche-lib) (0.6.2)\n",
            "Requirement already satisfied: nvidia-nccl-cu12==2.21.5 in /usr/local/lib/python3.11/dist-packages (from torch->avalanche-lib) (2.21.5)\n",
            "Requirement already satisfied: nvidia-nvtx-cu12==12.4.127 in /usr/local/lib/python3.11/dist-packages (from torch->avalanche-lib) (12.4.127)\n",
            "Collecting nvidia-nvjitlink-cu12==12.4.127 (from torch->avalanche-lib)\n",
            "  Downloading nvidia_nvjitlink_cu12-12.4.127-py3-none-manylinux2014_x86_64.whl.metadata (1.5 kB)\n",
            "Requirement already satisfied: triton==3.2.0 in /usr/local/lib/python3.11/dist-packages (from torch->avalanche-lib) (3.2.0)\n",
            "Requirement already satisfied: sympy==1.13.1 in /usr/local/lib/python3.11/dist-packages (from torch->avalanche-lib) (1.13.1)\n",
            "Requirement already satisfied: mpmath<1.4,>=1.1.0 in /usr/local/lib/python3.11/dist-packages (from sympy==1.13.1->torch->avalanche-lib) (1.3.0)\n",
            "Collecting lightning-utilities>=0.8.0 (from torchmetrics->avalanche-lib)\n",
            "  Downloading lightning_utilities-0.14.3-py3-none-any.whl.metadata (5.6 kB)\n",
            "Requirement already satisfied: click!=8.0.0,>=7.1 in /usr/local/lib/python3.11/dist-packages (from wandb->avalanche-lib) (8.2.0)\n",
            "Requirement already satisfied: docker-pycreds>=0.4.0 in /usr/local/lib/python3.11/dist-packages (from wandb->avalanche-lib) (0.4.0)\n",
            "Requirement already satisfied: gitpython!=3.1.29,>=1.0.0 in /usr/local/lib/python3.11/dist-packages (from wandb->avalanche-lib) (3.1.44)\n",
            "Requirement already satisfied: platformdirs in /usr/local/lib/python3.11/dist-packages (from wandb->avalanche-lib) (4.3.8)\n",
            "Requirement already satisfied: pydantic<3 in /usr/local/lib/python3.11/dist-packages (from wandb->avalanche-lib) (2.11.4)\n",
            "Requirement already satisfied: pyyaml in /usr/local/lib/python3.11/dist-packages (from wandb->avalanche-lib) (6.0.2)\n",
            "Requirement already satisfied: sentry-sdk>=2.0.0 in /usr/local/lib/python3.11/dist-packages (from wandb->avalanche-lib) (2.28.0)\n",
            "Requirement already satisfied: setproctitle in /usr/local/lib/python3.11/dist-packages (from wandb->avalanche-lib) (1.3.6)\n",
            "Requirement already satisfied: gitdb<5,>=4.0.1 in /usr/local/lib/python3.11/dist-packages (from gitpython!=3.1.29,>=1.0.0->wandb->avalanche-lib) (4.0.12)\n",
            "Requirement already satisfied: annotated-types>=0.6.0 in /usr/local/lib/python3.11/dist-packages (from pydantic<3->wandb->avalanche-lib) (0.7.0)\n",
            "Requirement already satisfied: pydantic-core==2.33.2 in /usr/local/lib/python3.11/dist-packages (from pydantic<3->wandb->avalanche-lib) (2.33.2)\n",
            "Requirement already satisfied: typing-inspection>=0.4.0 in /usr/local/lib/python3.11/dist-packages (from pydantic<3->wandb->avalanche-lib) (0.4.0)\n",
            "Requirement already satisfied: charset-normalizer<4,>=2 in /usr/local/lib/python3.11/dist-packages (from requests[socks]->gdown->avalanche-lib) (3.4.2)\n",
            "Requirement already satisfied: idna<4,>=2.5 in /usr/local/lib/python3.11/dist-packages (from requests[socks]->gdown->avalanche-lib) (3.10)\n",
            "Requirement already satisfied: urllib3<3,>=1.21.1 in /usr/local/lib/python3.11/dist-packages (from requests[socks]->gdown->avalanche-lib) (2.4.0)\n",
            "Requirement already satisfied: certifi>=2017.4.17 in /usr/local/lib/python3.11/dist-packages (from requests[socks]->gdown->avalanche-lib) (2025.4.26)\n",
            "Requirement already satisfied: MarkupSafe>=2.1.1 in /usr/local/lib/python3.11/dist-packages (from werkzeug>=1.0.1->tensorboard>=1.15->avalanche-lib) (3.0.2)\n",
            "Requirement already satisfied: soupsieve>1.2 in /usr/local/lib/python3.11/dist-packages (from beautifulsoup4->gdown->avalanche-lib) (2.7)\n",
            "Requirement already satisfied: clarabel>=0.4.1 in /usr/local/lib/python3.11/dist-packages (from qpsolvers[open_source_solvers]->avalanche-lib) (0.10.0)\n",
            "Requirement already satisfied: cvxopt>=1.2.6 in /usr/local/lib/python3.11/dist-packages (from qpsolvers[open_source_solvers]->avalanche-lib) (1.3.2)\n",
            "Collecting daqp>=0.5.1 (from qpsolvers[open_source_solvers]->avalanche-lib)\n",
            "  Downloading daqp-0.7.1-cp311-cp311-manylinux_2_17_x86_64.manylinux2014_x86_64.whl.metadata (1.4 kB)\n",
            "Collecting ecos>=2.0.8 (from qpsolvers[open_source_solvers]->avalanche-lib)\n",
            "  Downloading ecos-2.0.14-cp311-cp311-manylinux_2_17_x86_64.manylinux2014_x86_64.whl.metadata (8.0 kB)\n",
            "Requirement already satisfied: highspy>=1.1.2.dev3 in /usr/local/lib/python3.11/dist-packages (from qpsolvers[open_source_solvers]->avalanche-lib) (1.10.0)\n",
            "Collecting jaxopt>=0.8.3 (from qpsolvers[open_source_solvers]->avalanche-lib)\n",
            "  Downloading jaxopt-0.8.5-py3-none-any.whl.metadata (3.3 kB)\n",
            "Requirement already satisfied: osqp>=0.6.2 in /usr/local/lib/python3.11/dist-packages (from qpsolvers[open_source_solvers]->avalanche-lib) (1.0.4)\n",
            "Collecting piqp>=0.2.2 (from qpsolvers[open_source_solvers]->avalanche-lib)\n",
            "  Downloading piqp-0.5.0-cp311-cp311-manylinux_2_17_x86_64.manylinux2014_x86_64.whl.metadata (5.2 kB)\n",
            "Collecting proxsuite>=0.2.9 (from qpsolvers[open_source_solvers]->avalanche-lib)\n",
            "  Downloading proxsuite-0.7.2-0-cp311-cp311-manylinux_2_17_x86_64.whl.metadata (12 kB)\n",
            "Collecting qpalm>=1.2.1 (from qpsolvers[open_source_solvers]->avalanche-lib)\n",
            "  Downloading qpalm-1.2.5-cp311-cp311-manylinux_2_17_x86_64.whl.metadata (13 kB)\n",
            "Collecting qpax>=0.0.9 (from qpsolvers[open_source_solvers]->avalanche-lib)\n",
            "  Downloading qpax-0.0.9-py3-none-any.whl.metadata (4.7 kB)\n",
            "Collecting quadprog>=0.1.11 (from qpsolvers[open_source_solvers]->avalanche-lib)\n",
            "  Downloading quadprog-0.1.13-cp311-cp311-manylinux_2_17_x86_64.manylinux2014_x86_64.whl.metadata (1.2 kB)\n",
            "Requirement already satisfied: scs>=3.2.0 in /usr/local/lib/python3.11/dist-packages (from qpsolvers[open_source_solvers]->avalanche-lib) (3.2.7.post2)\n",
            "Collecting sip-python>=0.0.2 (from qpsolvers[open_source_solvers]->avalanche-lib)\n",
            "  Downloading sip_python-0.0.2-cp311-cp311-manylinux_2_27_x86_64.manylinux_2_28_x86_64.whl.metadata (935 bytes)\n",
            "Requirement already satisfied: PySocks!=1.5.7,>=1.5.6 in /usr/local/lib/python3.11/dist-packages (from requests[socks]->gdown->avalanche-lib) (1.7.1)\n",
            "Requirement already satisfied: smmap<6,>=3.0.1 in /usr/local/lib/python3.11/dist-packages (from gitdb<5,>=4.0.1->gitpython!=3.1.29,>=1.0.0->wandb->avalanche-lib) (5.0.2)\n",
            "Requirement already satisfied: jax>=0.2.18 in /usr/local/lib/python3.11/dist-packages (from jaxopt>=0.8.3->qpsolvers[open_source_solvers]->avalanche-lib) (0.5.2)\n",
            "Requirement already satisfied: jaxlib>=0.1.69 in /usr/local/lib/python3.11/dist-packages (from jaxopt>=0.8.3->qpsolvers[open_source_solvers]->avalanche-lib) (0.5.1)\n",
            "Collecting cmeel (from proxsuite>=0.2.9->qpsolvers[open_source_solvers]->avalanche-lib)\n",
            "  Downloading cmeel-0.57.3-py3-none-any.whl.metadata (4.7 kB)\n",
            "Requirement already satisfied: ml_dtypes>=0.4.0 in /usr/local/lib/python3.11/dist-packages (from jax>=0.2.18->jaxopt>=0.8.3->qpsolvers[open_source_solvers]->avalanche-lib) (0.4.1)\n",
            "Requirement already satisfied: opt_einsum in /usr/local/lib/python3.11/dist-packages (from jax>=0.2.18->jaxopt>=0.8.3->qpsolvers[open_source_solvers]->avalanche-lib) (3.4.0)\n",
            "Downloading avalanche_lib-0.6.0-py3-none-any.whl (993 kB)\n",
            "\u001b[2K   \u001b[90m━━━━━━━━━━━━━━━━━━━━━━━━━━━━━━━━━━━━━━━━\u001b[0m \u001b[32m993.4/993.4 kB\u001b[0m \u001b[31m18.8 MB/s\u001b[0m eta \u001b[36m0:00:00\u001b[0m\n",
            "\u001b[?25hDownloading pytorchcv-0.0.73-py2.py3-none-any.whl (585 kB)\n",
            "\u001b[2K   \u001b[90m━━━━━━━━━━━━━━━━━━━━━━━━━━━━━━━━━━━━━━━━\u001b[0m \u001b[32m585.2/585.2 kB\u001b[0m \u001b[31m16.9 MB/s\u001b[0m eta \u001b[36m0:00:00\u001b[0m\n",
            "\u001b[?25hDownloading nvidia_cublas_cu12-12.4.5.8-py3-none-manylinux2014_x86_64.whl (363.4 MB)\n",
            "\u001b[2K   \u001b[90m━━━━━━━━━━━━━━━━━━━━━━━━━━━━━━━━━━━━━━━━\u001b[0m \u001b[32m363.4/363.4 MB\u001b[0m \u001b[31m3.7 MB/s\u001b[0m eta \u001b[36m0:00:00\u001b[0m\n",
            "\u001b[?25hDownloading nvidia_cuda_cupti_cu12-12.4.127-py3-none-manylinux2014_x86_64.whl (13.8 MB)\n",
            "\u001b[2K   \u001b[90m━━━━━━━━━━━━━━━━━━━━━━━━━━━━━━━━━━━━━━━━\u001b[0m \u001b[32m13.8/13.8 MB\u001b[0m \u001b[31m65.0 MB/s\u001b[0m eta \u001b[36m0:00:00\u001b[0m\n",
            "\u001b[?25hDownloading nvidia_cuda_nvrtc_cu12-12.4.127-py3-none-manylinux2014_x86_64.whl (24.6 MB)\n",
            "\u001b[2K   \u001b[90m━━━━━━━━━━━━━━━━━━━━━━━━━━━━━━━━━━━━━━━━\u001b[0m \u001b[32m24.6/24.6 MB\u001b[0m \u001b[31m23.7 MB/s\u001b[0m eta \u001b[36m0:00:00\u001b[0m\n",
            "\u001b[?25hDownloading nvidia_cuda_runtime_cu12-12.4.127-py3-none-manylinux2014_x86_64.whl (883 kB)\n",
            "\u001b[2K   \u001b[90m━━━━━━━━━━━━━━━━━━━━━━━━━━━━━━━━━━━━━━━━\u001b[0m \u001b[32m883.7/883.7 kB\u001b[0m \u001b[31m21.3 MB/s\u001b[0m eta \u001b[36m0:00:00\u001b[0m\n",
            "\u001b[?25hDownloading nvidia_cudnn_cu12-9.1.0.70-py3-none-manylinux2014_x86_64.whl (664.8 MB)\n",
            "\u001b[2K   \u001b[90m━━━━━━━━━━━━━━━━━━━━━━━━━━━━━━━━━━━━━━━━\u001b[0m \u001b[32m664.8/664.8 MB\u001b[0m \u001b[31m2.8 MB/s\u001b[0m eta \u001b[36m0:00:00\u001b[0m\n",
            "\u001b[?25hDownloading nvidia_cufft_cu12-11.2.1.3-py3-none-manylinux2014_x86_64.whl (211.5 MB)\n",
            "\u001b[2K   \u001b[90m━━━━━━━━━━━━━━━━━━━━━━━━━━━━━━━━━━━━━━━━\u001b[0m \u001b[32m211.5/211.5 MB\u001b[0m \u001b[31m5.8 MB/s\u001b[0m eta \u001b[36m0:00:00\u001b[0m\n",
            "\u001b[?25hDownloading nvidia_curand_cu12-10.3.5.147-py3-none-manylinux2014_x86_64.whl (56.3 MB)\n",
            "\u001b[2K   \u001b[90m━━━━━━━━━━━━━━━━━━━━━━━━━━━━━━━━━━━━━━━━\u001b[0m \u001b[32m56.3/56.3 MB\u001b[0m \u001b[31m12.3 MB/s\u001b[0m eta \u001b[36m0:00:00\u001b[0m\n",
            "\u001b[?25hDownloading nvidia_cusolver_cu12-11.6.1.9-py3-none-manylinux2014_x86_64.whl (127.9 MB)\n",
            "\u001b[2K   \u001b[90m━━━━━━━━━━━━━━━━━━━━━━━━━━━━━━━━━━━━━━━━\u001b[0m \u001b[32m127.9/127.9 MB\u001b[0m \u001b[31m7.4 MB/s\u001b[0m eta \u001b[36m0:00:00\u001b[0m\n",
            "\u001b[?25hDownloading nvidia_cusparse_cu12-12.3.1.170-py3-none-manylinux2014_x86_64.whl (207.5 MB)\n",
            "\u001b[2K   \u001b[90m━━━━━━━━━━━━━━━━━━━━━━━━━━━━━━━━━━━━━━━━\u001b[0m \u001b[32m207.5/207.5 MB\u001b[0m \u001b[31m6.2 MB/s\u001b[0m eta \u001b[36m0:00:00\u001b[0m\n",
            "\u001b[?25hDownloading nvidia_nvjitlink_cu12-12.4.127-py3-none-manylinux2014_x86_64.whl (21.1 MB)\n",
            "\u001b[2K   \u001b[90m━━━━━━━━━━━━━━━━━━━━━━━━━━━━━━━━━━━━━━━━\u001b[0m \u001b[32m21.1/21.1 MB\u001b[0m \u001b[31m81.3 MB/s\u001b[0m eta \u001b[36m0:00:00\u001b[0m\n",
            "\u001b[?25hDownloading torchmetrics-1.7.1-py3-none-any.whl (961 kB)\n",
            "\u001b[2K   \u001b[90m━━━━━━━━━━━━━━━━━━━━━━━━━━━━━━━━━━━━━━━━\u001b[0m \u001b[32m961.5/961.5 kB\u001b[0m \u001b[31m43.3 MB/s\u001b[0m eta \u001b[36m0:00:00\u001b[0m\n",
            "\u001b[?25hDownloading lightning_utilities-0.14.3-py3-none-any.whl (28 kB)\n",
            "Downloading qpsolvers-4.7.0-py3-none-any.whl (91 kB)\n",
            "\u001b[2K   \u001b[90m━━━━━━━━━━━━━━━━━━━━━━━━━━━━━━━━━━━━━━━━\u001b[0m \u001b[32m91.7/91.7 kB\u001b[0m \u001b[31m4.1 MB/s\u001b[0m eta \u001b[36m0:00:00\u001b[0m\n",
            "\u001b[?25hDownloading daqp-0.7.1-cp311-cp311-manylinux_2_17_x86_64.manylinux2014_x86_64.whl (594 kB)\n",
            "\u001b[2K   \u001b[90m━━━━━━━━━━━━━━━━━━━━━━━━━━━━━━━━━━━━━━━━\u001b[0m \u001b[32m594.5/594.5 kB\u001b[0m \u001b[31m29.7 MB/s\u001b[0m eta \u001b[36m0:00:00\u001b[0m\n",
            "\u001b[?25hDownloading ecos-2.0.14-cp311-cp311-manylinux_2_17_x86_64.manylinux2014_x86_64.whl (220 kB)\n",
            "\u001b[2K   \u001b[90m━━━━━━━━━━━━━━━━━━━━━━━━━━━━━━━━━━━━━━━━\u001b[0m \u001b[32m220.1/220.1 kB\u001b[0m \u001b[31m15.6 MB/s\u001b[0m eta \u001b[36m0:00:00\u001b[0m\n",
            "\u001b[?25hDownloading jaxopt-0.8.5-py3-none-any.whl (172 kB)\n",
            "\u001b[2K   \u001b[90m━━━━━━━━━━━━━━━━━━━━━━━━━━━━━━━━━━━━━━━━\u001b[0m \u001b[32m172.4/172.4 kB\u001b[0m \u001b[31m12.8 MB/s\u001b[0m eta \u001b[36m0:00:00\u001b[0m\n",
            "\u001b[?25hDownloading piqp-0.5.0-cp311-cp311-manylinux_2_17_x86_64.manylinux2014_x86_64.whl (2.1 MB)\n",
            "\u001b[2K   \u001b[90m━━━━━━━━━━━━━━━━━━━━━━━━━━━━━━━━━━━━━━━━\u001b[0m \u001b[32m2.1/2.1 MB\u001b[0m \u001b[31m59.2 MB/s\u001b[0m eta \u001b[36m0:00:00\u001b[0m\n",
            "\u001b[?25hDownloading proxsuite-0.7.2-0-cp311-cp311-manylinux_2_17_x86_64.whl (1.6 MB)\n",
            "\u001b[2K   \u001b[90m━━━━━━━━━━━━━━━━━━━━━━━━━━━━━━━━━━━━━━━━\u001b[0m \u001b[32m1.6/1.6 MB\u001b[0m \u001b[31m55.9 MB/s\u001b[0m eta \u001b[36m0:00:00\u001b[0m\n",
            "\u001b[?25hDownloading qpalm-1.2.5-cp311-cp311-manylinux_2_17_x86_64.whl (1.4 MB)\n",
            "\u001b[2K   \u001b[90m━━━━━━━━━━━━━━━━━━━━━━━━━━━━━━━━━━━━━━━━\u001b[0m \u001b[32m1.4/1.4 MB\u001b[0m \u001b[31m49.3 MB/s\u001b[0m eta \u001b[36m0:00:00\u001b[0m\n",
            "\u001b[?25hDownloading qpax-0.0.9-py3-none-any.whl (11 kB)\n",
            "Downloading quadprog-0.1.13-cp311-cp311-manylinux_2_17_x86_64.manylinux2014_x86_64.whl (548 kB)\n",
            "\u001b[2K   \u001b[90m━━━━━━━━━━━━━━━━━━━━━━━━━━━━━━━━━━━━━━━━\u001b[0m \u001b[32m548.4/548.4 kB\u001b[0m \u001b[31m29.7 MB/s\u001b[0m eta \u001b[36m0:00:00\u001b[0m\n",
            "\u001b[?25hDownloading sip_python-0.0.2-cp311-cp311-manylinux_2_27_x86_64.manylinux_2_28_x86_64.whl (166 kB)\n",
            "\u001b[2K   \u001b[90m━━━━━━━━━━━━━━━━━━━━━━━━━━━━━━━━━━━━━━━━\u001b[0m \u001b[32m166.5/166.5 kB\u001b[0m \u001b[31m11.0 MB/s\u001b[0m eta \u001b[36m0:00:00\u001b[0m\n",
            "\u001b[?25hDownloading cmeel-0.57.3-py3-none-any.whl (20 kB)\n",
            "Building wheels for collected packages: gputil\n",
            "  Building wheel for gputil (setup.py) ... \u001b[?25l\u001b[?25hdone\n",
            "  Created wheel for gputil: filename=GPUtil-1.4.0-py3-none-any.whl size=7392 sha256=2db2fd76d5ff7673e54f8b4e633f74207e7b1230aec284830530cd5a839f8363\n",
            "  Stored in directory: /root/.cache/pip/wheels/2b/4d/8f/55fb4f7b9b591891e8d3f72977c4ec6c7763b39c19f0861595\n",
            "Successfully built gputil\n",
            "Installing collected packages: gputil, daqp, quadprog, piqp, nvidia-nvjitlink-cu12, nvidia-curand-cu12, nvidia-cufft-cu12, nvidia-cuda-runtime-cu12, nvidia-cuda-nvrtc-cu12, nvidia-cuda-cupti-cu12, nvidia-cublas-cu12, lightning-utilities, cmeel, sip-python, qpsolvers, qpalm, proxsuite, nvidia-cusparse-cu12, nvidia-cudnn-cu12, ecos, nvidia-cusolver-cu12, qpax, jaxopt, torchmetrics, pytorchcv, avalanche-lib\n",
            "  Attempting uninstall: nvidia-nvjitlink-cu12\n",
            "    Found existing installation: nvidia-nvjitlink-cu12 12.5.82\n",
            "    Uninstalling nvidia-nvjitlink-cu12-12.5.82:\n",
            "      Successfully uninstalled nvidia-nvjitlink-cu12-12.5.82\n",
            "  Attempting uninstall: nvidia-curand-cu12\n",
            "    Found existing installation: nvidia-curand-cu12 10.3.6.82\n",
            "    Uninstalling nvidia-curand-cu12-10.3.6.82:\n",
            "      Successfully uninstalled nvidia-curand-cu12-10.3.6.82\n",
            "  Attempting uninstall: nvidia-cufft-cu12\n",
            "    Found existing installation: nvidia-cufft-cu12 11.2.3.61\n",
            "    Uninstalling nvidia-cufft-cu12-11.2.3.61:\n",
            "      Successfully uninstalled nvidia-cufft-cu12-11.2.3.61\n",
            "  Attempting uninstall: nvidia-cuda-runtime-cu12\n",
            "    Found existing installation: nvidia-cuda-runtime-cu12 12.5.82\n",
            "    Uninstalling nvidia-cuda-runtime-cu12-12.5.82:\n",
            "      Successfully uninstalled nvidia-cuda-runtime-cu12-12.5.82\n",
            "  Attempting uninstall: nvidia-cuda-nvrtc-cu12\n",
            "    Found existing installation: nvidia-cuda-nvrtc-cu12 12.5.82\n",
            "    Uninstalling nvidia-cuda-nvrtc-cu12-12.5.82:\n",
            "      Successfully uninstalled nvidia-cuda-nvrtc-cu12-12.5.82\n",
            "  Attempting uninstall: nvidia-cuda-cupti-cu12\n",
            "    Found existing installation: nvidia-cuda-cupti-cu12 12.5.82\n",
            "    Uninstalling nvidia-cuda-cupti-cu12-12.5.82:\n",
            "      Successfully uninstalled nvidia-cuda-cupti-cu12-12.5.82\n",
            "  Attempting uninstall: nvidia-cublas-cu12\n",
            "    Found existing installation: nvidia-cublas-cu12 12.5.3.2\n",
            "    Uninstalling nvidia-cublas-cu12-12.5.3.2:\n",
            "      Successfully uninstalled nvidia-cublas-cu12-12.5.3.2\n",
            "  Attempting uninstall: nvidia-cusparse-cu12\n",
            "    Found existing installation: nvidia-cusparse-cu12 12.5.1.3\n",
            "    Uninstalling nvidia-cusparse-cu12-12.5.1.3:\n",
            "      Successfully uninstalled nvidia-cusparse-cu12-12.5.1.3\n",
            "  Attempting uninstall: nvidia-cudnn-cu12\n",
            "    Found existing installation: nvidia-cudnn-cu12 9.3.0.75\n",
            "    Uninstalling nvidia-cudnn-cu12-9.3.0.75:\n",
            "      Successfully uninstalled nvidia-cudnn-cu12-9.3.0.75\n",
            "  Attempting uninstall: nvidia-cusolver-cu12\n",
            "    Found existing installation: nvidia-cusolver-cu12 11.6.3.83\n",
            "    Uninstalling nvidia-cusolver-cu12-11.6.3.83:\n",
            "      Successfully uninstalled nvidia-cusolver-cu12-11.6.3.83\n",
            "Successfully installed avalanche-lib-0.6.0 cmeel-0.57.3 daqp-0.7.1 ecos-2.0.14 gputil-1.4.0 jaxopt-0.8.5 lightning-utilities-0.14.3 nvidia-cublas-cu12-12.4.5.8 nvidia-cuda-cupti-cu12-12.4.127 nvidia-cuda-nvrtc-cu12-12.4.127 nvidia-cuda-runtime-cu12-12.4.127 nvidia-cudnn-cu12-9.1.0.70 nvidia-cufft-cu12-11.2.1.3 nvidia-curand-cu12-10.3.5.147 nvidia-cusolver-cu12-11.6.1.9 nvidia-cusparse-cu12-12.3.1.170 nvidia-nvjitlink-cu12-12.4.127 piqp-0.5.0 proxsuite-0.7.2 pytorchcv-0.0.73 qpalm-1.2.5 qpax-0.0.9 qpsolvers-4.7.0 quadprog-0.1.13 sip-python-0.0.2 torchmetrics-1.7.1\n"
          ]
        }
      ],
      "source": [
        "# !pip install scikit-learn==1.6.1\n",
        "!pip install avalanche-lib"
      ]
    },
    {
      "cell_type": "markdown",
      "metadata": {
        "id": "XppDRQ3bk5hU"
      },
      "source": [
        " - Life Lone Learning\n",
        " - Elastic Weight Consolidation (EWC)\n",
        "    - [教學](https://www.kaggle.com/code/hughiephan/elastic-weight-consolidation-on-minst)\n",
        "    - [Paper](https://arxiv.org/pdf/1612.00796)\n",
        "    - 公式 $\\mathcal{L}(\\theta) = \\mathcal{L}_B(\\theta) + \\frac\\lambda2\\sum^n_{i=1}F_i(\\theta_i - \\theta^*_{A,i})^2$\n",
        "        - B是指目前任務，A是指前一個任務\n",
        " - [教學2](https://github.com/ContinualAI/colab/blob/master/notebooks/intro_to_continual_learning.ipynb)"
      ]
    },
    {
      "cell_type": "code",
      "source": [
        "!rm -rf img\n",
        "!mkdir img"
      ],
      "metadata": {
        "id": "VncpI4aJElsK"
      },
      "execution_count": 2,
      "outputs": []
    },
    {
      "cell_type": "code",
      "execution_count": 3,
      "metadata": {
        "id": "UhuyOT2bk5hf"
      },
      "outputs": [],
      "source": [
        "import torch\n",
        "from torch import nn\n",
        "from torchvision.transforms import Compose, ToTensor, Normalize, RandomRotation, Lambda\n",
        "import numpy as np\n",
        "from torchvision.datasets import MNIST\n",
        "from torch.utils.data import DataLoader\n",
        "import matplotlib.pyplot as plt\n",
        "from torch.nn import CrossEntropyLoss\n",
        "from torch.optim import Adam, SGD\n",
        "from torch.utils.data import Dataset, WeightedRandomSampler\n",
        "from torch.nn.functional import cross_entropy\n",
        "from torch.utils.data import Subset, ConcatDataset\n",
        "import sklearn\n",
        "from avalanche.benchmarks import RotatedMNIST, PermutedMNIST\n",
        "from itertools import islice\n",
        "import cv2"
      ]
    },
    {
      "cell_type": "code",
      "execution_count": 4,
      "metadata": {
        "colab": {
          "base_uri": "https://localhost:8080/"
        },
        "id": "qRqmyS0BuSas",
        "outputId": "34b08f3e-f19d-4d84-ac6b-7eb5df2081d8"
      },
      "outputs": [
        {
          "output_type": "stream",
          "name": "stdout",
          "text": [
            "Important Library Version\n",
            "sklearn 1.6.1\n",
            "pytorch 2.6.0+cu124\n",
            "numpy 2.0.2\n"
          ]
        }
      ],
      "source": [
        "print('Important Library Version')\n",
        "print('sklearn', sklearn.__version__)\n",
        "print('pytorch', torch.__version__)\n",
        "print('numpy', np.__version__)"
      ]
    },
    {
      "cell_type": "code",
      "execution_count": 5,
      "metadata": {
        "id": "94RH4vi9k5hl"
      },
      "outputs": [],
      "source": [
        "device = 'cuda' if torch.cuda.is_available() else 'cpu'"
      ]
    },
    {
      "cell_type": "code",
      "execution_count": 6,
      "metadata": {
        "colab": {
          "base_uri": "https://localhost:8080/"
        },
        "id": "Z-B-aXy2jqrp",
        "outputId": "5021b944-d3a0-4964-bfe2-b169b068ae9d"
      },
      "outputs": [
        {
          "output_type": "execute_result",
          "data": {
            "text/plain": [
              "<torch._C.Generator at 0x7d8a6c787e30>"
            ]
          },
          "metadata": {},
          "execution_count": 6
        }
      ],
      "source": [
        "import random\n",
        "\n",
        "seed = 1\n",
        "torch.manual_seed(seed)\n",
        "torch.cuda.manual_seed(seed)\n",
        "torch.cuda.manual_seed_all(seed)\n",
        "np.random.seed(seed)\n",
        "random.seed(seed)\n",
        "torch.backends.cudnn.deterministic = True  # 確保 CuDNN 使用確定性算法\n",
        "torch.backends.cudnn.benchmark = False  # 禁止自適應選擇最佳內核，確保結果可重現\n",
        "torch.set_float32_matmul_precision('high')\n",
        "\n",
        "torch_gen = torch.Generator()\n",
        "torch_gen.manual_seed(seed)"
      ]
    },
    {
      "cell_type": "code",
      "execution_count": 7,
      "metadata": {
        "id": "9X79v2Vik5hn"
      },
      "outputs": [],
      "source": [
        "batch_size = 256\n",
        "epochs = 10\n",
        "task = 3"
      ]
    },
    {
      "cell_type": "code",
      "execution_count": 8,
      "metadata": {
        "id": "UOSuVhRauSat"
      },
      "outputs": [],
      "source": [
        "avalanche_list = [0, 5923, 12665, 18623, 24754, 30596, 36017, 41935, 48200, 54051, 60000]"
      ]
    },
    {
      "cell_type": "markdown",
      "metadata": {
        "id": "EBx54sk3k5ho"
      },
      "source": [
        " - [ToTensor](https://pytorch.org/vision/main/generated/torchvision.transforms.ToTensor.html)"
      ]
    },
    {
      "cell_type": "code",
      "execution_count": 9,
      "metadata": {
        "id": "3RaqT68xuSat",
        "colab": {
          "base_uri": "https://localhost:8080/"
        },
        "outputId": "974dc15a-0d22-4611-827f-69bc96f85fb0"
      },
      "outputs": [
        {
          "output_type": "stream",
          "name": "stderr",
          "text": [
            "100%|██████████| 9.91M/9.91M [00:00<00:00, 17.9MB/s]\n",
            "100%|██████████| 28.9k/28.9k [00:00<00:00, 484kB/s]\n",
            "100%|██████████| 1.65M/1.65M [00:00<00:00, 3.86MB/s]\n",
            "100%|██████████| 4.54k/4.54k [00:00<00:00, 7.95MB/s]\n"
          ]
        }
      ],
      "source": [
        "benchmark = RotatedMNIST( # RotatedMNIST, PermutedMNIST\n",
        "    n_experiences=task,\n",
        "    seed=seed,\n",
        "    rotations_list=[0, 45, 90],\n",
        "    # train_transform=Compose([Normalize(mean=[0.0], std=[1])]),\n",
        "    # eval_transform=Compose([Normalize(mean=[0.0], std=[1])]),\n",
        ")\n",
        "train_stream = benchmark.train_stream\n",
        "test_stream = benchmark.test_stream"
      ]
    },
    {
      "cell_type": "markdown",
      "metadata": {
        "id": "49awsC0HuSau"
      },
      "source": [
        "## Data"
      ]
    },
    {
      "cell_type": "code",
      "execution_count": 10,
      "metadata": {
        "id": "ObIdwtPo9Dop"
      },
      "outputs": [],
      "source": [
        "class SortedMNIST(Dataset):\n",
        "  def __init__(self, task_num=None, train_stream=None, test_stream=None, train=True):\n",
        "    super().__init__()\n",
        "    if task_num == None or train_stream == None or test_stream == None:\n",
        "        raise ValueError('Can\\'t be None!')\n",
        "    if train:\n",
        "        self.data = [img for img, y, t in train_stream[task_num].dataset]\n",
        "        self.target = [y for img, y, t in train_stream[task_num].dataset]\n",
        "    else:\n",
        "        self.data = [img for img, y, t in test_stream[task_num].dataset]\n",
        "        self.target = [y for img, y, t in test_stream[task_num].dataset]\n",
        "    self.data = np.array(self.data)\n",
        "    self.target = np.array(self.target)\n",
        "    '''\n",
        "    sorted_idx = np.argsort(self.target)\n",
        "    self.data = self.data[sorted_idx]\n",
        "    self.target = self.target[sorted_idx]\n",
        "    '''\n",
        "    self.data = torch.from_numpy(self.data)\n",
        "    self.target = torch.from_numpy(self.target)\n",
        "  def __getitem__(self, index):\n",
        "    return self.data[index], self.target[index]\n",
        "  def __len__(self):\n",
        "    return len(self.data)"
      ]
    },
    {
      "cell_type": "code",
      "execution_count": 11,
      "metadata": {
        "id": "NI9Ag4bZk5hs"
      },
      "outputs": [],
      "source": [
        "# preprocessing\n",
        "# train_task_1 = FashionMNIST('data', train=True, transform=trans_compose(0), download=True)\n",
        "# train_task_2 = FashionMNIST('data', train=True, transform=trans_compose(1), download=True)\n",
        "\n",
        "# test_task_1 = SortedMNIST(task_num=0, train_stream=train_stream, test_stream=test_stream, train=False)\n",
        "# test_task_2 = SortedMNIST(task_num=1, train_stream=train_stream, test_stream=test_stream, train=False)\n",
        "\n",
        "# task_1_loader = DataLoader(test_task_1, batch_size=128, pin_memory=True, generator=torch_gen)\n",
        "# task_2_loader = DataLoader(test_task_2, batch_size=128, pin_memory=True, generator=torch_gen)\n",
        "\n",
        "test_task = []\n",
        "task_loader = []\n",
        "for i in range(task):\n",
        "    data = SortedMNIST(task_num=i, train_stream=train_stream, test_stream=test_stream, train=False)\n",
        "    test_task.append(data)\n",
        "\n",
        "    loader = DataLoader(test_task[-1], batch_size=128, pin_memory=True, generator=torch_gen)\n",
        "    task_loader.append(loader)"
      ]
    },
    {
      "cell_type": "markdown",
      "metadata": {
        "id": "tRTIYJ61uSau"
      },
      "source": [
        "## Model"
      ]
    },
    {
      "cell_type": "code",
      "execution_count": 12,
      "metadata": {
        "id": "LZgJ3swik5hu"
      },
      "outputs": [],
      "source": [
        "class Module(nn.Module):\n",
        "    def __init__(self):\n",
        "        super(Module, self).__init__()\n",
        "        '''\n",
        "        self.classifier = nn.Sequential(\n",
        "            nn.Conv2d(1, 10, kernel_size=5),\n",
        "            nn.MaxPool2d(2),\n",
        "            nn.ReLU(),\n",
        "            nn.Conv2d(10, 20, kernel_size=5),\n",
        "            nn.Dropout2d(),\n",
        "            nn.MaxPool2d(2),\n",
        "            nn.ReLU(),\n",
        "        )\n",
        "        self.dense = nn.Sequential(\n",
        "            nn.Linear(320, 50),\n",
        "            nn.ReLU(),\n",
        "            nn.Dropout(),\n",
        "            nn.Linear(50, 10)\n",
        "        )\n",
        "        '''\n",
        "        self.net = nn.Sequential(\n",
        "            nn.Flatten(),\n",
        "            nn.Linear(784, 512),\n",
        "            nn.ReLU(),\n",
        "            # nn.Linear(400, 400),\n",
        "            # nn.ReLU(),\n",
        "        )\n",
        "        self.linear = nn.Linear(512, 10)\n",
        "    def forward(self, X):\n",
        "        # return self.dense(self.classifier(X).view(-1, 320))\n",
        "        X = self.net(X)\n",
        "        return X, self.linear(X)"
      ]
    },
    {
      "cell_type": "code",
      "execution_count": 13,
      "metadata": {
        "id": "axycQmLzuSau"
      },
      "outputs": [],
      "source": [
        "# from torchsummary import summary\n",
        "# summary(model, (1, 28, 28))"
      ]
    },
    {
      "cell_type": "code",
      "execution_count": 14,
      "metadata": {
        "id": "88JA_UYpk5hu"
      },
      "outputs": [],
      "source": [
        "def evaluate(model, dataloader, num_data, num_task=-1):\n",
        "    if num_task < 0: raise ValueError(\"Task Number is Missing\")\n",
        "\n",
        "    test_acc = 0\n",
        "    test_loss = 0\n",
        "    with torch.no_grad():\n",
        "        model.eval()\n",
        "        for data in dataloader:\n",
        "            img, label = data\n",
        "            img, label = img.to(device), label.to(device).long()\n",
        "            _, output = model(img)\n",
        "            test_loss += cross_entropy(output, label)\n",
        "            test_acc += (output.argmax(1) == label).sum()\n",
        "    print('\\033[33m' +\n",
        "          f'Task {num_task} Acc: {test_acc / num_data: .4f}, Loss: {test_loss / num_data: .4f}' +\n",
        "          '\\033[0m')\n",
        "    return test_acc / num_data # return accuracy for calculate ACC, BWT"
      ]
    },
    {
      "cell_type": "markdown",
      "metadata": {
        "id": "_Z5flNTqk5hw"
      },
      "source": [
        "## Fisher\n",
        " - Fisher Matrix\n",
        "     - 儲存權重對模型重要性\n",
        "     - 計算方法\n",
        "         - [LINK](https://github.com/db434/EWC)\n",
        "             - 這個版本是**取樣** $\\rightarrow$ 計算梯度\n",
        "         - 這邊的範例程式碼是直接**整個資料**來計算梯度\n",
        "         - 公式\n",
        "             - $F_j = \\frac1m \\sum^m_{i=1}(\\frac{\\partial \\log (P(x_i|\\theta_j))}{\\partial \\theta_j})^2$"
      ]
    },
    {
      "cell_type": "code",
      "execution_count": 15,
      "metadata": {
        "id": "HwbHKxPLk5hx"
      },
      "outputs": [],
      "source": [
        "# EWC\n",
        "optim_para = {}\n",
        "fisher_matrix = {}\n",
        "ewc_lambda = 1\n",
        "\n",
        "def record_parameter(model, train_data, optimizer, num_task=-1):\n",
        "    if num_task < 0: raise ValueError(\"Task Number is Missing\")\n",
        "    global optim_para, fisher_matrix, ewc_lambda\n",
        "    train_loader = DataLoader(train_data, batch_size=batch_size, shuffle=True, pin_memory=True, generator=torch_gen)\n",
        "    model.train()\n",
        "    optimizer.zero_grad()\n",
        "\n",
        "    fisher_matrix[num_task] = {}\n",
        "    optim_para[num_task] = {}\n",
        "\n",
        "    # Initialize Fisher Matrix\n",
        "    for name, param in model.named_parameters():\n",
        "        fisher_matrix[num_task][name] = torch.zeros_like(param.data)\n",
        "\n",
        "    # idx = 0\n",
        "    # bound = ((60000//batch_size)*1)//1\n",
        "    # record_label = np.array([], dtype=int)\n",
        "    # print('Bound is', bound, 'times')\n",
        "    # Calculate Fisher Matrix\n",
        "    for data in train_loader:\n",
        "        # if idx == bound: break\n",
        "        # else: idx += 1\n",
        "\n",
        "        img, label = data\n",
        "        img, label = img.to(device), label.to(device).long()\n",
        "\n",
        "        # flag\n",
        "        # record_label = np.append(record_label, label.cpu().numpy())\n",
        "        _, output = model(img)\n",
        "        output_loss = cross_entropy(output, label)\n",
        "        output_loss.backward()\n",
        "\n",
        "        for name, param in model.named_parameters():\n",
        "            if param.grad is not None:\n",
        "                fisher_matrix[num_task][name] += param.grad.data.clone().pow(2)\n",
        "    # print('Number of Digits after Sampling', np.bincount(record_label)) # flag\n",
        "    # Average Fisher Matrix\n",
        "    for name, param in model.named_parameters():\n",
        "        fisher_matrix[num_task][name] /= len(train_loader) #idx\n",
        "\n",
        "    # Save optimal parameters\n",
        "    for name, param in model.named_parameters():\n",
        "        optim_para[num_task][name] = param.data.clone()"
      ]
    },
    {
      "cell_type": "markdown",
      "metadata": {
        "id": "cCkzYVpHgBBv"
      },
      "source": [
        "## Exempler"
      ]
    },
    {
      "cell_type": "code",
      "execution_count": 16,
      "metadata": {
        "id": "5ocWoDsGATWB"
      },
      "outputs": [],
      "source": [
        "def get_confid_and_outcome(dataloader, model):\n",
        "  global device\n",
        "  confidence = torch.tensor([], dtype=torch.float32, device=device)\n",
        "  prediction = torch.tensor([], dtype=bool, device=device)\n",
        "  encode = None\n",
        "\n",
        "  model.eval()\n",
        "  with torch.no_grad():\n",
        "    for data in dataloader:\n",
        "      img, label = data\n",
        "      img, label = img.to(device), label.to(device).long()\n",
        "      e, output = model(img)\n",
        "\n",
        "      conf, pred = output.max(axis=1)\n",
        "      confidence = torch.cat((confidence, conf))\n",
        "\n",
        "      pred = pred == label\n",
        "      prediction = torch.cat((prediction, pred))\n",
        "\n",
        "      if encode is None:\n",
        "          encode = e\n",
        "      else:\n",
        "          encode = torch.cat((encode, e))\n",
        "\n",
        "  return confidence, prediction, encode"
      ]
    },
    {
      "cell_type": "code",
      "execution_count": 17,
      "metadata": {
        "id": "HAQzeUh3FGQH"
      },
      "outputs": [],
      "source": [
        "from sklearn.decomposition import PCA, NMF\n",
        "from sklearn.cluster import KMeans, DBSCAN"
      ]
    },
    {
      "cell_type": "code",
      "execution_count": 18,
      "metadata": {
        "id": "uWecGbinuSav"
      },
      "outputs": [],
      "source": [
        "def remove_outlier(reduce, data):\n",
        "    eps = 1\n",
        "    last_perc = -1\n",
        "    while True:\n",
        "        dbscan = DBSCAN(eps=eps, min_samples=10)\n",
        "        dbscan.fit(reduce)\n",
        "        outlier = dbscan.labels_ == -1\n",
        "\n",
        "        percentage = 1 - outlier.sum()/len(data)\n",
        "        percentage = round(percentage, 4)\n",
        "        upper_bound = 0.99\n",
        "        lower_bound = 0.98\n",
        "        if last_perc != round(percentage, 2): # 弄一下，不然太多訊息了OAO\n",
        "            print('\\033[38;5;249m' + 'Select outlier', outlier.sum(), f', {outlier.sum()}/{len(data)}({1 - percentage:.4f})' + '\\033[0m')\n",
        "        last_perc = round(percentage, 2)\n",
        "\n",
        "        if upper_bound >= percentage >= lower_bound: break\n",
        "        elif percentage > upper_bound: eps -= (percentage - upper_bound) / (1 - upper_bound)\n",
        "        elif percentage < lower_bound: eps += (lower_bound - percentage) / lower_bound\n",
        "\n",
        "    print()\n",
        "    return torch.from_numpy(outlier)\n"
      ]
    },
    {
      "cell_type": "code",
      "execution_count": 19,
      "metadata": {
        "id": "Jwux3iPEEl3H"
      },
      "outputs": [],
      "source": [
        "def get_center(sub_dataset, num_exempler, encode=None, num_class=-1):\n",
        "  if encode is None:\n",
        "      data = np.array([sub_dataset[i][0].numpy() for i in range(len(sub_dataset))], dtype=np.float32)# sub_dataset.dataset.data\n",
        "      data = torch.from_numpy(data)\n",
        "      data = data.reshape(len(data), -1) # 2D\n",
        "      # print(data.shape)\n",
        "  else: data = encode\n",
        "\n",
        "  reduced_dim = int(data.shape[1] * (0.5 if encode is None else 1))\n",
        "  reduce = PCA(reduced_dim, random_state=seed).fit_transform(data)\n",
        "  # reduce = NMF(reduced_dim, random_state=seed, max_iter=3000).fit_transform(data)\n",
        "\n",
        "  # outlier = remove_outlier(reduce, data)\n",
        "  remove_outlier_idx = torch.arange(reduce.shape[0])\n",
        "  # remove_outlier_idx = torch.where(outlier == False)[0]\n",
        "\n",
        "  record = [] # 1 ~ num_exempler + 1 -> num : num_exempler + 1\n",
        "  m = [] # num : num_exempler\n",
        "  min_m = 1e9\n",
        "  min_m_i = -1\n",
        "  patience = 0\n",
        "  for i in range(1, num_exempler):\n",
        "    kmean = KMeans(i, random_state=seed, n_init=10)\n",
        "    kmean.fit(reduce[remove_outlier_idx])\n",
        "    print('\\033[38;5;243m' + f'i: {i}, Inertia: {kmean.inertia_:.4f}' + '\\033[0m')\n",
        "    if i != 1:\n",
        "      m.append((kmean.inertia_ - record[-1]) / 1)\n",
        "\n",
        "      if len(m) >= 2:\n",
        "        if abs(m[-1] - m[-2]) < min_m:\n",
        "            min_m = abs(m[-1] - m[-2])\n",
        "            min_m_i = i\n",
        "            patience = 0\n",
        "        else:\n",
        "          patience += 1\n",
        "          if patience > 2: break\n",
        "    record.append(kmean.inertia_)\n",
        "\n",
        "  min_m_i = min_m_i if min_m_i != -1 else num_exempler\n",
        "\n",
        "  print(f'Use {min_m_i}')\n",
        "  kmean = KMeans(min_m_i, random_state=seed, n_init=10)\n",
        "  kmean.fit(reduce[remove_outlier_idx])\n",
        "  print('\\033[38;5;243m' + f'after PCA Dim: {reduced_dim}({reduced_dim/data.shape[1]:.2f}), Inertia: {kmean.inertia_:.4f}' + '\\033[0m')\n",
        "\n",
        "  try:\n",
        "    import os\n",
        "    os.mkdir(f'img/class_{num_class}')\n",
        "    for i in range(min_m_i):\n",
        "      os.mkdir(f'img/class_{num_class}/cluster_{i}')\n",
        "    for i in range(len(sub_dataset)):\n",
        "      tmp_img = sub_dataset[i][0].numpy()\n",
        "      tmp_img = np.transpose(tmp_img, (1, 2, 0))\n",
        "      tmp_label = kmean.labels_[i]\n",
        "      cv2.imwrite(f'img/class_{num_class}/cluster_{tmp_label}/{i}.png', tmp_img * 255.)\n",
        "  except: pass\n",
        "\n",
        "  centers = kmean.cluster_centers_\n",
        "  idx = torch.tensor([], dtype=int, device=device)\n",
        "  for c in centers:\n",
        "    min_dis = 1e9\n",
        "    min_idx = -1\n",
        "    for i in remove_outlier_idx:\n",
        "      point = reduce[i]\n",
        "      dis = np.linalg.norm(c - point, ord=2)\n",
        "      if min_dis > dis:\n",
        "        min_dis = dis; min_idx = i\n",
        "    idx = torch.cat((idx, torch.tensor([min_idx], dtype=int, device=device)))\n",
        "  idx, _ = torch.sort(idx)\n",
        "  return sub_dataset.indices[idx]"
      ]
    },
    {
      "cell_type": "code",
      "execution_count": 20,
      "metadata": {
        "id": "70U6wWrLAGCG"
      },
      "outputs": [],
      "source": [
        "def select_exempler(dataset, model, num_exempler=10, lower_bound_confid=0.9, avalanche_list=[]):\n",
        "  now_loader = DataLoader(dataset, batch_size=batch_size, shuffle=False, pin_memory=True, generator=torch_gen)\n",
        "  confidence, pred, encode = get_confid_and_outcome(now_loader, model)\n",
        "  del now_loader\n",
        "\n",
        "  selected_idx = torch.where(torch.logical_and(confidence >= lower_bound_confid, pred))[0]\n",
        "  exempler = torch.tensor([], dtype=int, device=device)\n",
        "\n",
        "  for i in range(10):\n",
        "    condition = torch.logical_and(avalanche_list[i] <= selected_idx, selected_idx < avalanche_list[i + 1])\n",
        "    sub_select = selected_idx[condition]\n",
        "    print('Select', len(sub_select))\n",
        "    sub_class = Subset(dataset, sub_select)\n",
        "\n",
        "    center = get_center(sub_class, num_exempler, encode=None, num_class=i) # encode[sub_select].cpu()\n",
        "    exempler = torch.cat((exempler, center))\n",
        "  return exempler"
      ]
    },
    {
      "cell_type": "code",
      "execution_count": 21,
      "metadata": {
        "id": "F6J1pkqdxMYF"
      },
      "outputs": [],
      "source": [
        "def random_select(dataset, mode=0, num_exempler=10, avalanche_list=[]):\n",
        "  num_instance = len(dataset)\n",
        "  if mode == 0:\n",
        "    return torch.from_numpy(np.random.choice(torch.arange(num_instance), num_exempler * 10))\n",
        "  else:\n",
        "    select = torch.tensor([], dtype=int, device=device)\n",
        "    for i in range(10):\n",
        "      pre_class = np.random.choice(np.arange(avalanche_list[i], avalanche_list[i+1]), num_exempler)\n",
        "      select = torch.cat((select, torch.from_numpy(pre_class).to(device)))\n",
        "    return select"
      ]
    },
    {
      "cell_type": "code",
      "execution_count": 22,
      "metadata": {
        "id": "Yw5O0lyJf9_w"
      },
      "outputs": [],
      "source": [
        "record_exempler = []"
      ]
    },
    {
      "cell_type": "markdown",
      "metadata": {
        "id": "vkf1x1GD__go"
      },
      "source": [
        "## training"
      ]
    },
    {
      "cell_type": "code",
      "execution_count": 23,
      "metadata": {
        "id": "KS30PbhnuSav"
      },
      "outputs": [],
      "source": [
        "record_acc = np.zeros((task, task))"
      ]
    },
    {
      "cell_type": "code",
      "execution_count": 24,
      "metadata": {
        "id": "vREEbJVcaRvN"
      },
      "outputs": [],
      "source": [
        "blue = '\\033[34m'\n",
        "null = '\\033[0m'"
      ]
    },
    {
      "cell_type": "code",
      "execution_count": 25,
      "metadata": {
        "id": "p7e2li7ecJ3O"
      },
      "outputs": [],
      "source": [
        "def kl_divergence(data, eps=1e-8):\n",
        "    var = torch.var(data, dim=tuple(range(1, data.ndim)), unbiased=False)\n",
        "    mean = torch.mean(data, dim=tuple(range(1, data.ndim)))\n",
        "\n",
        "    kl = 0.5 * (var.sum(dim=-1) + mean.pow(2).sum(dim=-1) - var.size(-1) - torch.log(var + eps).sum(dim=-1))\n",
        "    return kl"
      ]
    },
    {
      "cell_type": "code",
      "execution_count": 26,
      "metadata": {
        "id": "g4AelZKYk5hy"
      },
      "outputs": [],
      "source": [
        "def training(model, test_loader: list, test_num: list, epochs=10,\n",
        "             num_task=-1, avalanche_list=[], num_exempler=100, alpha=0):\n",
        "    \"\"\"\n",
        "    改進的訓練函數，更好地模擬ReplayDataLoader的平衡採樣策略\n",
        "    \"\"\"\n",
        "    if num_task < 0:\n",
        "        raise ValueError(\"Task Number is Missing\")\n",
        "\n",
        "    global optim_para, fisher_matrix, ewc_lambda, record_acc, record_exempler\n",
        "    # 保持EWC lambda=1\n",
        "\n",
        "    print(f'Task {num_task} Start!')\n",
        "\n",
        "    # 準備當前任務的數據\n",
        "    train_data = SortedMNIST(train=True, task_num=num_task, train_stream=train_stream, test_stream=test_stream)\n",
        "\n",
        "    # 計算每個任務的樣本數量\n",
        "    current_samples = len(train_data)\n",
        "    memory_samples = sum(len(exempler) for exempler in record_exempler)\n",
        "\n",
        "    print(f'Current Task Samples: {current_samples}, Memory Samples: {memory_samples}, alpha: {alpha}')\n",
        "\n",
        "    # 為模型訓練準備數據加載器\n",
        "    if not record_exempler:  # 第一個任務，沒有記憶樣本\n",
        "        train_loader = DataLoader(train_data, batch_size=batch_size, shuffle=True,\n",
        "                                 pin_memory=True, generator=torch_gen)\n",
        "    else:\n",
        "        # 正確實現ReplayDataLoader的核心思想 - 任務平衡採樣\n",
        "        train_loader = create_true_replay_dataloader(train_data, record_exempler, batch_size)\n",
        "\n",
        "    # 使用與原始代碼相同的優化器設置\n",
        "    optimizer = SGD(model.parameters(), lr=0.001, momentum=0)\n",
        "\n",
        "    for i in range(epochs):\n",
        "        model.train()\n",
        "        train_acc = 0\n",
        "        train_loss = 0\n",
        "        samples_seen = 0\n",
        "\n",
        "        for data_batch in train_loader:\n",
        "            optimizer.zero_grad()\n",
        "\n",
        "            # 解包數據和標籤\n",
        "            img, label = data_batch\n",
        "            img, label = img.to(device), label.to(device).long()\n",
        "\n",
        "            # 前向傳播\n",
        "            encode, output = model(img)\n",
        "            output_loss = cross_entropy(output, label)\n",
        "\n",
        "            # 計算準確率\n",
        "            train_acc += (output.argmax(1) == label).sum().item()\n",
        "            samples_seen += len(label)\n",
        "\n",
        "            # 添加EWC損失 - 保持原始實現\n",
        "            ewc_loss = 0\n",
        "            for t in range(num_task):\n",
        "                for name, param in model.named_parameters():\n",
        "                    if t in optim_para:\n",
        "                        fisher = fisher_matrix[t][name]\n",
        "                        optim = optim_para[t][name]\n",
        "                        ewc_loss += (fisher * (optim - param).pow(2)).sum() * ewc_lambda\n",
        "\n",
        "            kl_loss = kl_divergence(encode)\n",
        "\n",
        "            # 總損失\n",
        "            output_loss += alpha * kl_loss\n",
        "            output_loss += ewc_loss\n",
        "            train_loss += output_loss.item()\n",
        "\n",
        "            # 反向傳播\n",
        "            output_loss.backward()\n",
        "            optimizer.step()\n",
        "\n",
        "        # 輸出訓練信息\n",
        "        avg_acc = train_acc / samples_seen\n",
        "        avg_loss = train_loss / len(train_loader)\n",
        "        print(f'Epoch\\t{i + 1}\\tAcc: {avg_acc:.4f}, Loss: {avg_loss:.4f}, use sample: {samples_seen}')\n",
        "\n",
        "    # 如果不是最後一個任務，更新參數記錄並選擇樣本\n",
        "    if num_task != len(test_num) - 1:\n",
        "        # 記錄最優參數和Fisher信息\n",
        "        record_parameter(model, train_data, optimizer, num_task=num_task)\n",
        "\n",
        "        with torch.no_grad():\n",
        "            # 使用原始的exempler選擇方法\n",
        "            exempler = select_exempler(train_data, model, num_exempler, avalanche_list=avalanche_list)\n",
        "            # exempler = random_select(train_data, mode=1, num_exempler=num_exempler, avalanche_list=avalanche_list)\n",
        "            record_exempler.append(Subset(train_data, exempler))\n",
        "\n",
        "    # 在所有任務上評估模型\n",
        "    task_id = 0\n",
        "    for num_data, loader in zip(test_num, test_loader):\n",
        "        acc = evaluate(model, loader, num_data, task_id)\n",
        "        record_acc[num_task, task_id] = acc\n",
        "        task_id = task_id + 1\n",
        "\n",
        "    print()  # End of Training\n"
      ]
    },
    {
      "cell_type": "code",
      "execution_count": 27,
      "metadata": {
        "id": "15iNu_QkA8JQ"
      },
      "outputs": [],
      "source": [
        "def create_true_replay_dataloader(current_data, memory_data_list, batch_size):\n",
        "    \"\"\"\n",
        "    創建一個真正按照ReplayDataLoader核心思想實現的數據加載器\n",
        "\n",
        "    ReplayDataLoader的核心思想是:\n",
        "    1. 同時從當前任務和所有記憶任務中採樣\n",
        "    2. 確保每個任務的樣本數量平衡\n",
        "    3. 保持每個批次的總大小不變\n",
        "    \"\"\"\n",
        "    # 計算任務數量\n",
        "    num_tasks = 1 + len(memory_data_list)  # 當前任務 + 記憶任務\n",
        "\n",
        "    # 平均分配批次大小給每個任務\n",
        "    samples_per_task = batch_size // num_tasks\n",
        "\n",
        "    # 剩餘樣本優先分配給當前任務\n",
        "    remaining_samples = batch_size - (samples_per_task * num_tasks)\n",
        "\n",
        "    # 當前任務分配的樣本數\n",
        "    current_task_samples = samples_per_task + remaining_samples\n",
        "\n",
        "    # 創建數據集列表\n",
        "    datasets = [current_data] + memory_data_list\n",
        "\n",
        "    # 創建一個類似ReplayDataLoader的自定義數據加載器\n",
        "    class TaskBalancedDataLoader:\n",
        "        def __init__(self, datasets, samples_per_dataset, batch_size):\n",
        "            self.datasets = datasets\n",
        "            self.samples_per_dataset = samples_per_dataset  # 列表，每個任務的樣本數\n",
        "            self.batch_size = batch_size\n",
        "            self.current_data_len = len(datasets[0])\n",
        "\n",
        "            # 計算每個epoch的批次數量 - 基於當前數據集的大小\n",
        "            self.num_batches = self.current_data_len // self.samples_per_dataset[0]\n",
        "            if self.current_data_len % self.samples_per_dataset[0] > 0:\n",
        "                self.num_batches += 1\n",
        "\n",
        "        def __iter__(self):\n",
        "            # 為每個數據集創建一個迭代器\n",
        "            iterators = []\n",
        "            for i, dataset in enumerate(self.datasets):\n",
        "                # 計算需要的樣本總數\n",
        "                num_samples = self.samples_per_dataset[i] * self.num_batches\n",
        "\n",
        "                # 創建一個隨機採樣器\n",
        "                indices = torch.randperm(len(dataset)).tolist()\n",
        "\n",
        "                # 如果需要的樣本數大於數據集大小，則循環使用\n",
        "                if num_samples > len(dataset):\n",
        "                    # 計算需要重複的次數\n",
        "                    repeats = num_samples // len(dataset) + 1\n",
        "                    indices = indices * repeats\n",
        "\n",
        "                # 截取需要的樣本數\n",
        "                indices = indices[:num_samples]\n",
        "\n",
        "                # 創建一個對應的數據迭代器\n",
        "                iterators.append(iter([dataset[i] for i in indices]))\n",
        "\n",
        "            # 生成批次\n",
        "            for _ in range(self.num_batches):\n",
        "                batch_imgs = []\n",
        "                batch_labels = []\n",
        "\n",
        "                # 從每個任務採樣\n",
        "                for i, iterator in enumerate(iterators):\n",
        "                    for _ in range(self.samples_per_dataset[i]):\n",
        "                        try:\n",
        "                            img, label = next(iterator)\n",
        "                            batch_imgs.append(img.unsqueeze(0))\n",
        "                            batch_labels.append(label)\n",
        "                        except StopIteration:\n",
        "                            # 如果迭代器耗盡，重新創建\n",
        "                            iterators[i] = iter([self.datasets[i][j] for j in\n",
        "                                             torch.randperm(len(self.datasets[i])).tolist()])\n",
        "                            img, label = next(iterators[i])\n",
        "                            batch_imgs.append(img.unsqueeze(0))\n",
        "                            batch_labels.append(label)\n",
        "\n",
        "                # 合併批次\n",
        "                batch_imgs = torch.cat(batch_imgs, dim=0)\n",
        "                batch_labels = torch.tensor(batch_labels)\n",
        "\n",
        "                # 隨機打亂批次內的順序\n",
        "                perm = torch.randperm(len(batch_labels))\n",
        "                batch_imgs = batch_imgs[perm]\n",
        "                batch_labels = batch_labels[perm]\n",
        "\n",
        "                yield batch_imgs, batch_labels\n",
        "\n",
        "        def __len__(self):\n",
        "            return self.num_batches\n",
        "\n",
        "    # 創建每個任務的樣本數量列表\n",
        "    samples_per_dataset = [current_task_samples] + [samples_per_task] * len(memory_data_list)\n",
        "    print(blue + 'samples_per_dataset' + str(samples_per_dataset) + null)\n",
        "    # 創建並返回數據加載器\n",
        "    return TaskBalancedDataLoader(datasets, samples_per_dataset, batch_size)"
      ]
    },
    {
      "cell_type": "markdown",
      "metadata": {
        "id": "N7tUZHpAk5h0"
      },
      "source": [
        " - nn.Module\n",
        "    - named_pa​​rameters()\n",
        "         - 給出網絡層的名字和參數的迭代器\n",
        "    - parameters()\n",
        "         - 參數的迭代器\n",
        "    - [Reference](https://blog.csdn.net/qq_36530992/article/details/102729585)"
      ]
    },
    {
      "cell_type": "code",
      "execution_count": 28,
      "metadata": {
        "colab": {
          "base_uri": "https://localhost:8080/"
        },
        "id": "VZyLlDVRk5h1",
        "outputId": "99db295b-3454-4392-efae-65c3938e18f1"
      },
      "outputs": [
        {
          "output_type": "stream",
          "name": "stdout",
          "text": [
            "Task 0 Start!\n",
            "Current Task Samples: 60000, Memory Samples: 0, alpha: 0\n",
            "Epoch\t1\tAcc: 0.4192, Loss: 2.0760, use sample: 60000\n",
            "Epoch\t2\tAcc: 0.7218, Loss: 1.6408, use sample: 60000\n",
            "Epoch\t3\tAcc: 0.7777, Loss: 1.2887, use sample: 60000\n",
            "Epoch\t4\tAcc: 0.8084, Loss: 1.0404, use sample: 60000\n",
            "Epoch\t5\tAcc: 0.8278, Loss: 0.8756, use sample: 60000\n",
            "Epoch\t6\tAcc: 0.8412, Loss: 0.7652, use sample: 60000\n",
            "Epoch\t7\tAcc: 0.8507, Loss: 0.6875, use sample: 60000\n",
            "Epoch\t8\tAcc: 0.8580, Loss: 0.6304, use sample: 60000\n",
            "Epoch\t9\tAcc: 0.8635, Loss: 0.5871, use sample: 60000\n",
            "Epoch\t10\tAcc: 0.8677, Loss: 0.5525, use sample: 60000\n",
            "Select 5590\n",
            "\u001b[38;5;243mi: 1, Inertia: 2873203.3593\u001b[0m\n",
            "\u001b[38;5;243mi: 2, Inertia: 2487229.8267\u001b[0m\n",
            "\u001b[38;5;243mi: 3, Inertia: 2278791.8842\u001b[0m\n",
            "\u001b[38;5;243mi: 4, Inertia: 2158883.1977\u001b[0m\n",
            "\u001b[38;5;243mi: 5, Inertia: 2069954.0467\u001b[0m\n",
            "\u001b[38;5;243mi: 6, Inertia: 1999778.7155\u001b[0m\n",
            "\u001b[38;5;243mi: 7, Inertia: 1950600.6404\u001b[0m\n",
            "\u001b[38;5;243mi: 8, Inertia: 1903339.3673\u001b[0m\n",
            "\u001b[38;5;243mi: 9, Inertia: 1862213.4847\u001b[0m\n",
            "\u001b[38;5;243mi: 10, Inertia: 1825318.5899\u001b[0m\n",
            "\u001b[38;5;243mi: 11, Inertia: 1799365.6768\u001b[0m\n",
            "Use 8\n",
            "\u001b[38;5;243mafter PCA Dim: 392(0.50), Inertia: 1903339.3673\u001b[0m\n",
            "Select 6463\n",
            "\u001b[38;5;243mi: 1, Inertia: 1440018.7507\u001b[0m\n",
            "\u001b[38;5;243mi: 2, Inertia: 1000227.7204\u001b[0m\n",
            "\u001b[38;5;243mi: 3, Inertia: 838334.4407\u001b[0m\n",
            "\u001b[38;5;243mi: 4, Inertia: 753538.6614\u001b[0m\n",
            "\u001b[38;5;243mi: 5, Inertia: 709499.8008\u001b[0m\n",
            "\u001b[38;5;243mi: 6, Inertia: 677286.2434\u001b[0m\n",
            "\u001b[38;5;243mi: 7, Inertia: 649860.3563\u001b[0m\n",
            "\u001b[38;5;243mi: 8, Inertia: 626951.3520\u001b[0m\n",
            "\u001b[38;5;243mi: 9, Inertia: 608159.5357\u001b[0m\n",
            "\u001b[38;5;243mi: 10, Inertia: 589992.7077\u001b[0m\n",
            "\u001b[38;5;243mi: 11, Inertia: 574308.8847\u001b[0m\n",
            "\u001b[38;5;243mi: 12, Inertia: 559256.0713\u001b[0m\n",
            "\u001b[38;5;243mi: 13, Inertia: 545519.6765\u001b[0m\n",
            "Use 10\n",
            "\u001b[38;5;243mafter PCA Dim: 392(0.50), Inertia: 589992.7077\u001b[0m\n",
            "Select 4945\n",
            "\u001b[38;5;243mi: 1, Inertia: 2555276.8234\u001b[0m\n",
            "\u001b[38;5;243mi: 2, Inertia: 2310820.8166\u001b[0m\n",
            "\u001b[38;5;243mi: 3, Inertia: 2208688.9776\u001b[0m\n",
            "\u001b[38;5;243mi: 4, Inertia: 2128678.3203\u001b[0m\n",
            "\u001b[38;5;243mi: 5, Inertia: 2072612.6671\u001b[0m\n",
            "\u001b[38;5;243mi: 6, Inertia: 2027106.6007\u001b[0m\n",
            "\u001b[38;5;243mi: 7, Inertia: 1986936.8123\u001b[0m\n",
            "\u001b[38;5;243mi: 8, Inertia: 1954505.7403\u001b[0m\n",
            "\u001b[38;5;243mi: 9, Inertia: 1927232.7296\u001b[0m\n",
            "\u001b[38;5;243mi: 10, Inertia: 1900397.6731\u001b[0m\n",
            "\u001b[38;5;243mi: 11, Inertia: 1877413.0069\u001b[0m\n",
            "\u001b[38;5;243mi: 12, Inertia: 1856308.8521\u001b[0m\n",
            "\u001b[38;5;243mi: 13, Inertia: 1837898.6622\u001b[0m\n",
            "Use 10\n",
            "\u001b[38;5;243mafter PCA Dim: 392(0.50), Inertia: 1900397.6731\u001b[0m\n",
            "Select 5134\n",
            "\u001b[38;5;243mi: 1, Inertia: 2277071.3366\u001b[0m\n",
            "\u001b[38;5;243mi: 2, Inertia: 2066606.9803\u001b[0m\n",
            "\u001b[38;5;243mi: 3, Inertia: 1952935.0647\u001b[0m\n",
            "\u001b[38;5;243mi: 4, Inertia: 1871062.4659\u001b[0m\n",
            "\u001b[38;5;243mi: 5, Inertia: 1815619.4932\u001b[0m\n",
            "\u001b[38;5;243mi: 6, Inertia: 1773390.6158\u001b[0m\n",
            "\u001b[38;5;243mi: 7, Inertia: 1738791.1006\u001b[0m\n",
            "\u001b[38;5;243mi: 8, Inertia: 1710744.8119\u001b[0m\n",
            "\u001b[38;5;243mi: 9, Inertia: 1684547.6544\u001b[0m\n",
            "\u001b[38;5;243mi: 10, Inertia: 1663547.2626\u001b[0m\n",
            "\u001b[38;5;243mi: 11, Inertia: 1644737.8557\u001b[0m\n",
            "\u001b[38;5;243mi: 12, Inertia: 1627728.3068\u001b[0m\n",
            "\u001b[38;5;243mi: 13, Inertia: 1612406.6914\u001b[0m\n",
            "\u001b[38;5;243mi: 14, Inertia: 1596702.1395\u001b[0m\n",
            "\u001b[38;5;243mi: 15, Inertia: 1583410.8484\u001b[0m\n",
            "\u001b[38;5;243mi: 16, Inertia: 1571470.1344\u001b[0m\n",
            "\u001b[38;5;243mi: 17, Inertia: 1560619.8875\u001b[0m\n",
            "Use 14\n",
            "\u001b[38;5;243mafter PCA Dim: 392(0.50), Inertia: 1596702.1395\u001b[0m\n",
            "Select 5143\n",
            "\u001b[38;5;243mi: 1, Inertia: 2160643.3075\u001b[0m\n",
            "\u001b[38;5;243mi: 2, Inertia: 1956523.4066\u001b[0m\n",
            "\u001b[38;5;243mi: 3, Inertia: 1845368.4854\u001b[0m\n",
            "\u001b[38;5;243mi: 4, Inertia: 1762088.7019\u001b[0m\n",
            "\u001b[38;5;243mi: 5, Inertia: 1701321.0852\u001b[0m\n",
            "\u001b[38;5;243mi: 6, Inertia: 1655912.6027\u001b[0m\n",
            "\u001b[38;5;243mi: 7, Inertia: 1621262.1698\u001b[0m\n",
            "\u001b[38;5;243mi: 8, Inertia: 1589942.3097\u001b[0m\n",
            "\u001b[38;5;243mi: 9, Inertia: 1561817.7466\u001b[0m\n",
            "\u001b[38;5;243mi: 10, Inertia: 1536830.6749\u001b[0m\n",
            "\u001b[38;5;243mi: 11, Inertia: 1515385.5071\u001b[0m\n",
            "\u001b[38;5;243mi: 12, Inertia: 1494909.2702\u001b[0m\n",
            "\u001b[38;5;243mi: 13, Inertia: 1479556.3118\u001b[0m\n",
            "\u001b[38;5;243mi: 14, Inertia: 1463160.5275\u001b[0m\n",
            "\u001b[38;5;243mi: 15, Inertia: 1449205.7480\u001b[0m\n",
            "Use 12\n",
            "\u001b[38;5;243mafter PCA Dim: 392(0.50), Inertia: 1494909.2702\u001b[0m\n",
            "Select 4095\n",
            "\u001b[38;5;243mi: 1, Inertia: 1932868.1685\u001b[0m\n",
            "\u001b[38;5;243mi: 2, Inertia: 1672264.8126\u001b[0m\n",
            "\u001b[38;5;243mi: 3, Inertia: 1556746.8294\u001b[0m\n",
            "\u001b[38;5;243mi: 4, Inertia: 1492926.6597\u001b[0m\n",
            "\u001b[38;5;243mi: 5, Inertia: 1450700.2787\u001b[0m\n",
            "\u001b[38;5;243mi: 6, Inertia: 1412788.7869\u001b[0m\n",
            "\u001b[38;5;243mi: 7, Inertia: 1383211.6396\u001b[0m\n",
            "\u001b[38;5;243mi: 8, Inertia: 1358785.8025\u001b[0m\n",
            "\u001b[38;5;243mi: 9, Inertia: 1338598.5913\u001b[0m\n",
            "\u001b[38;5;243mi: 10, Inertia: 1320257.9283\u001b[0m\n",
            "\u001b[38;5;243mi: 11, Inertia: 1304153.1443\u001b[0m\n",
            "\u001b[38;5;243mi: 12, Inertia: 1288138.6244\u001b[0m\n",
            "\u001b[38;5;243mi: 13, Inertia: 1274889.5994\u001b[0m\n",
            "\u001b[38;5;243mi: 14, Inertia: 1262665.2870\u001b[0m\n",
            "\u001b[38;5;243mi: 15, Inertia: 1250505.7844\u001b[0m\n",
            "\u001b[38;5;243mi: 16, Inertia: 1239481.9385\u001b[0m\n",
            "\u001b[38;5;243mi: 17, Inertia: 1230124.8023\u001b[0m\n",
            "\u001b[38;5;243mi: 18, Inertia: 1221341.0746\u001b[0m\n",
            "Use 15\n",
            "\u001b[38;5;243mafter PCA Dim: 392(0.50), Inertia: 1250505.7844\u001b[0m\n",
            "Select 5461\n",
            "\u001b[38;5;243mi: 1, Inertia: 2395380.7792\u001b[0m\n",
            "\u001b[38;5;243mi: 2, Inertia: 2062247.0104\u001b[0m\n",
            "\u001b[38;5;243mi: 3, Inertia: 1921408.5980\u001b[0m\n",
            "\u001b[38;5;243mi: 4, Inertia: 1822019.8101\u001b[0m\n",
            "\u001b[38;5;243mi: 5, Inertia: 1750448.6639\u001b[0m\n",
            "\u001b[38;5;243mi: 6, Inertia: 1700199.7972\u001b[0m\n",
            "\u001b[38;5;243mi: 7, Inertia: 1659227.5424\u001b[0m\n",
            "\u001b[38;5;243mi: 8, Inertia: 1628293.6828\u001b[0m\n",
            "\u001b[38;5;243mi: 9, Inertia: 1598559.9678\u001b[0m\n",
            "\u001b[38;5;243mi: 10, Inertia: 1574106.8517\u001b[0m\n",
            "\u001b[38;5;243mi: 11, Inertia: 1550566.1470\u001b[0m\n",
            "\u001b[38;5;243mi: 12, Inertia: 1530206.5776\u001b[0m\n",
            "\u001b[38;5;243mi: 13, Inertia: 1511193.4384\u001b[0m\n",
            "\u001b[38;5;243mi: 14, Inertia: 1495359.9748\u001b[0m\n",
            "Use 11\n",
            "\u001b[38;5;243mafter PCA Dim: 392(0.50), Inertia: 1550566.1470\u001b[0m\n",
            "Select 5572\n",
            "\u001b[38;5;243mi: 1, Inertia: 2092625.5006\u001b[0m\n",
            "\u001b[38;5;243mi: 2, Inertia: 1818608.4794\u001b[0m\n",
            "\u001b[38;5;243mi: 3, Inertia: 1680518.8333\u001b[0m\n",
            "\u001b[38;5;243mi: 4, Inertia: 1586654.0685\u001b[0m\n",
            "\u001b[38;5;243mi: 5, Inertia: 1518744.7656\u001b[0m\n",
            "\u001b[38;5;243mi: 6, Inertia: 1476080.8064\u001b[0m\n",
            "\u001b[38;5;243mi: 7, Inertia: 1439640.9141\u001b[0m\n",
            "\u001b[38;5;243mi: 8, Inertia: 1406257.7099\u001b[0m\n",
            "\u001b[38;5;243mi: 9, Inertia: 1379397.2059\u001b[0m\n",
            "\u001b[38;5;243mi: 10, Inertia: 1356828.5049\u001b[0m\n",
            "\u001b[38;5;243mi: 11, Inertia: 1336693.6375\u001b[0m\n",
            "\u001b[38;5;243mi: 12, Inertia: 1318018.3982\u001b[0m\n",
            "\u001b[38;5;243mi: 13, Inertia: 1301285.1107\u001b[0m\n",
            "\u001b[38;5;243mi: 14, Inertia: 1286642.3966\u001b[0m\n",
            "\u001b[38;5;243mi: 15, Inertia: 1270397.9964\u001b[0m\n",
            "Use 12\n",
            "\u001b[38;5;243mafter PCA Dim: 392(0.50), Inertia: 1318018.3982\u001b[0m\n",
            "Select 4757\n",
            "\u001b[38;5;243mi: 1, Inertia: 2172392.1658\u001b[0m\n",
            "\u001b[38;5;243mi: 2, Inertia: 1952582.9781\u001b[0m\n",
            "\u001b[38;5;243mi: 3, Inertia: 1856127.1146\u001b[0m\n",
            "\u001b[38;5;243mi: 4, Inertia: 1794052.1489\u001b[0m\n",
            "\u001b[38;5;243mi: 5, Inertia: 1743878.5917\u001b[0m\n",
            "\u001b[38;5;243mi: 6, Inertia: 1706964.1333\u001b[0m\n",
            "\u001b[38;5;243mi: 7, Inertia: 1676253.3972\u001b[0m\n",
            "\u001b[38;5;243mi: 8, Inertia: 1648325.7569\u001b[0m\n",
            "\u001b[38;5;243mi: 9, Inertia: 1625905.6234\u001b[0m\n",
            "\u001b[38;5;243mi: 10, Inertia: 1606348.1929\u001b[0m\n",
            "\u001b[38;5;243mi: 11, Inertia: 1586144.1407\u001b[0m\n",
            "\u001b[38;5;243mi: 12, Inertia: 1569613.3938\u001b[0m\n",
            "\u001b[38;5;243mi: 13, Inertia: 1555207.1257\u001b[0m\n",
            "\u001b[38;5;243mi: 14, Inertia: 1543253.8365\u001b[0m\n",
            "Use 11\n",
            "\u001b[38;5;243mafter PCA Dim: 392(0.50), Inertia: 1586144.1407\u001b[0m\n",
            "Select 5011\n",
            "\u001b[38;5;243mi: 1, Inertia: 1876989.5799\u001b[0m\n",
            "\u001b[38;5;243mi: 2, Inertia: 1620797.1692\u001b[0m\n",
            "\u001b[38;5;243mi: 3, Inertia: 1508585.0244\u001b[0m\n",
            "\u001b[38;5;243mi: 4, Inertia: 1431327.5945\u001b[0m\n",
            "\u001b[38;5;243mi: 5, Inertia: 1368024.9914\u001b[0m\n",
            "\u001b[38;5;243mi: 6, Inertia: 1330788.5650\u001b[0m\n",
            "\u001b[38;5;243mi: 7, Inertia: 1298545.0200\u001b[0m\n",
            "\u001b[38;5;243mi: 8, Inertia: 1272122.8860\u001b[0m\n",
            "\u001b[38;5;243mi: 9, Inertia: 1248910.2150\u001b[0m\n",
            "\u001b[38;5;243mi: 10, Inertia: 1229472.6623\u001b[0m\n",
            "\u001b[38;5;243mi: 11, Inertia: 1210545.6946\u001b[0m\n",
            "\u001b[38;5;243mi: 12, Inertia: 1195246.2376\u001b[0m\n",
            "\u001b[38;5;243mi: 13, Inertia: 1180888.2588\u001b[0m\n",
            "\u001b[38;5;243mi: 14, Inertia: 1168873.7730\u001b[0m\n",
            "Use 11\n",
            "\u001b[38;5;243mafter PCA Dim: 392(0.50), Inertia: 1210545.6946\u001b[0m\n",
            "\u001b[33mTask 0 Acc:  0.8763, Loss:  0.0041\u001b[0m\n",
            "\u001b[33mTask 1 Acc:  0.3027, Loss:  0.0156\u001b[0m\n",
            "\u001b[33mTask 2 Acc:  0.1212, Loss:  0.0221\u001b[0m\n",
            "\n",
            "Task 1 Start!\n",
            "Current Task Samples: 60000, Memory Samples: 114, alpha: 0\n",
            "\u001b[34msamples_per_dataset[128, 128]\u001b[0m\n",
            "Epoch\t1\tAcc: 0.7315, Loss: 0.8570, use sample: 120064\n",
            "Epoch\t2\tAcc: 0.8250, Loss: 0.6441, use sample: 120064\n",
            "Epoch\t3\tAcc: 0.8630, Loss: 0.5470, use sample: 120064\n",
            "Epoch\t4\tAcc: 0.8817, Loss: 0.4917, use sample: 120064\n",
            "Epoch\t5\tAcc: 0.8930, Loss: 0.4551, use sample: 120064\n",
            "Epoch\t6\tAcc: 0.9016, Loss: 0.4286, use sample: 120064\n",
            "Epoch\t7\tAcc: 0.9077, Loss: 0.4082, use sample: 120064\n",
            "Epoch\t8\tAcc: 0.9124, Loss: 0.3919, use sample: 120064\n",
            "Epoch\t9\tAcc: 0.9162, Loss: 0.3783, use sample: 120064\n",
            "Epoch\t10\tAcc: 0.9191, Loss: 0.3669, use sample: 120064\n",
            "Select 5500\n",
            "\u001b[38;5;243mi: 1, Inertia: 2836668.1715\u001b[0m\n",
            "\u001b[38;5;243mi: 2, Inertia: 2449683.9208\u001b[0m\n",
            "\u001b[38;5;243mi: 3, Inertia: 2237020.6480\u001b[0m\n",
            "\u001b[38;5;243mi: 4, Inertia: 2114486.4965\u001b[0m\n",
            "\u001b[38;5;243mi: 5, Inertia: 2030851.3636\u001b[0m\n",
            "\u001b[38;5;243mi: 6, Inertia: 1961932.5188\u001b[0m\n",
            "\u001b[38;5;243mi: 7, Inertia: 1914789.8578\u001b[0m\n",
            "\u001b[38;5;243mi: 8, Inertia: 1869191.3362\u001b[0m\n",
            "\u001b[38;5;243mi: 9, Inertia: 1829737.5609\u001b[0m\n",
            "\u001b[38;5;243mi: 10, Inertia: 1794654.1899\u001b[0m\n",
            "\u001b[38;5;243mi: 11, Inertia: 1769414.7844\u001b[0m\n",
            "Use 8\n",
            "\u001b[38;5;243mafter PCA Dim: 392(0.50), Inertia: 1869191.3362\u001b[0m\n",
            "Select 6455\n",
            "\u001b[38;5;243mi: 1, Inertia: 1466950.6503\u001b[0m\n",
            "\u001b[38;5;243mi: 2, Inertia: 1000222.3883\u001b[0m\n",
            "\u001b[38;5;243mi: 3, Inertia: 840891.8932\u001b[0m\n",
            "\u001b[38;5;243mi: 4, Inertia: 755490.3988\u001b[0m\n",
            "\u001b[38;5;243mi: 5, Inertia: 709453.9006\u001b[0m\n",
            "\u001b[38;5;243mi: 6, Inertia: 673346.7480\u001b[0m\n",
            "\u001b[38;5;243mi: 7, Inertia: 642544.1887\u001b[0m\n",
            "\u001b[38;5;243mi: 8, Inertia: 621108.3990\u001b[0m\n",
            "\u001b[38;5;243mi: 9, Inertia: 601751.5178\u001b[0m\n",
            "\u001b[38;5;243mi: 10, Inertia: 584292.3268\u001b[0m\n",
            "\u001b[38;5;243mi: 11, Inertia: 568514.0923\u001b[0m\n",
            "\u001b[38;5;243mi: 12, Inertia: 554729.0512\u001b[0m\n",
            "\u001b[38;5;243mi: 13, Inertia: 542527.6576\u001b[0m\n",
            "\u001b[38;5;243mi: 14, Inertia: 530231.1627\u001b[0m\n",
            "\u001b[38;5;243mi: 15, Inertia: 521107.4835\u001b[0m\n",
            "\u001b[38;5;243mi: 16, Inertia: 511225.1599\u001b[0m\n",
            "\u001b[38;5;243mi: 17, Inertia: 502576.6847\u001b[0m\n",
            "Use 14\n",
            "\u001b[38;5;243mafter PCA Dim: 392(0.50), Inertia: 530231.1627\u001b[0m\n",
            "Select 4727\n",
            "\u001b[38;5;243mi: 1, Inertia: 2441887.5570\u001b[0m\n",
            "\u001b[38;5;243mi: 2, Inertia: 2205312.4921\u001b[0m\n",
            "\u001b[38;5;243mi: 3, Inertia: 2098234.2353\u001b[0m\n",
            "\u001b[38;5;243mi: 4, Inertia: 2019841.4380\u001b[0m\n",
            "\u001b[38;5;243mi: 5, Inertia: 1962553.1403\u001b[0m\n",
            "\u001b[38;5;243mi: 6, Inertia: 1921004.3892\u001b[0m\n",
            "\u001b[38;5;243mi: 7, Inertia: 1887590.1289\u001b[0m\n",
            "\u001b[38;5;243mi: 8, Inertia: 1855819.3965\u001b[0m\n",
            "\u001b[38;5;243mi: 9, Inertia: 1827280.2281\u001b[0m\n",
            "\u001b[38;5;243mi: 10, Inertia: 1802461.8777\u001b[0m\n",
            "\u001b[38;5;243mi: 11, Inertia: 1779475.6426\u001b[0m\n",
            "Use 8\n",
            "\u001b[38;5;243mafter PCA Dim: 392(0.50), Inertia: 1855819.3965\u001b[0m\n",
            "Select 4973\n",
            "\u001b[38;5;243mi: 1, Inertia: 2216861.9418\u001b[0m\n",
            "\u001b[38;5;243mi: 2, Inertia: 2001014.8603\u001b[0m\n",
            "\u001b[38;5;243mi: 3, Inertia: 1898406.3790\u001b[0m\n",
            "\u001b[38;5;243mi: 4, Inertia: 1822851.5019\u001b[0m\n",
            "\u001b[38;5;243mi: 5, Inertia: 1767938.8340\u001b[0m\n",
            "\u001b[38;5;243mi: 6, Inertia: 1725175.8523\u001b[0m\n",
            "\u001b[38;5;243mi: 7, Inertia: 1689557.4894\u001b[0m\n",
            "\u001b[38;5;243mi: 8, Inertia: 1659645.7038\u001b[0m\n",
            "\u001b[38;5;243mi: 9, Inertia: 1634701.2913\u001b[0m\n",
            "\u001b[38;5;243mi: 10, Inertia: 1612415.3728\u001b[0m\n",
            "\u001b[38;5;243mi: 11, Inertia: 1594187.0799\u001b[0m\n",
            "\u001b[38;5;243mi: 12, Inertia: 1578353.8656\u001b[0m\n",
            "\u001b[38;5;243mi: 13, Inertia: 1561356.2628\u001b[0m\n",
            "\u001b[38;5;243mi: 14, Inertia: 1546911.6482\u001b[0m\n",
            "\u001b[38;5;243mi: 15, Inertia: 1535179.7248\u001b[0m\n",
            "\u001b[38;5;243mi: 16, Inertia: 1520815.5762\u001b[0m\n",
            "Use 13\n",
            "\u001b[38;5;243mafter PCA Dim: 392(0.50), Inertia: 1561356.2628\u001b[0m\n",
            "Select 4930\n",
            "\u001b[38;5;243mi: 1, Inertia: 2022434.0910\u001b[0m\n",
            "\u001b[38;5;243mi: 2, Inertia: 1827751.5782\u001b[0m\n",
            "\u001b[38;5;243mi: 3, Inertia: 1726189.7587\u001b[0m\n",
            "\u001b[38;5;243mi: 4, Inertia: 1649141.7767\u001b[0m\n",
            "\u001b[38;5;243mi: 5, Inertia: 1590565.7348\u001b[0m\n",
            "\u001b[38;5;243mi: 6, Inertia: 1549792.0833\u001b[0m\n",
            "\u001b[38;5;243mi: 7, Inertia: 1515995.5734\u001b[0m\n",
            "\u001b[38;5;243mi: 8, Inertia: 1485924.8308\u001b[0m\n",
            "\u001b[38;5;243mi: 9, Inertia: 1460938.5497\u001b[0m\n",
            "\u001b[38;5;243mi: 10, Inertia: 1438722.4026\u001b[0m\n",
            "\u001b[38;5;243mi: 11, Inertia: 1418840.7546\u001b[0m\n",
            "\u001b[38;5;243mi: 12, Inertia: 1400489.6868\u001b[0m\n",
            "\u001b[38;5;243mi: 13, Inertia: 1383199.2159\u001b[0m\n",
            "\u001b[38;5;243mi: 14, Inertia: 1368629.1548\u001b[0m\n",
            "\u001b[38;5;243mi: 15, Inertia: 1354070.2645\u001b[0m\n",
            "\u001b[38;5;243mi: 16, Inertia: 1340983.5539\u001b[0m\n",
            "\u001b[38;5;243mi: 17, Inertia: 1328495.4663\u001b[0m\n",
            "\u001b[38;5;243mi: 18, Inertia: 1318983.5464\u001b[0m\n",
            "Use 15\n",
            "\u001b[38;5;243mafter PCA Dim: 392(0.50), Inertia: 1354070.2645\u001b[0m\n",
            "Select 3893\n",
            "\u001b[38;5;243mi: 1, Inertia: 1828028.0691\u001b[0m\n",
            "\u001b[38;5;243mi: 2, Inertia: 1572007.8769\u001b[0m\n",
            "\u001b[38;5;243mi: 3, Inertia: 1459913.0362\u001b[0m\n",
            "\u001b[38;5;243mi: 4, Inertia: 1402041.3996\u001b[0m\n",
            "\u001b[38;5;243mi: 5, Inertia: 1355733.0388\u001b[0m\n",
            "\u001b[38;5;243mi: 6, Inertia: 1319965.1816\u001b[0m\n",
            "\u001b[38;5;243mi: 7, Inertia: 1292722.8354\u001b[0m\n",
            "\u001b[38;5;243mi: 8, Inertia: 1266823.8079\u001b[0m\n",
            "\u001b[38;5;243mi: 9, Inertia: 1245669.9047\u001b[0m\n",
            "\u001b[38;5;243mi: 10, Inertia: 1226221.3697\u001b[0m\n",
            "\u001b[38;5;243mi: 11, Inertia: 1212288.1821\u001b[0m\n",
            "Use 8\n",
            "\u001b[38;5;243mafter PCA Dim: 392(0.50), Inertia: 1266823.8079\u001b[0m\n",
            "Select 5366\n",
            "\u001b[38;5;243mi: 1, Inertia: 2337903.2245\u001b[0m\n",
            "\u001b[38;5;243mi: 2, Inertia: 2009979.7006\u001b[0m\n",
            "\u001b[38;5;243mi: 3, Inertia: 1870681.5575\u001b[0m\n",
            "\u001b[38;5;243mi: 4, Inertia: 1777535.6261\u001b[0m\n",
            "\u001b[38;5;243mi: 5, Inertia: 1705439.9533\u001b[0m\n",
            "\u001b[38;5;243mi: 6, Inertia: 1657146.5345\u001b[0m\n",
            "\u001b[38;5;243mi: 7, Inertia: 1618006.2996\u001b[0m\n",
            "\u001b[38;5;243mi: 8, Inertia: 1587395.4616\u001b[0m\n",
            "\u001b[38;5;243mi: 9, Inertia: 1558819.5116\u001b[0m\n",
            "\u001b[38;5;243mi: 10, Inertia: 1531126.6800\u001b[0m\n",
            "\u001b[38;5;243mi: 11, Inertia: 1510870.9354\u001b[0m\n",
            "\u001b[38;5;243mi: 12, Inertia: 1490580.6987\u001b[0m\n",
            "\u001b[38;5;243mi: 13, Inertia: 1472256.2396\u001b[0m\n",
            "\u001b[38;5;243mi: 14, Inertia: 1456480.6855\u001b[0m\n",
            "\u001b[38;5;243mi: 15, Inertia: 1441279.0227\u001b[0m\n",
            "Use 12\n",
            "\u001b[38;5;243mafter PCA Dim: 392(0.50), Inertia: 1490580.6987\u001b[0m\n",
            "Select 5460\n",
            "\u001b[38;5;243mi: 1, Inertia: 1994914.1134\u001b[0m\n",
            "\u001b[38;5;243mi: 2, Inertia: 1732387.1095\u001b[0m\n",
            "\u001b[38;5;243mi: 3, Inertia: 1603125.2138\u001b[0m\n",
            "\u001b[38;5;243mi: 4, Inertia: 1512393.2870\u001b[0m\n",
            "\u001b[38;5;243mi: 5, Inertia: 1449345.8570\u001b[0m\n",
            "\u001b[38;5;243mi: 6, Inertia: 1405910.9392\u001b[0m\n",
            "\u001b[38;5;243mi: 7, Inertia: 1370511.5782\u001b[0m\n",
            "\u001b[38;5;243mi: 8, Inertia: 1337613.3177\u001b[0m\n",
            "\u001b[38;5;243mi: 9, Inertia: 1313155.0809\u001b[0m\n",
            "\u001b[38;5;243mi: 10, Inertia: 1289814.6910\u001b[0m\n",
            "\u001b[38;5;243mi: 11, Inertia: 1269415.9376\u001b[0m\n",
            "\u001b[38;5;243mi: 12, Inertia: 1252789.6046\u001b[0m\n",
            "\u001b[38;5;243mi: 13, Inertia: 1238343.0374\u001b[0m\n",
            "Use 10\n",
            "\u001b[38;5;243mafter PCA Dim: 392(0.50), Inertia: 1289814.6910\u001b[0m\n",
            "Select 4405\n",
            "\u001b[38;5;243mi: 1, Inertia: 1997491.7329\u001b[0m\n",
            "\u001b[38;5;243mi: 2, Inertia: 1792926.5447\u001b[0m\n",
            "\u001b[38;5;243mi: 3, Inertia: 1706347.6512\u001b[0m\n",
            "\u001b[38;5;243mi: 4, Inertia: 1649602.0641\u001b[0m\n",
            "\u001b[38;5;243mi: 5, Inertia: 1603136.2945\u001b[0m\n",
            "\u001b[38;5;243mi: 6, Inertia: 1568563.1172\u001b[0m\n",
            "\u001b[38;5;243mi: 7, Inertia: 1536192.2917\u001b[0m\n",
            "\u001b[38;5;243mi: 8, Inertia: 1512670.1131\u001b[0m\n",
            "\u001b[38;5;243mi: 9, Inertia: 1491431.5469\u001b[0m\n",
            "\u001b[38;5;243mi: 10, Inertia: 1473258.0928\u001b[0m\n",
            "Use 7\n",
            "\u001b[38;5;243mafter PCA Dim: 392(0.50), Inertia: 1536192.2917\u001b[0m\n",
            "Select 4722\n",
            "\u001b[38;5;243mi: 1, Inertia: 1759562.6467\u001b[0m\n",
            "\u001b[38;5;243mi: 2, Inertia: 1516401.0627\u001b[0m\n",
            "\u001b[38;5;243mi: 3, Inertia: 1410407.6234\u001b[0m\n",
            "\u001b[38;5;243mi: 4, Inertia: 1336309.8191\u001b[0m\n",
            "\u001b[38;5;243mi: 5, Inertia: 1279070.3979\u001b[0m\n",
            "\u001b[38;5;243mi: 6, Inertia: 1245173.5336\u001b[0m\n",
            "\u001b[38;5;243mi: 7, Inertia: 1217977.8245\u001b[0m\n",
            "\u001b[38;5;243mi: 8, Inertia: 1192065.8643\u001b[0m\n",
            "\u001b[38;5;243mi: 9, Inertia: 1169325.3303\u001b[0m\n",
            "\u001b[38;5;243mi: 10, Inertia: 1150810.6607\u001b[0m\n",
            "\u001b[38;5;243mi: 11, Inertia: 1133730.7101\u001b[0m\n",
            "Use 8\n",
            "\u001b[38;5;243mafter PCA Dim: 392(0.50), Inertia: 1192065.8643\u001b[0m\n",
            "\u001b[33mTask 0 Acc:  0.8099, Loss:  0.0049\u001b[0m\n",
            "\u001b[33mTask 1 Acc:  0.8430, Loss:  0.0044\u001b[0m\n",
            "\u001b[33mTask 2 Acc:  0.2686, Loss:  0.0183\u001b[0m\n",
            "\n",
            "Task 2 Start!\n",
            "Current Task Samples: 60000, Memory Samples: 217, alpha: 0\n",
            "\u001b[34msamples_per_dataset[86, 85, 85]\u001b[0m\n",
            "Epoch\t1\tAcc: 0.8044, Loss: 0.7080, use sample: 178688\n",
            "Epoch\t2\tAcc: 0.8595, Loss: 0.5618, use sample: 178688\n",
            "Epoch\t3\tAcc: 0.8837, Loss: 0.5009, use sample: 178688\n",
            "Epoch\t4\tAcc: 0.8974, Loss: 0.4654, use sample: 178688\n",
            "Epoch\t5\tAcc: 0.9063, Loss: 0.4411, use sample: 178688\n",
            "Epoch\t6\tAcc: 0.9125, Loss: 0.4228, use sample: 178688\n",
            "Epoch\t7\tAcc: 0.9170, Loss: 0.4084, use sample: 178688\n",
            "Epoch\t8\tAcc: 0.9208, Loss: 0.3964, use sample: 178688\n",
            "Epoch\t9\tAcc: 0.9236, Loss: 0.3864, use sample: 178688\n",
            "Epoch\t10\tAcc: 0.9259, Loss: 0.3779, use sample: 178688\n",
            "\u001b[33mTask 0 Acc:  0.7605, Loss:  0.0062\u001b[0m\n",
            "\u001b[33mTask 1 Acc:  0.7938, Loss:  0.0052\u001b[0m\n",
            "\u001b[33mTask 2 Acc:  0.7832, Loss:  0.0055\u001b[0m\n",
            "\n"
          ]
        }
      ],
      "source": [
        "model = Module().to(device)\n",
        "\n",
        "for i in range(task):\n",
        "    training(model, task_loader, [len(test_task[0])] * task,\n",
        "             num_task=i, epochs=epochs,\n",
        "            avalanche_list=avalanche_list, num_exempler=100, alpha=0)"
      ]
    },
    {
      "cell_type": "markdown",
      "metadata": {
        "id": "eTTwpyC4uSaw"
      },
      "source": [
        "## Calculate Outcome"
      ]
    },
    {
      "cell_type": "code",
      "execution_count": 29,
      "metadata": {
        "id": "Oi5_cFBJuSaw",
        "outputId": "fd77a00b-0c06-4e88-a7e2-a307904fc3ef",
        "colab": {
          "base_uri": "https://localhost:8080/"
        }
      },
      "outputs": [
        {
          "output_type": "stream",
          "name": "stdout",
          "text": [
            "ACC : 0.7792\n",
            "BWT : -0.0825\n"
          ]
        }
      ],
      "source": [
        "acc = 0\n",
        "bwt = 0\n",
        "\n",
        "for i in range(task):\n",
        "    acc += record_acc[-1, i]\n",
        "acc /= task\n",
        "\n",
        "for i in range(task - 1):\n",
        "    bwt += record_acc[-1, i] - record_acc[i, i]\n",
        "bwt /= (task - 1)\n",
        "\n",
        "print(f'ACC : {acc:.4f}')\n",
        "print(f'BWT : {bwt:.4f}')"
      ]
    },
    {
      "cell_type": "markdown",
      "metadata": {
        "id": "ACMLV4SLk5h3"
      },
      "source": [
        " - Task 0"
      ]
    },
    {
      "cell_type": "code",
      "execution_count": 30,
      "metadata": {
        "id": "J1bz86Qxk5h4",
        "outputId": "7af29a9d-4100-4ad9-ef5e-4266d00eca7b",
        "colab": {
          "base_uri": "https://localhost:8080/",
          "height": 802
        }
      },
      "outputs": [
        {
          "output_type": "stream",
          "name": "stdout",
          "text": [
            "\u001b[33mAccuracy\u001b[0m 0.7605\n",
            "\u001b[33mClassification Report\u001b[0m\n",
            "              precision    recall  f1-score   support\n",
            "\n",
            "           0       0.86      0.86      0.86       980\n",
            "           1       0.87      0.94      0.90      1135\n",
            "           2       0.67      0.65      0.66      1032\n",
            "           3       0.75      0.69      0.72      1010\n",
            "           4       0.61      0.75      0.67       982\n",
            "           5       0.65      0.65      0.65       892\n",
            "           6       0.81      0.80      0.81       958\n",
            "           7       0.85      0.77      0.81      1028\n",
            "           8       0.76      0.70      0.73       974\n",
            "           9       0.77      0.77      0.77      1009\n",
            "\n",
            "    accuracy                           0.76     10000\n",
            "   macro avg       0.76      0.76      0.76     10000\n",
            "weighted avg       0.76      0.76      0.76     10000\n",
            "\n"
          ]
        },
        {
          "output_type": "display_data",
          "data": {
            "text/plain": [
              "<Figure size 640x480 with 2 Axes>"
            ],
            "image/png": "[encoded data removed]"
          },
          "metadata": {}
        }
      ],
      "source": [
        "true_label = []\n",
        "pred_label = []\n",
        "try:\n",
        "    class_name = test_task_1.classes\n",
        "except:\n",
        "    class_name = [str(i) for i in  range(10)]\n",
        "\n",
        "with torch.no_grad():\n",
        "    for data in task_loader[0]:\n",
        "        img, label = data\n",
        "        img, label = img.to(device), label.to(device)\n",
        "        _, output = model(img)\n",
        "        output = output.argmax(1)\n",
        "        true_label.extend(label.cpu().numpy())\n",
        "        pred_label.extend(output.cpu().numpy())\n",
        "\n",
        "from sklearn.metrics import accuracy_score\n",
        "from sklearn.metrics import classification_report\n",
        "print('\\033[33m' + 'Accuracy' + '\\033[0m', accuracy_score(true_label, pred_label))\n",
        "print('\\033[33m' + 'Classification Report' + '\\033[0m',\n",
        "      classification_report(true_label, pred_label, target_names=class_name),\n",
        "      sep='\\n')\n",
        "from sklearn.metrics import confusion_matrix\n",
        "import seaborn as sns\n",
        "\n",
        "cm = confusion_matrix(true_label, pred_label)\n",
        "plt.cla(); plt.clf()\n",
        "sns.heatmap(cm, annot=True, fmt=\"d\", cmap=\"Blues\", xticklabels=class_name, yticklabels=class_name)\n",
        "plt.xlabel(\"Predicted Label\")\n",
        "plt.ylabel(\"True Label\")\n",
        "plt.title(\"Task 0 Confusion Matrix\")\n",
        "plt.show()"
      ]
    },
    {
      "cell_type": "code",
      "execution_count": 31,
      "metadata": {
        "id": "9TpH6Q832TWo",
        "outputId": "77f1ef02-070f-46ad-a590-65f7971b4cdc",
        "colab": {
          "base_uri": "https://localhost:8080/"
        }
      },
      "outputs": [
        {
          "output_type": "stream",
          "name": "stdout",
          "text": [
            "2025-05-17_07_22_35\n"
          ]
        }
      ],
      "source": [
        "import datetime\n",
        "import pytz\n",
        "\n",
        "now = datetime.datetime.now(pytz.timezone('Asia/Taipei')).strftime(\"%Y-%m-%d_%H_%M_%S\")\n",
        "print(now)"
      ]
    },
    {
      "cell_type": "code",
      "execution_count": 32,
      "metadata": {
        "id": "8zSF3T-dT4-B"
      },
      "outputs": [],
      "source": [
        "import pickle\n",
        "with open('history.pickle', 'wb') as f:\n",
        "  pickle.dump(record_acc, f)"
      ]
    },
    {
      "cell_type": "code",
      "execution_count": 33,
      "metadata": {
        "id": "4bqEefNwG5Zn",
        "outputId": "d7c96d9e-f909-41bc-bb5e-123db0b95b1f",
        "colab": {
          "base_uri": "https://localhost:8080/"
        }
      },
      "outputs": [
        {
          "output_type": "execute_result",
          "data": {
            "text/plain": [
              "array([[0.87629998, 0.30270001, 0.1212    ],\n",
              "       [0.80989999, 0.84299999, 0.26859999],\n",
              "       [0.76050001, 0.7938    , 0.78320003]])"
            ]
          },
          "metadata": {},
          "execution_count": 33
        }
      ],
      "source": [
        "record_acc"
      ]
    },
    {
      "cell_type": "code",
      "source": [
        "!mkdir kmeans_record\n",
        "from glob import glob\n",
        "import matplotlib.pyplot as plt\n",
        "import matplotlib.image as mpimg\n",
        "\n",
        "for c in range(10):\n",
        "  file = glob(f'/content/img/class_{c}/cluster_*')\n",
        "  fig, axes = plt.subplots(len(file), 10)\n",
        "  for i in range(len(file)):\n",
        "    f = glob(f'/content/img/class_{c}/cluster_{i}/*.png')\n",
        "    for j in range(10):\n",
        "      axes[i][j].imshow(mpimg.imread(f[j]), cmap='gray')\n",
        "      axes[i][j].axis('off')\n",
        "  plt.savefig(f'kmeans_record/{c}.png')\n",
        "  plt.close()"
      ],
      "metadata": {
        "id": "-5Ut-FUHWAa5"
      },
      "execution_count": 34,
      "outputs": []
    },
    {
      "cell_type": "code",
      "source": [
        "!zip -r kmeans_record.zip /content/kmeans_record/"
      ],
      "metadata": {
        "id": "rb3f8ymqFGys",
        "outputId": "5c80c698-3860-41c9-8613-df3d13a352d2",
        "colab": {
          "base_uri": "https://localhost:8080/"
        }
      },
      "execution_count": 35,
      "outputs": [
        {
          "output_type": "stream",
          "name": "stdout",
          "text": [
            "  adding: content/kmeans_record/ (stored 0%)\n",
            "  adding: content/kmeans_record/8.png (deflated 13%)\n",
            "  adding: content/kmeans_record/5.png (deflated 12%)\n",
            "  adding: content/kmeans_record/6.png (deflated 12%)\n",
            "  adding: content/kmeans_record/2.png (deflated 11%)\n",
            "  adding: content/kmeans_record/7.png (deflated 11%)\n",
            "  adding: content/kmeans_record/1.png (deflated 12%)\n",
            "  adding: content/kmeans_record/0.png (deflated 10%)\n",
            "  adding: content/kmeans_record/9.png (deflated 13%)\n",
            "  adding: content/kmeans_record/3.png (deflated 12%)\n",
            "  adding: content/kmeans_record/4.png (deflated 11%)\n"
          ]
        }
      ]
    }
  ],
  "metadata": {
    "colab": {
      "provenance": [],
      "toc_visible": true,
      "include_colab_link": true
    },
    "kaggle": {
      "accelerator": "none",
      "dataSources": [],
      "dockerImageVersionId": 31012,
      "isGpuEnabled": false,
      "isInternetEnabled": true,
      "language": "python",
      "sourceType": "notebook"
    },
    "kernelspec": {
      "display_name": "Python 3",
      "name": "python3"
    },
    "language_info": {
      "codemirror_mode": {
        "name": "ipython",
        "version": 3
      },
      "file_extension": ".py",
      "mimetype": "text/x-python",
      "name": "python",
      "nbconvert_exporter": "python",
      "pygments_lexer": "ipython3",
      "version": "3.11.11"
    }
  },
  "nbformat": 4,
  "nbformat_minor": 0
}