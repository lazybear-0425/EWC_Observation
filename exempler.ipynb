{
  "cells": [
    {
      "cell_type": "markdown",
      "metadata": {
        "id": "view-in-github",
        "colab_type": "text"
      },
      "source": [
        "<a href=\"https://colab.research.google.com/github/lazybear-0425/EWC_Observation/blob/main/exempler.ipynb\" target=\"_parent\"><img src=\"https://colab.research.google.com/assets/colab-badge.svg\" alt=\"Open In Colab\"/></a>"
      ]
    },
    {
      "cell_type": "code",
      "execution_count": null,
      "metadata": {
        "colab": {
          "base_uri": "https://localhost:8080/"
        },
        "id": "BFwDmQC6uSao",
        "outputId": "03898ac3-22d1-43f7-f10b-4d10e459f39b"
      },
      "outputs": [
        {
          "output_type": "stream",
          "name": "stdout",
          "text": [
            "Requirement already satisfied: avalanche-lib in /usr/local/lib/python3.11/dist-packages (0.6.0)\n",
            "Requirement already satisfied: typing-extensions>=4.6.0 in /usr/local/lib/python3.11/dist-packages (from avalanche-lib) (4.13.2)\n",
            "Requirement already satisfied: psutil in /usr/local/lib/python3.11/dist-packages (from avalanche-lib) (5.9.5)\n",
            "Requirement already satisfied: gputil in /usr/local/lib/python3.11/dist-packages (from avalanche-lib) (1.4.0)\n",
            "Requirement already satisfied: scikit-learn in /usr/local/lib/python3.11/dist-packages (from avalanche-lib) (1.6.1)\n",
            "Requirement already satisfied: matplotlib in /usr/local/lib/python3.11/dist-packages (from avalanche-lib) (3.10.0)\n",
            "Requirement already satisfied: numpy in /usr/local/lib/python3.11/dist-packages (from avalanche-lib) (2.0.2)\n",
            "Requirement already satisfied: pytorchcv in /usr/local/lib/python3.11/dist-packages (from avalanche-lib) (0.0.73)\n",
            "Requirement already satisfied: wandb in /usr/local/lib/python3.11/dist-packages (from avalanche-lib) (0.19.11)\n",
            "Requirement already satisfied: tensorboard>=1.15 in /usr/local/lib/python3.11/dist-packages (from avalanche-lib) (2.18.0)\n",
            "Requirement already satisfied: tqdm in /usr/local/lib/python3.11/dist-packages (from avalanche-lib) (4.67.1)\n",
            "Requirement already satisfied: torch in /usr/local/lib/python3.11/dist-packages (from avalanche-lib) (2.6.0+cu124)\n",
            "Requirement already satisfied: torchvision in /usr/local/lib/python3.11/dist-packages (from avalanche-lib) (0.21.0+cu124)\n",
            "Requirement already satisfied: torchmetrics in /usr/local/lib/python3.11/dist-packages (from avalanche-lib) (1.7.1)\n",
            "Requirement already satisfied: gdown in /usr/local/lib/python3.11/dist-packages (from avalanche-lib) (5.2.0)\n",
            "Requirement already satisfied: qpsolvers[open_source_solvers] in /usr/local/lib/python3.11/dist-packages (from avalanche-lib) (4.7.0)\n",
            "Requirement already satisfied: dill in /usr/local/lib/python3.11/dist-packages (from avalanche-lib) (0.3.7)\n",
            "Requirement already satisfied: packaging in /usr/local/lib/python3.11/dist-packages (from avalanche-lib) (24.2)\n",
            "Requirement already satisfied: absl-py>=0.4 in /usr/local/lib/python3.11/dist-packages (from tensorboard>=1.15->avalanche-lib) (1.4.0)\n",
            "Requirement already satisfied: grpcio>=1.48.2 in /usr/local/lib/python3.11/dist-packages (from tensorboard>=1.15->avalanche-lib) (1.71.0)\n",
            "Requirement already satisfied: markdown>=2.6.8 in /usr/local/lib/python3.11/dist-packages (from tensorboard>=1.15->avalanche-lib) (3.8)\n",
            "Requirement already satisfied: protobuf!=4.24.0,>=3.19.6 in /usr/local/lib/python3.11/dist-packages (from tensorboard>=1.15->avalanche-lib) (5.29.4)\n",
            "Requirement already satisfied: setuptools>=41.0.0 in /usr/local/lib/python3.11/dist-packages (from tensorboard>=1.15->avalanche-lib) (75.2.0)\n",
            "Requirement already satisfied: six>1.9 in /usr/local/lib/python3.11/dist-packages (from tensorboard>=1.15->avalanche-lib) (1.17.0)\n",
            "Requirement already satisfied: tensorboard-data-server<0.8.0,>=0.7.0 in /usr/local/lib/python3.11/dist-packages (from tensorboard>=1.15->avalanche-lib) (0.7.2)\n",
            "Requirement already satisfied: werkzeug>=1.0.1 in /usr/local/lib/python3.11/dist-packages (from tensorboard>=1.15->avalanche-lib) (3.1.3)\n",
            "Requirement already satisfied: beautifulsoup4 in /usr/local/lib/python3.11/dist-packages (from gdown->avalanche-lib) (4.13.4)\n",
            "Requirement already satisfied: filelock in /usr/local/lib/python3.11/dist-packages (from gdown->avalanche-lib) (3.18.0)\n",
            "Requirement already satisfied: requests[socks] in /usr/local/lib/python3.11/dist-packages (from gdown->avalanche-lib) (2.32.3)\n",
            "Requirement already satisfied: contourpy>=1.0.1 in /usr/local/lib/python3.11/dist-packages (from matplotlib->avalanche-lib) (1.3.2)\n",
            "Requirement already satisfied: cycler>=0.10 in /usr/local/lib/python3.11/dist-packages (from matplotlib->avalanche-lib) (0.12.1)\n",
            "Requirement already satisfied: fonttools>=4.22.0 in /usr/local/lib/python3.11/dist-packages (from matplotlib->avalanche-lib) (4.57.0)\n",
            "Requirement already satisfied: kiwisolver>=1.3.1 in /usr/local/lib/python3.11/dist-packages (from matplotlib->avalanche-lib) (1.4.8)\n",
            "Requirement already satisfied: pillow>=8 in /usr/local/lib/python3.11/dist-packages (from matplotlib->avalanche-lib) (11.2.1)\n",
            "Requirement already satisfied: pyparsing>=2.3.1 in /usr/local/lib/python3.11/dist-packages (from matplotlib->avalanche-lib) (3.2.3)\n",
            "Requirement already satisfied: python-dateutil>=2.7 in /usr/local/lib/python3.11/dist-packages (from matplotlib->avalanche-lib) (2.9.0.post0)\n",
            "Requirement already satisfied: scipy>=1.2.0 in /usr/local/lib/python3.11/dist-packages (from qpsolvers[open_source_solvers]->avalanche-lib) (1.15.3)\n",
            "Requirement already satisfied: joblib>=1.2.0 in /usr/local/lib/python3.11/dist-packages (from scikit-learn->avalanche-lib) (1.5.0)\n",
            "Requirement already satisfied: threadpoolctl>=3.1.0 in /usr/local/lib/python3.11/dist-packages (from scikit-learn->avalanche-lib) (3.6.0)\n",
            "Requirement already satisfied: networkx in /usr/local/lib/python3.11/dist-packages (from torch->avalanche-lib) (3.4.2)\n",
            "Requirement already satisfied: jinja2 in /usr/local/lib/python3.11/dist-packages (from torch->avalanche-lib) (3.1.6)\n",
            "Requirement already satisfied: fsspec in /usr/local/lib/python3.11/dist-packages (from torch->avalanche-lib) (2025.3.2)\n",
            "Requirement already satisfied: nvidia-cuda-nvrtc-cu12==12.4.127 in /usr/local/lib/python3.11/dist-packages (from torch->avalanche-lib) (12.4.127)\n",
            "Requirement already satisfied: nvidia-cuda-runtime-cu12==12.4.127 in /usr/local/lib/python3.11/dist-packages (from torch->avalanche-lib) (12.4.127)\n",
            "Requirement already satisfied: nvidia-cuda-cupti-cu12==12.4.127 in /usr/local/lib/python3.11/dist-packages (from torch->avalanche-lib) (12.4.127)\n",
            "Requirement already satisfied: nvidia-cudnn-cu12==9.1.0.70 in /usr/local/lib/python3.11/dist-packages (from torch->avalanche-lib) (9.1.0.70)\n",
            "Requirement already satisfied: nvidia-cublas-cu12==12.4.5.8 in /usr/local/lib/python3.11/dist-packages (from torch->avalanche-lib) (12.4.5.8)\n",
            "Requirement already satisfied: nvidia-cufft-cu12==11.2.1.3 in /usr/local/lib/python3.11/dist-packages (from torch->avalanche-lib) (11.2.1.3)\n",
            "Requirement already satisfied: nvidia-curand-cu12==10.3.5.147 in /usr/local/lib/python3.11/dist-packages (from torch->avalanche-lib) (10.3.5.147)\n",
            "Requirement already satisfied: nvidia-cusolver-cu12==11.6.1.9 in /usr/local/lib/python3.11/dist-packages (from torch->avalanche-lib) (11.6.1.9)\n",
            "Requirement already satisfied: nvidia-cusparse-cu12==12.3.1.170 in /usr/local/lib/python3.11/dist-packages (from torch->avalanche-lib) (12.3.1.170)\n",
            "Requirement already satisfied: nvidia-cusparselt-cu12==0.6.2 in /usr/local/lib/python3.11/dist-packages (from torch->avalanche-lib) (0.6.2)\n",
            "Requirement already satisfied: nvidia-nccl-cu12==2.21.5 in /usr/local/lib/python3.11/dist-packages (from torch->avalanche-lib) (2.21.5)\n",
            "Requirement already satisfied: nvidia-nvtx-cu12==12.4.127 in /usr/local/lib/python3.11/dist-packages (from torch->avalanche-lib) (12.4.127)\n",
            "Requirement already satisfied: nvidia-nvjitlink-cu12==12.4.127 in /usr/local/lib/python3.11/dist-packages (from torch->avalanche-lib) (12.4.127)\n",
            "Requirement already satisfied: triton==3.2.0 in /usr/local/lib/python3.11/dist-packages (from torch->avalanche-lib) (3.2.0)\n",
            "Requirement already satisfied: sympy==1.13.1 in /usr/local/lib/python3.11/dist-packages (from torch->avalanche-lib) (1.13.1)\n",
            "Requirement already satisfied: mpmath<1.4,>=1.1.0 in /usr/local/lib/python3.11/dist-packages (from sympy==1.13.1->torch->avalanche-lib) (1.3.0)\n",
            "Requirement already satisfied: lightning-utilities>=0.8.0 in /usr/local/lib/python3.11/dist-packages (from torchmetrics->avalanche-lib) (0.14.3)\n",
            "Requirement already satisfied: click!=8.0.0,>=7.1 in /usr/local/lib/python3.11/dist-packages (from wandb->avalanche-lib) (8.1.8)\n",
            "Requirement already satisfied: docker-pycreds>=0.4.0 in /usr/local/lib/python3.11/dist-packages (from wandb->avalanche-lib) (0.4.0)\n",
            "Requirement already satisfied: gitpython!=3.1.29,>=1.0.0 in /usr/local/lib/python3.11/dist-packages (from wandb->avalanche-lib) (3.1.44)\n",
            "Requirement already satisfied: platformdirs in /usr/local/lib/python3.11/dist-packages (from wandb->avalanche-lib) (4.3.8)\n",
            "Requirement already satisfied: pydantic<3 in /usr/local/lib/python3.11/dist-packages (from wandb->avalanche-lib) (2.11.4)\n",
            "Requirement already satisfied: pyyaml in /usr/local/lib/python3.11/dist-packages (from wandb->avalanche-lib) (6.0.2)\n",
            "Requirement already satisfied: sentry-sdk>=2.0.0 in /usr/local/lib/python3.11/dist-packages (from wandb->avalanche-lib) (2.27.0)\n",
            "Requirement already satisfied: setproctitle in /usr/local/lib/python3.11/dist-packages (from wandb->avalanche-lib) (1.3.6)\n",
            "Requirement already satisfied: gitdb<5,>=4.0.1 in /usr/local/lib/python3.11/dist-packages (from gitpython!=3.1.29,>=1.0.0->wandb->avalanche-lib) (4.0.12)\n",
            "Requirement already satisfied: annotated-types>=0.6.0 in /usr/local/lib/python3.11/dist-packages (from pydantic<3->wandb->avalanche-lib) (0.7.0)\n",
            "Requirement already satisfied: pydantic-core==2.33.2 in /usr/local/lib/python3.11/dist-packages (from pydantic<3->wandb->avalanche-lib) (2.33.2)\n",
            "Requirement already satisfied: typing-inspection>=0.4.0 in /usr/local/lib/python3.11/dist-packages (from pydantic<3->wandb->avalanche-lib) (0.4.0)\n",
            "Requirement already satisfied: charset-normalizer<4,>=2 in /usr/local/lib/python3.11/dist-packages (from requests[socks]->gdown->avalanche-lib) (3.4.2)\n",
            "Requirement already satisfied: idna<4,>=2.5 in /usr/local/lib/python3.11/dist-packages (from requests[socks]->gdown->avalanche-lib) (3.10)\n",
            "Requirement already satisfied: urllib3<3,>=1.21.1 in /usr/local/lib/python3.11/dist-packages (from requests[socks]->gdown->avalanche-lib) (2.4.0)\n",
            "Requirement already satisfied: certifi>=2017.4.17 in /usr/local/lib/python3.11/dist-packages (from requests[socks]->gdown->avalanche-lib) (2025.4.26)\n",
            "Requirement already satisfied: MarkupSafe>=2.1.1 in /usr/local/lib/python3.11/dist-packages (from werkzeug>=1.0.1->tensorboard>=1.15->avalanche-lib) (3.0.2)\n",
            "Requirement already satisfied: soupsieve>1.2 in /usr/local/lib/python3.11/dist-packages (from beautifulsoup4->gdown->avalanche-lib) (2.7)\n",
            "Requirement already satisfied: clarabel>=0.4.1 in /usr/local/lib/python3.11/dist-packages (from qpsolvers[open_source_solvers]->avalanche-lib) (0.10.0)\n",
            "Requirement already satisfied: cvxopt>=1.2.6 in /usr/local/lib/python3.11/dist-packages (from qpsolvers[open_source_solvers]->avalanche-lib) (1.3.2)\n",
            "Requirement already satisfied: daqp>=0.5.1 in /usr/local/lib/python3.11/dist-packages (from qpsolvers[open_source_solvers]->avalanche-lib) (0.7.1)\n",
            "Requirement already satisfied: ecos>=2.0.8 in /usr/local/lib/python3.11/dist-packages (from qpsolvers[open_source_solvers]->avalanche-lib) (2.0.14)\n",
            "Requirement already satisfied: highspy>=1.1.2.dev3 in /usr/local/lib/python3.11/dist-packages (from qpsolvers[open_source_solvers]->avalanche-lib) (1.10.0)\n",
            "Requirement already satisfied: jaxopt>=0.8.3 in /usr/local/lib/python3.11/dist-packages (from qpsolvers[open_source_solvers]->avalanche-lib) (0.8.5)\n",
            "Requirement already satisfied: osqp>=0.6.2 in /usr/local/lib/python3.11/dist-packages (from qpsolvers[open_source_solvers]->avalanche-lib) (1.0.4)\n",
            "Requirement already satisfied: piqp>=0.2.2 in /usr/local/lib/python3.11/dist-packages (from qpsolvers[open_source_solvers]->avalanche-lib) (0.5.0)\n",
            "Requirement already satisfied: proxsuite>=0.2.9 in /usr/local/lib/python3.11/dist-packages (from qpsolvers[open_source_solvers]->avalanche-lib) (0.7.2)\n",
            "Requirement already satisfied: qpalm>=1.2.1 in /usr/local/lib/python3.11/dist-packages (from qpsolvers[open_source_solvers]->avalanche-lib) (1.2.5)\n",
            "Requirement already satisfied: qpax>=0.0.9 in /usr/local/lib/python3.11/dist-packages (from qpsolvers[open_source_solvers]->avalanche-lib) (0.0.9)\n",
            "Requirement already satisfied: quadprog>=0.1.11 in /usr/local/lib/python3.11/dist-packages (from qpsolvers[open_source_solvers]->avalanche-lib) (0.1.13)\n",
            "Requirement already satisfied: scs>=3.2.0 in /usr/local/lib/python3.11/dist-packages (from qpsolvers[open_source_solvers]->avalanche-lib) (3.2.7.post2)\n",
            "Requirement already satisfied: sip-python>=0.0.2 in /usr/local/lib/python3.11/dist-packages (from qpsolvers[open_source_solvers]->avalanche-lib) (0.0.2)\n",
            "Requirement already satisfied: PySocks!=1.5.7,>=1.5.6 in /usr/local/lib/python3.11/dist-packages (from requests[socks]->gdown->avalanche-lib) (1.7.1)\n",
            "Requirement already satisfied: smmap<6,>=3.0.1 in /usr/local/lib/python3.11/dist-packages (from gitdb<5,>=4.0.1->gitpython!=3.1.29,>=1.0.0->wandb->avalanche-lib) (5.0.2)\n",
            "Requirement already satisfied: jax>=0.2.18 in /usr/local/lib/python3.11/dist-packages (from jaxopt>=0.8.3->qpsolvers[open_source_solvers]->avalanche-lib) (0.5.2)\n",
            "Requirement already satisfied: jaxlib>=0.1.69 in /usr/local/lib/python3.11/dist-packages (from jaxopt>=0.8.3->qpsolvers[open_source_solvers]->avalanche-lib) (0.5.1)\n",
            "Requirement already satisfied: cmeel in /usr/local/lib/python3.11/dist-packages (from proxsuite>=0.2.9->qpsolvers[open_source_solvers]->avalanche-lib) (0.57.3)\n",
            "Requirement already satisfied: ml_dtypes>=0.4.0 in /usr/local/lib/python3.11/dist-packages (from jax>=0.2.18->jaxopt>=0.8.3->qpsolvers[open_source_solvers]->avalanche-lib) (0.4.1)\n",
            "Requirement already satisfied: opt_einsum in /usr/local/lib/python3.11/dist-packages (from jax>=0.2.18->jaxopt>=0.8.3->qpsolvers[open_source_solvers]->avalanche-lib) (3.4.0)\n"
          ]
        }
      ],
      "source": [
        "# !pip install scikit-learn==1.6.1\n",
        "!pip install avalanche-lib"
      ]
    },
    {
      "cell_type": "markdown",
      "metadata": {
        "id": "XppDRQ3bk5hU"
      },
      "source": [
        " - Life Lone Learning\n",
        " - Elastic Weight Consolidation (EWC)\n",
        "    - [教學](https://www.kaggle.com/code/hughiephan/elastic-weight-consolidation-on-minst)\n",
        "    - [Paper](https://arxiv.org/pdf/1612.00796)\n",
        "    - 公式 $\\mathcal{L}(\\theta) = \\mathcal{L}_B(\\theta) + \\frac\\lambda2\\sum^n_{i=1}F_i(\\theta_i - \\theta^*_{A,i})^2$\n",
        "        - B是指目前任務，A是指前一個任務\n",
        " - [教學2](https://github.com/ContinualAI/colab/blob/master/notebooks/intro_to_continual_learning.ipynb)"
      ]
    },
    {
      "cell_type": "code",
      "execution_count": null,
      "metadata": {
        "id": "UhuyOT2bk5hf"
      },
      "outputs": [],
      "source": [
        "import torch\n",
        "from torch import nn\n",
        "from torchvision.transforms import Compose, ToTensor, Normalize, RandomRotation, Lambda\n",
        "import numpy as np\n",
        "from torchvision.datasets import MNIST\n",
        "from torch.utils.data import DataLoader\n",
        "import matplotlib.pyplot as plt\n",
        "from torch.nn import CrossEntropyLoss\n",
        "from torch.optim import Adam, SGD\n",
        "from torch.utils.data import Dataset, WeightedRandomSampler\n",
        "from torch.nn.functional import cross_entropy\n",
        "from torch.utils.data import Subset, ConcatDataset\n",
        "import sklearn\n",
        "from avalanche.benchmarks import RotatedMNIST, PermutedMNIST\n",
        "from itertools import islice"
      ]
    },
    {
      "cell_type": "code",
      "execution_count": null,
      "metadata": {
        "colab": {
          "base_uri": "https://localhost:8080/"
        },
        "id": "qRqmyS0BuSas",
        "outputId": "daaee1a6-3daa-4745-9289-b36500b6d7c5"
      },
      "outputs": [
        {
          "output_type": "stream",
          "name": "stdout",
          "text": [
            "Important Library Version\n",
            "sklearn 1.6.1\n",
            "pytorch 2.6.0+cu124\n",
            "numpy 2.0.2\n"
          ]
        }
      ],
      "source": [
        "print('Important Library Version')\n",
        "print('sklearn', sklearn.__version__)\n",
        "print('pytorch', torch.__version__)\n",
        "print('numpy', np.__version__)"
      ]
    },
    {
      "cell_type": "code",
      "execution_count": null,
      "metadata": {
        "id": "94RH4vi9k5hl"
      },
      "outputs": [],
      "source": [
        "device = 'cuda' if torch.cuda.is_available() else 'cpu'"
      ]
    },
    {
      "cell_type": "code",
      "execution_count": null,
      "metadata": {
        "colab": {
          "base_uri": "https://localhost:8080/"
        },
        "id": "Z-B-aXy2jqrp",
        "outputId": "bc638ef2-0e52-4f43-b0d0-ff7170c04f0e"
      },
      "outputs": [
        {
          "output_type": "execute_result",
          "data": {
            "text/plain": [
              "<torch._C.Generator at 0x7ac1ae3aa7f0>"
            ]
          },
          "metadata": {},
          "execution_count": 5
        }
      ],
      "source": [
        "import random\n",
        "\n",
        "seed = 1\n",
        "torch.manual_seed(seed)\n",
        "torch.cuda.manual_seed(seed)\n",
        "torch.cuda.manual_seed_all(seed)\n",
        "np.random.seed(seed)\n",
        "random.seed(seed)\n",
        "torch.backends.cudnn.deterministic = True  # 確保 CuDNN 使用確定性算法\n",
        "torch.backends.cudnn.benchmark = False  # 禁止自適應選擇最佳內核，確保結果可重現\n",
        "torch.set_float32_matmul_precision('high')\n",
        "\n",
        "torch_gen = torch.Generator()\n",
        "torch_gen.manual_seed(seed)"
      ]
    },
    {
      "cell_type": "code",
      "execution_count": null,
      "metadata": {
        "id": "9X79v2Vik5hn"
      },
      "outputs": [],
      "source": [
        "batch_size = 256\n",
        "epochs = 10\n",
        "task = 10"
      ]
    },
    {
      "cell_type": "code",
      "execution_count": null,
      "metadata": {
        "id": "UOSuVhRauSat"
      },
      "outputs": [],
      "source": [
        "avalanche_list = [0, 5923, 12665, 18623, 24754, 30596, 36017, 41935, 48200, 54051, 60000]"
      ]
    },
    {
      "cell_type": "markdown",
      "metadata": {
        "id": "EBx54sk3k5ho"
      },
      "source": [
        " - [ToTensor](https://pytorch.org/vision/main/generated/torchvision.transforms.ToTensor.html)"
      ]
    },
    {
      "cell_type": "code",
      "execution_count": null,
      "metadata": {
        "id": "3RaqT68xuSat"
      },
      "outputs": [],
      "source": [
        "benchmark = PermutedMNIST( # RotatedMNIST, PermutedMNIST\n",
        "    n_experiences=task,\n",
        "    seed=seed,\n",
        "    # rotations_list=[0, 45, 90],\n",
        "    # train_transform=Compose([Normalize(mean=[0.0], std=[1])]),\n",
        "    # eval_transform=Compose([Normalize(mean=[0.0], std=[1])]),\n",
        ")\n",
        "train_stream = benchmark.train_stream\n",
        "test_stream = benchmark.test_stream"
      ]
    },
    {
      "cell_type": "markdown",
      "metadata": {
        "id": "49awsC0HuSau"
      },
      "source": [
        "## Data"
      ]
    },
    {
      "cell_type": "code",
      "execution_count": null,
      "metadata": {
        "id": "ObIdwtPo9Dop"
      },
      "outputs": [],
      "source": [
        "class SortedMNIST(Dataset):\n",
        "  def __init__(self, task_num=None, train_stream=None, test_stream=None, train=True):\n",
        "    super().__init__()\n",
        "    if task_num == None or train_stream == None or test_stream == None:\n",
        "        raise ValueError('Can\\'t be None!')\n",
        "    if train:\n",
        "        self.data = [img for img, y, t in train_stream[task_num].dataset]\n",
        "        self.target = [y for img, y, t in train_stream[task_num].dataset]\n",
        "    else:\n",
        "        self.data = [img for img, y, t in test_stream[task_num].dataset]\n",
        "        self.target = [y for img, y, t in test_stream[task_num].dataset]\n",
        "    self.data = np.array(self.data)\n",
        "    self.target = np.array(self.target)\n",
        "    '''\n",
        "    sorted_idx = np.argsort(self.target)\n",
        "    self.data = self.data[sorted_idx]\n",
        "    self.target = self.target[sorted_idx]\n",
        "    '''\n",
        "    self.data = torch.from_numpy(self.data)\n",
        "    self.target = torch.from_numpy(self.target)\n",
        "  def __getitem__(self, index):\n",
        "    return self.data[index], self.target[index]\n",
        "  def __len__(self):\n",
        "    return len(self.data)"
      ]
    },
    {
      "cell_type": "code",
      "execution_count": null,
      "metadata": {
        "id": "NI9Ag4bZk5hs"
      },
      "outputs": [],
      "source": [
        "# preprocessing\n",
        "# train_task_1 = FashionMNIST('data', train=True, transform=trans_compose(0), download=True)\n",
        "# train_task_2 = FashionMNIST('data', train=True, transform=trans_compose(1), download=True)\n",
        "\n",
        "# test_task_1 = SortedMNIST(task_num=0, train_stream=train_stream, test_stream=test_stream, train=False)\n",
        "# test_task_2 = SortedMNIST(task_num=1, train_stream=train_stream, test_stream=test_stream, train=False)\n",
        "\n",
        "# task_1_loader = DataLoader(test_task_1, batch_size=128, pin_memory=True, generator=torch_gen)\n",
        "# task_2_loader = DataLoader(test_task_2, batch_size=128, pin_memory=True, generator=torch_gen)\n",
        "\n",
        "test_task = []\n",
        "task_loader = []\n",
        "for i in range(task):\n",
        "    data = SortedMNIST(task_num=i, train_stream=train_stream, test_stream=test_stream, train=False)\n",
        "    test_task.append(data)\n",
        "\n",
        "    loader = DataLoader(test_task[-1], batch_size=128, pin_memory=True, generator=torch_gen)\n",
        "    task_loader.append(loader)"
      ]
    },
    {
      "cell_type": "markdown",
      "metadata": {
        "id": "tRTIYJ61uSau"
      },
      "source": [
        "## Model"
      ]
    },
    {
      "cell_type": "code",
      "execution_count": null,
      "metadata": {
        "id": "LZgJ3swik5hu"
      },
      "outputs": [],
      "source": [
        "class Module(nn.Module):\n",
        "    def __init__(self):\n",
        "        super(Module, self).__init__()\n",
        "        '''\n",
        "        self.classifier = nn.Sequential(\n",
        "            nn.Conv2d(1, 10, kernel_size=5),\n",
        "            nn.MaxPool2d(2),\n",
        "            nn.ReLU(),\n",
        "            nn.Conv2d(10, 20, kernel_size=5),\n",
        "            nn.Dropout2d(),\n",
        "            nn.MaxPool2d(2),\n",
        "            nn.ReLU(),\n",
        "        )\n",
        "        self.dense = nn.Sequential(\n",
        "            nn.Linear(320, 50),\n",
        "            nn.ReLU(),\n",
        "            nn.Dropout(),\n",
        "            nn.Linear(50, 10)\n",
        "        )\n",
        "        '''\n",
        "        self.net = nn.Sequential(\n",
        "            nn.Flatten(),\n",
        "            nn.Linear(784, 512),\n",
        "            nn.ReLU(),\n",
        "            # nn.Linear(400, 400),\n",
        "            # nn.ReLU(),\n",
        "        )\n",
        "        self.linear = nn.Linear(512, 10)\n",
        "    def forward(self, X):\n",
        "        # return self.dense(self.classifier(X).view(-1, 320))\n",
        "        X = self.net(X)\n",
        "        return X, self.linear(X)"
      ]
    },
    {
      "cell_type": "code",
      "execution_count": null,
      "metadata": {
        "id": "axycQmLzuSau"
      },
      "outputs": [],
      "source": [
        "# from torchsummary import summary\n",
        "# summary(model, (1, 28, 28))"
      ]
    },
    {
      "cell_type": "code",
      "execution_count": null,
      "metadata": {
        "id": "88JA_UYpk5hu"
      },
      "outputs": [],
      "source": [
        "def evaluate(model, dataloader, num_data, num_task=-1):\n",
        "    if num_task < 0: raise ValueError(\"Task Number is Missing\")\n",
        "\n",
        "    test_acc = 0\n",
        "    test_loss = 0\n",
        "    with torch.no_grad():\n",
        "        model.eval()\n",
        "        for data in dataloader:\n",
        "            img, label = data\n",
        "            img, label = img.to(device), label.to(device).long()\n",
        "            _, output = model(img)\n",
        "            test_loss += cross_entropy(output, label)\n",
        "            test_acc += (output.argmax(1) == label).sum()\n",
        "    print('\\033[33m' +\n",
        "          f'Task {num_task} Acc: {test_acc / num_data: .4f}, Loss: {test_loss / num_data: .4f}' +\n",
        "          '\\033[0m')\n",
        "    return test_acc / num_data # return accuracy for calculate ACC, BWT"
      ]
    },
    {
      "cell_type": "markdown",
      "metadata": {
        "id": "_Z5flNTqk5hw"
      },
      "source": [
        "## Fisher\n",
        " - Fisher Matrix\n",
        "     - 儲存權重對模型重要性\n",
        "     - 計算方法\n",
        "         - [LINK](https://github.com/db434/EWC)\n",
        "             - 這個版本是**取樣** $\\rightarrow$ 計算梯度\n",
        "         - 這邊的範例程式碼是直接**整個資料**來計算梯度\n",
        "         - 公式\n",
        "             - $F_j = \\frac1m \\sum^m_{i=1}(\\frac{\\partial \\log (P(x_i|\\theta_j))}{\\partial \\theta_j})^2$"
      ]
    },
    {
      "cell_type": "code",
      "execution_count": null,
      "metadata": {
        "id": "HwbHKxPLk5hx"
      },
      "outputs": [],
      "source": [
        "# EWC\n",
        "optim_para = {}\n",
        "fisher_matrix = {}\n",
        "ewc_lambda = 1e-6\n",
        "\n",
        "def record_parameter(model, train_data, optimizer, num_task=-1):\n",
        "    if num_task < 0: raise ValueError(\"Task Number is Missing\")\n",
        "    global optim_para, fisher_matrix, ewc_lambda\n",
        "    train_loader = DataLoader(train_data, batch_size=batch_size, shuffle=True, pin_memory=True, generator=torch_gen)\n",
        "    model.train()\n",
        "    optimizer.zero_grad()\n",
        "\n",
        "    fisher_matrix[num_task] = {}\n",
        "    optim_para[num_task] = {}\n",
        "\n",
        "    # Initialize Fisher Matrix\n",
        "    for name, param in model.named_parameters():\n",
        "        fisher_matrix[num_task][name] = torch.zeros_like(param.data)\n",
        "\n",
        "    # idx = 0\n",
        "    # bound = ((60000//batch_size)*1)//1\n",
        "    # record_label = np.array([], dtype=int)\n",
        "    # print('Bound is', bound, 'times')\n",
        "    # Calculate Fisher Matrix\n",
        "    for data in train_loader:\n",
        "        # if idx == bound: break\n",
        "        # else: idx += 1\n",
        "\n",
        "        img, label = data\n",
        "        img, label = img.to(device), label.to(device).long()\n",
        "\n",
        "        # flag\n",
        "        # record_label = np.append(record_label, label.cpu().numpy())\n",
        "        _, output = model(img)\n",
        "        output_loss = cross_entropy(output, label)\n",
        "        output_loss.backward()\n",
        "\n",
        "        for name, param in model.named_parameters():\n",
        "            if param.grad is not None:\n",
        "                fisher_matrix[num_task][name] += param.grad.data.clone().pow(2)\n",
        "    # print('Number of Digits after Sampling', np.bincount(record_label)) # flag\n",
        "    # Average Fisher Matrix\n",
        "    for name, param in model.named_parameters():\n",
        "        fisher_matrix[num_task][name] /= len(train_loader) #idx\n",
        "\n",
        "    # Save optimal parameters\n",
        "    for name, param in model.named_parameters():\n",
        "        optim_para[num_task][name] = param.data.clone()"
      ]
    },
    {
      "cell_type": "markdown",
      "metadata": {
        "id": "cCkzYVpHgBBv"
      },
      "source": [
        "## Exempler"
      ]
    },
    {
      "cell_type": "code",
      "execution_count": null,
      "metadata": {
        "id": "5ocWoDsGATWB"
      },
      "outputs": [],
      "source": [
        "def get_confid_and_outcome(dataloader, model):\n",
        "  global device\n",
        "  confidence = torch.tensor([], dtype=torch.float32, device=device)\n",
        "  prediction = torch.tensor([], dtype=bool, device=device)\n",
        "  encode = None\n",
        "\n",
        "  model.eval()\n",
        "  with torch.no_grad():\n",
        "    for data in dataloader:\n",
        "      img, label = data\n",
        "      img, label = img.to(device), label.to(device).long()\n",
        "      e, output = model(img)\n",
        "\n",
        "      conf, pred = output.max(axis=1)\n",
        "      confidence = torch.cat((confidence, conf))\n",
        "\n",
        "      pred = pred == label\n",
        "      prediction = torch.cat((prediction, pred))\n",
        "\n",
        "      if encode is None:\n",
        "          encode = e\n",
        "      else:\n",
        "          encode = torch.cat((encode, e))\n",
        "\n",
        "  return confidence, prediction, encode"
      ]
    },
    {
      "cell_type": "code",
      "execution_count": null,
      "metadata": {
        "id": "HAQzeUh3FGQH"
      },
      "outputs": [],
      "source": [
        "from sklearn.decomposition import PCA, NMF\n",
        "from sklearn.cluster import KMeans, DBSCAN"
      ]
    },
    {
      "cell_type": "code",
      "execution_count": null,
      "metadata": {
        "id": "uWecGbinuSav"
      },
      "outputs": [],
      "source": [
        "def remove_outlier(reduce, data):\n",
        "    eps = 1\n",
        "    last_perc = -1\n",
        "    while True:\n",
        "        dbscan = DBSCAN(eps=eps, min_samples=10)\n",
        "        dbscan.fit(reduce)\n",
        "        outlier = dbscan.labels_ == -1\n",
        "\n",
        "        percentage = 1 - outlier.sum()/len(data)\n",
        "        percentage = round(percentage, 4)\n",
        "        upper_bound = 0.99\n",
        "        lower_bound = 0.98\n",
        "        if last_perc != round(percentage, 2): # 弄一下，不然太多訊息了OAO\n",
        "            print('\\033[38;5;249m' + 'Select outlier', outlier.sum(), f', {outlier.sum()}/{len(data)}({1 - percentage:.4f})' + '\\033[0m')\n",
        "        last_perc = round(percentage, 2)\n",
        "\n",
        "        if upper_bound >= percentage >= lower_bound: break\n",
        "        elif percentage > upper_bound: eps -= (percentage - upper_bound) / (1 - upper_bound)\n",
        "        elif percentage < lower_bound: eps += (lower_bound - percentage) / lower_bound\n",
        "\n",
        "    print()\n",
        "    return torch.from_numpy(outlier)\n"
      ]
    },
    {
      "cell_type": "code",
      "execution_count": null,
      "metadata": {
        "id": "Jwux3iPEEl3H"
      },
      "outputs": [],
      "source": [
        "def get_center(sub_dataset, num_exempler, encode=None):\n",
        "  if encode is None:\n",
        "      data = np.array([sub_dataset[i][0].numpy() for i in range(len(sub_dataset))], dtype=np.float32)# sub_dataset.dataset.data\n",
        "      data = torch.from_numpy(data)\n",
        "      data = data.reshape(len(data), -1) # 2D\n",
        "      # print(data.shape)\n",
        "  else: data = encode\n",
        "\n",
        "  reduced_dim = int(data.shape[1] * (0.5 if encode is None else 1))\n",
        "  reduce = PCA(reduced_dim, random_state=seed).fit_transform(data)\n",
        "  # reduce = NMF(reduced_dim, random_state=seed, max_iter=3000).fit_transform(data)\n",
        "\n",
        "  # outlier = remove_outlier(reduce, data)\n",
        "  remove_outlier_idx = torch.arange(reduce.shape[0])\n",
        "  # remove_outlier_idx = torch.where(outlier == False)[0]\n",
        "\n",
        "  kmean = KMeans(num_exempler, random_state=seed, n_init=10)\n",
        "  kmean_outcome = kmean.fit_transform(reduce[remove_outlier_idx])\n",
        "  print('\\033[38;5;243m' + f'after PCA Dim: {reduced_dim}({reduced_dim/data.shape[1]:.2f}), Inertia: {kmean.inertia_:.4f}' + '\\033[0m')\n",
        "\n",
        "  centers = kmean.cluster_centers_\n",
        "  idx = torch.tensor([], dtype=int, device=device)\n",
        "  for c in centers:\n",
        "    min_dis = 1e9\n",
        "    min_idx = -1\n",
        "    for i in remove_outlier_idx:\n",
        "      point = reduce[i]\n",
        "      dis = np.linalg.norm(c - point, ord=2)\n",
        "      if min_dis > dis:\n",
        "        min_dis = dis; min_idx = i\n",
        "    idx = torch.cat((idx, torch.tensor([min_idx], dtype=int, device=device)))\n",
        "  idx, _ = torch.sort(idx)\n",
        "  return sub_dataset.indices[idx]"
      ]
    },
    {
      "cell_type": "code",
      "execution_count": null,
      "metadata": {
        "id": "70U6wWrLAGCG"
      },
      "outputs": [],
      "source": [
        "def select_exempler(dataset, model, num_exempler=10, lower_bound_confid=0.9, avalanche_list=[]):\n",
        "  now_loader = DataLoader(dataset, batch_size=batch_size, shuffle=False, pin_memory=True, generator=torch_gen)\n",
        "  confidence, pred, encode = get_confid_and_outcome(now_loader, model)\n",
        "  del now_loader\n",
        "\n",
        "  selected_idx = torch.where(torch.logical_and(confidence >= lower_bound_confid, pred))[0]\n",
        "  exempler = torch.tensor([], dtype=int, device=device)\n",
        "\n",
        "  for i in range(10):\n",
        "    condition = torch.logical_and(avalanche_list[i] <= selected_idx, selected_idx < avalanche_list[i + 1])\n",
        "    sub_select = selected_idx[condition]\n",
        "    print('Select', len(sub_select))\n",
        "    sub_class = Subset(dataset, sub_select)\n",
        "\n",
        "    center = get_center(sub_class, num_exempler, encode=encode[sub_select].cpu()) # encode[sub_select]\n",
        "    exempler = torch.cat((exempler, center))\n",
        "  return exempler"
      ]
    },
    {
      "cell_type": "code",
      "execution_count": null,
      "metadata": {
        "id": "F6J1pkqdxMYF"
      },
      "outputs": [],
      "source": [
        "def random_select(dataset, mode=0, num_exempler=10, avalanche_list=[]):\n",
        "  num_instance = len(dataset)\n",
        "  if mode == 0:\n",
        "    return torch.from_numpy(np.random.choice(torch.arange(num_instance), num_exempler * 10))\n",
        "  else:\n",
        "    select = torch.tensor([], dtype=int, device=device)\n",
        "    for i in range(10):\n",
        "      pre_class = np.random.choice(np.arange(avalanche_list[i], avalanche_list[i+1]), num_exempler)\n",
        "      select = torch.cat((select, torch.from_numpy(pre_class).to(device)))\n",
        "    return select"
      ]
    },
    {
      "cell_type": "code",
      "execution_count": null,
      "metadata": {
        "id": "Yw5O0lyJf9_w"
      },
      "outputs": [],
      "source": [
        "record_exempler = []"
      ]
    },
    {
      "cell_type": "markdown",
      "metadata": {
        "id": "vkf1x1GD__go"
      },
      "source": [
        "## training"
      ]
    },
    {
      "cell_type": "code",
      "execution_count": null,
      "metadata": {
        "id": "KS30PbhnuSav"
      },
      "outputs": [],
      "source": [
        "record_acc = np.zeros((task, task))"
      ]
    },
    {
      "cell_type": "code",
      "execution_count": null,
      "metadata": {
        "id": "vREEbJVcaRvN"
      },
      "outputs": [],
      "source": [
        "blue = '\\033[34m'\n",
        "null = '\\033[0m'"
      ]
    },
    {
      "cell_type": "code",
      "execution_count": null,
      "metadata": {
        "id": "p7e2li7ecJ3O"
      },
      "outputs": [],
      "source": [
        "def kl_divergence(data, eps=1e-8):\n",
        "    var = torch.var(data, dim=tuple(range(1, data.ndim)), unbiased=False)\n",
        "    mean = torch.mean(data, dim=tuple(range(1, data.ndim)))\n",
        "\n",
        "    kl = 0.5 * (var.sum(dim=-1) + mean.pow(2).sum(dim=-1) - var.size(-1) - torch.log(var + eps).sum(dim=-1))\n",
        "    return kl"
      ]
    },
    {
      "cell_type": "code",
      "execution_count": null,
      "metadata": {
        "id": "g4AelZKYk5hy"
      },
      "outputs": [],
      "source": [
        "def training(model, test_loader: list, test_num: list, epochs=10,\n",
        "             num_task=-1, avalanche_list=[], num_exempler=100, alpha=0):\n",
        "    \"\"\"\n",
        "    改進的訓練函數，更好地模擬ReplayDataLoader的平衡採樣策略\n",
        "    \"\"\"\n",
        "    if num_task < 0:\n",
        "        raise ValueError(\"Task Number is Missing\")\n",
        "\n",
        "    global optim_para, fisher_matrix, ewc_lambda, record_acc, record_exempler\n",
        "    # 保持EWC lambda=1\n",
        "\n",
        "    print(f'Task {num_task} Start!')\n",
        "\n",
        "    # 準備當前任務的數據\n",
        "    train_data = SortedMNIST(train=True, task_num=num_task, train_stream=train_stream, test_stream=test_stream)\n",
        "\n",
        "    # 計算每個任務的樣本數量\n",
        "    current_samples = len(train_data)\n",
        "    memory_samples = sum(len(exempler) for exempler in record_exempler)\n",
        "\n",
        "    print(f'Current Task Samples: {current_samples}, Memory Samples: {memory_samples}, alpha: {alpha}')\n",
        "\n",
        "    # 為模型訓練準備數據加載器\n",
        "    if not record_exempler:  # 第一個任務，沒有記憶樣本\n",
        "        train_loader = DataLoader(train_data, batch_size=batch_size, shuffle=True,\n",
        "                                 pin_memory=True, generator=torch_gen)\n",
        "    else:\n",
        "        # 正確實現ReplayDataLoader的核心思想 - 任務平衡採樣\n",
        "        train_loader = create_true_replay_dataloader(train_data, record_exempler, batch_size)\n",
        "\n",
        "    # 使用與原始代碼相同的優化器設置\n",
        "    optimizer = SGD(model.parameters(), lr=0.001, momentum=0)\n",
        "\n",
        "    for i in range(epochs):\n",
        "        model.train()\n",
        "        train_acc = 0\n",
        "        train_loss = 0\n",
        "        samples_seen = 0\n",
        "\n",
        "        for data_batch in train_loader:\n",
        "            optimizer.zero_grad()\n",
        "\n",
        "            # 解包數據和標籤\n",
        "            img, label = data_batch\n",
        "            img, label = img.to(device), label.to(device).long()\n",
        "\n",
        "            # 前向傳播\n",
        "            encode, output = model(img)\n",
        "            output_loss = cross_entropy(output, label)\n",
        "\n",
        "            # 計算準確率\n",
        "            train_acc += (output.argmax(1) == label).sum().item()\n",
        "            samples_seen += len(label)\n",
        "\n",
        "            # 添加EWC損失 - 保持原始實現\n",
        "            ewc_loss = 0\n",
        "            for t in range(num_task):\n",
        "                for name, param in model.named_parameters():\n",
        "                    if t in optim_para:\n",
        "                        fisher = fisher_matrix[t][name]\n",
        "                        optim = optim_para[t][name]\n",
        "                        ewc_loss += (fisher * (optim - param).pow(2)).sum() * ewc_lambda\n",
        "\n",
        "            kl_loss = kl_divergence(encode)\n",
        "\n",
        "            # 總損失\n",
        "            output_loss += alpha * kl_loss\n",
        "            output_loss += ewc_loss\n",
        "            train_loss += output_loss.item()\n",
        "\n",
        "            # 反向傳播\n",
        "            output_loss.backward()\n",
        "            optimizer.step()\n",
        "\n",
        "        # 輸出訓練信息\n",
        "        avg_acc = train_acc / samples_seen\n",
        "        avg_loss = train_loss / len(train_loader)\n",
        "        print(f'Epoch\\t{i + 1}\\tAcc: {avg_acc:.4f}, Loss: {avg_loss:.4f}, use sample: {samples_seen}')\n",
        "\n",
        "    # 如果不是最後一個任務，更新參數記錄並選擇樣本\n",
        "    if num_task != len(test_num) - 1:\n",
        "        # 記錄最優參數和Fisher信息\n",
        "        record_parameter(model, train_data, optimizer, num_task=num_task)\n",
        "\n",
        "        with torch.no_grad():\n",
        "            # 使用原始的exempler選擇方法\n",
        "            exempler = select_exempler(train_data, model, num_exempler, avalanche_list=avalanche_list)\n",
        "            # exempler = random_select(train_data, mode=1, num_exempler=num_exempler, avalanche_list=avalanche_list)\n",
        "            record_exempler.append(Subset(train_data, exempler))\n",
        "\n",
        "    # 在所有任務上評估模型\n",
        "    task_id = 0\n",
        "    for num_data, loader in zip(test_num, test_loader):\n",
        "        acc = evaluate(model, loader, num_data, task_id)\n",
        "        record_acc[num_task, task_id] = acc\n",
        "        task_id = task_id + 1\n",
        "\n",
        "    print()  # End of Training\n"
      ]
    },
    {
      "cell_type": "code",
      "execution_count": null,
      "metadata": {
        "id": "15iNu_QkA8JQ"
      },
      "outputs": [],
      "source": [
        "def create_true_replay_dataloader(current_data, memory_data_list, batch_size):\n",
        "    \"\"\"\n",
        "    創建一個真正按照ReplayDataLoader核心思想實現的數據加載器\n",
        "\n",
        "    ReplayDataLoader的核心思想是:\n",
        "    1. 同時從當前任務和所有記憶任務中採樣\n",
        "    2. 確保每個任務的樣本數量平衡\n",
        "    3. 保持每個批次的總大小不變\n",
        "    \"\"\"\n",
        "    # 計算任務數量\n",
        "    num_tasks = 1 + len(memory_data_list)  # 當前任務 + 記憶任務\n",
        "\n",
        "    # 平均分配批次大小給每個任務\n",
        "    samples_per_task = batch_size // num_tasks\n",
        "\n",
        "    # 剩餘樣本優先分配給當前任務\n",
        "    remaining_samples = batch_size - (samples_per_task * num_tasks)\n",
        "\n",
        "    # 當前任務分配的樣本數\n",
        "    current_task_samples = samples_per_task + remaining_samples\n",
        "\n",
        "    # 創建數據集列表\n",
        "    datasets = [current_data] + memory_data_list\n",
        "\n",
        "    # 創建一個類似ReplayDataLoader的自定義數據加載器\n",
        "    class TaskBalancedDataLoader:\n",
        "        def __init__(self, datasets, samples_per_dataset, batch_size):\n",
        "            self.datasets = datasets\n",
        "            self.samples_per_dataset = samples_per_dataset  # 列表，每個任務的樣本數\n",
        "            self.batch_size = batch_size\n",
        "            self.current_data_len = len(datasets[0])\n",
        "\n",
        "            # 計算每個epoch的批次數量 - 基於當前數據集的大小\n",
        "            self.num_batches = self.current_data_len // self.samples_per_dataset[0]\n",
        "            if self.current_data_len % self.samples_per_dataset[0] > 0:\n",
        "                self.num_batches += 1\n",
        "\n",
        "        def __iter__(self):\n",
        "            # 為每個數據集創建一個迭代器\n",
        "            iterators = []\n",
        "            for i, dataset in enumerate(self.datasets):\n",
        "                # 計算需要的樣本總數\n",
        "                num_samples = self.samples_per_dataset[i] * self.num_batches\n",
        "\n",
        "                # 創建一個隨機採樣器\n",
        "                indices = torch.randperm(len(dataset)).tolist()\n",
        "\n",
        "                # 如果需要的樣本數大於數據集大小，則循環使用\n",
        "                if num_samples > len(dataset):\n",
        "                    # 計算需要重複的次數\n",
        "                    repeats = num_samples // len(dataset) + 1\n",
        "                    indices = indices * repeats\n",
        "\n",
        "                # 截取需要的樣本數\n",
        "                indices = indices[:num_samples]\n",
        "\n",
        "                # 創建一個對應的數據迭代器\n",
        "                iterators.append(iter([dataset[i] for i in indices]))\n",
        "\n",
        "            # 生成批次\n",
        "            for _ in range(self.num_batches):\n",
        "                batch_imgs = []\n",
        "                batch_labels = []\n",
        "\n",
        "                # 從每個任務採樣\n",
        "                for i, iterator in enumerate(iterators):\n",
        "                    for _ in range(self.samples_per_dataset[i]):\n",
        "                        try:\n",
        "                            img, label = next(iterator)\n",
        "                            batch_imgs.append(img.unsqueeze(0))\n",
        "                            batch_labels.append(label)\n",
        "                        except StopIteration:\n",
        "                            # 如果迭代器耗盡，重新創建\n",
        "                            iterators[i] = iter([self.datasets[i][j] for j in\n",
        "                                             torch.randperm(len(self.datasets[i])).tolist()])\n",
        "                            img, label = next(iterators[i])\n",
        "                            batch_imgs.append(img.unsqueeze(0))\n",
        "                            batch_labels.append(label)\n",
        "\n",
        "                # 合併批次\n",
        "                batch_imgs = torch.cat(batch_imgs, dim=0)\n",
        "                batch_labels = torch.tensor(batch_labels)\n",
        "\n",
        "                # 隨機打亂批次內的順序\n",
        "                perm = torch.randperm(len(batch_labels))\n",
        "                batch_imgs = batch_imgs[perm]\n",
        "                batch_labels = batch_labels[perm]\n",
        "\n",
        "                yield batch_imgs, batch_labels\n",
        "\n",
        "        def __len__(self):\n",
        "            return self.num_batches\n",
        "\n",
        "    # 創建每個任務的樣本數量列表\n",
        "    samples_per_dataset = [current_task_samples] + [samples_per_task] * len(memory_data_list)\n",
        "    print(blue + 'samples_per_dataset' + str(samples_per_dataset) + null)\n",
        "    # 創建並返回數據加載器\n",
        "    return TaskBalancedDataLoader(datasets, samples_per_dataset, batch_size)"
      ]
    },
    {
      "cell_type": "markdown",
      "metadata": {
        "id": "N7tUZHpAk5h0"
      },
      "source": [
        " - nn.Module\n",
        "    - named_pa​​rameters()\n",
        "         - 給出網絡層的名字和參數的迭代器\n",
        "    - parameters()\n",
        "         - 參數的迭代器\n",
        "    - [Reference](https://blog.csdn.net/qq_36530992/article/details/102729585)"
      ]
    },
    {
      "cell_type": "code",
      "execution_count": null,
      "metadata": {
        "colab": {
          "base_uri": "https://localhost:8080/"
        },
        "id": "VZyLlDVRk5h1",
        "outputId": "bdfaf6fe-9d0f-44e8-ab37-f4599c5b0778"
      },
      "outputs": [
        {
          "output_type": "stream",
          "name": "stdout",
          "text": [
            "Task 0 Start!\n",
            "Current Task Samples: 60000, Memory Samples: 0, alpha: 0\n",
            "Epoch\t1\tAcc: 0.4168, Loss: 2.0653, use sample: 60000\n",
            "Epoch\t2\tAcc: 0.7227, Loss: 1.6209, use sample: 60000\n",
            "Epoch\t3\tAcc: 0.7787, Loss: 1.2758, use sample: 60000\n",
            "Epoch\t4\tAcc: 0.8116, Loss: 1.0349, use sample: 60000\n",
            "Epoch\t5\tAcc: 0.8303, Loss: 0.8738, use sample: 60000\n",
            "Epoch\t6\tAcc: 0.8428, Loss: 0.7649, use sample: 60000\n",
            "Epoch\t7\tAcc: 0.8522, Loss: 0.6876, use sample: 60000\n",
            "Epoch\t8\tAcc: 0.8589, Loss: 0.6306, use sample: 60000\n",
            "Epoch\t9\tAcc: 0.8649, Loss: 0.5871, use sample: 60000\n",
            "Epoch\t10\tAcc: 0.8694, Loss: 0.5526, use sample: 60000\n",
            "Select 5619\n",
            "\u001b[38;5;243mafter PCA Dim: 512(1.00), Inertia: 376156.9181\u001b[0m\n",
            "Select 6486\n",
            "\u001b[38;5;243mafter PCA Dim: 512(1.00), Inertia: 141279.6568\u001b[0m\n",
            "Select 4945\n",
            "\u001b[38;5;243mafter PCA Dim: 512(1.00), Inertia: 363414.5391\u001b[0m\n",
            "Select 5133\n",
            "\u001b[38;5;243mafter PCA Dim: 512(1.00), Inertia: 325196.4262\u001b[0m\n",
            "Select 5119\n",
            "\u001b[38;5;243mafter PCA Dim: 512(1.00), Inertia: 280672.5915\u001b[0m\n",
            "Select 4142\n",
            "\u001b[38;5;243mafter PCA Dim: 512(1.00), Inertia: 265385.2788\u001b[0m\n",
            "Select 5469\n",
            "\u001b[38;5;243mafter PCA Dim: 512(1.00), Inertia: 313492.5168\u001b[0m\n",
            "Select 5572\n",
            "\u001b[38;5;243mafter PCA Dim: 512(1.00), Inertia: 271729.7311\u001b[0m\n",
            "Select 4749\n",
            "\u001b[38;5;243mafter PCA Dim: 512(1.00), Inertia: 317539.3132\u001b[0m\n",
            "Select 5058\n",
            "\u001b[38;5;243mafter PCA Dim: 512(1.00), Inertia: 252590.2441\u001b[0m\n",
            "\u001b[33mTask 0 Acc:  0.8784, Loss:  0.0041\u001b[0m\n",
            "\u001b[33mTask 1 Acc:  0.0669, Loss:  0.0186\u001b[0m\n",
            "\u001b[33mTask 2 Acc:  0.1513, Loss:  0.0178\u001b[0m\n",
            "\u001b[33mTask 3 Acc:  0.1184, Loss:  0.0181\u001b[0m\n",
            "\u001b[33mTask 4 Acc:  0.1601, Loss:  0.0183\u001b[0m\n",
            "\u001b[33mTask 5 Acc:  0.1308, Loss:  0.0182\u001b[0m\n",
            "\u001b[33mTask 6 Acc:  0.1523, Loss:  0.0177\u001b[0m\n",
            "\u001b[33mTask 7 Acc:  0.0996, Loss:  0.0185\u001b[0m\n",
            "\u001b[33mTask 8 Acc:  0.1563, Loss:  0.0180\u001b[0m\n",
            "\u001b[33mTask 9 Acc:  0.1682, Loss:  0.0176\u001b[0m\n",
            "\n",
            "Task 1 Start!\n",
            "Current Task Samples: 60000, Memory Samples: 30, alpha: 0\n",
            "\u001b[34msamples_per_dataset[128, 128]\u001b[0m\n",
            "Epoch\t1\tAcc: 0.7145, Loss: 1.0278, use sample: 120064\n",
            "Epoch\t2\tAcc: 0.8542, Loss: 0.7300, use sample: 120064\n",
            "Epoch\t3\tAcc: 0.8915, Loss: 0.5551, use sample: 120064\n",
            "Epoch\t4\tAcc: 0.9080, Loss: 0.4521, use sample: 120064\n",
            "Epoch\t5\tAcc: 0.9169, Loss: 0.3881, use sample: 120064\n",
            "Epoch\t6\tAcc: 0.9234, Loss: 0.3454, use sample: 120064\n",
            "Epoch\t7\tAcc: 0.9276, Loss: 0.3150, use sample: 120064\n",
            "Epoch\t8\tAcc: 0.9308, Loss: 0.2922, use sample: 120064\n",
            "Epoch\t9\tAcc: 0.9334, Loss: 0.2746, use sample: 120064\n",
            "Epoch\t10\tAcc: 0.9358, Loss: 0.2605, use sample: 120064\n",
            "Select 5602\n",
            "\u001b[38;5;243mafter PCA Dim: 512(1.00), Inertia: 343245.8616\u001b[0m\n",
            "Select 6472\n",
            "\u001b[38;5;243mafter PCA Dim: 512(1.00), Inertia: 127105.0483\u001b[0m\n",
            "Select 4894\n",
            "\u001b[38;5;243mafter PCA Dim: 512(1.00), Inertia: 344391.1910\u001b[0m\n",
            "Select 5113\n",
            "\u001b[38;5;243mafter PCA Dim: 512(1.00), Inertia: 304765.5319\u001b[0m\n",
            "Select 5179\n",
            "\u001b[38;5;243mafter PCA Dim: 512(1.00), Inertia: 261860.5699\u001b[0m\n",
            "Select 4294\n",
            "\u001b[38;5;243mafter PCA Dim: 512(1.00), Inertia: 253613.0483\u001b[0m\n",
            "Select 5475\n",
            "\u001b[38;5;243mafter PCA Dim: 512(1.00), Inertia: 295180.2406\u001b[0m\n",
            "Select 5603\n",
            "\u001b[38;5;243mafter PCA Dim: 512(1.00), Inertia: 249842.8464\u001b[0m\n",
            "Select 4820\n",
            "\u001b[38;5;243mafter PCA Dim: 512(1.00), Inertia: 294922.7334\u001b[0m\n",
            "Select 4985\n",
            "\u001b[38;5;243mafter PCA Dim: 512(1.00), Inertia: 227000.0189\u001b[0m\n",
            "\u001b[33mTask 0 Acc:  0.8553, Loss:  0.0037\u001b[0m\n",
            "\u001b[33mTask 1 Acc:  0.8780, Loss:  0.0038\u001b[0m\n",
            "\u001b[33mTask 2 Acc:  0.2126, Loss:  0.0173\u001b[0m\n",
            "\u001b[33mTask 3 Acc:  0.1589, Loss:  0.0178\u001b[0m\n",
            "\u001b[33mTask 4 Acc:  0.1894, Loss:  0.0182\u001b[0m\n",
            "\u001b[33mTask 5 Acc:  0.1752, Loss:  0.0178\u001b[0m\n",
            "\u001b[33mTask 6 Acc:  0.2288, Loss:  0.0170\u001b[0m\n",
            "\u001b[33mTask 7 Acc:  0.1727, Loss:  0.0180\u001b[0m\n",
            "\u001b[33mTask 8 Acc:  0.1548, Loss:  0.0181\u001b[0m\n",
            "\u001b[33mTask 9 Acc:  0.1646, Loss:  0.0180\u001b[0m\n",
            "\n",
            "Task 2 Start!\n",
            "Current Task Samples: 60000, Memory Samples: 60, alpha: 0\n",
            "\u001b[34msamples_per_dataset[86, 85, 85]\u001b[0m\n",
            "Epoch\t1\tAcc: 0.8230, Loss: 0.6081, use sample: 178688\n",
            "Epoch\t2\tAcc: 0.9044, Loss: 0.4104, use sample: 178688\n",
            "Epoch\t3\tAcc: 0.9274, Loss: 0.3179, use sample: 178688\n",
            "Epoch\t4\tAcc: 0.9375, Loss: 0.2668, use sample: 178688\n",
            "Epoch\t5\tAcc: 0.9435, Loss: 0.2350, use sample: 178688\n",
            "Epoch\t6\tAcc: 0.9476, Loss: 0.2131, use sample: 178688\n",
            "Epoch\t7\tAcc: 0.9506, Loss: 0.1971, use sample: 178688\n",
            "Epoch\t8\tAcc: 0.9527, Loss: 0.1848, use sample: 178688\n",
            "Epoch\t9\tAcc: 0.9547, Loss: 0.1751, use sample: 178688\n",
            "Epoch\t10\tAcc: 0.9564, Loss: 0.1671, use sample: 178688\n",
            "Select 5526\n",
            "\u001b[38;5;243mafter PCA Dim: 512(1.00), Inertia: 354447.5884\u001b[0m\n",
            "Select 6454\n",
            "\u001b[38;5;243mafter PCA Dim: 512(1.00), Inertia: 114910.4358\u001b[0m\n",
            "Select 4921\n",
            "\u001b[38;5;243mafter PCA Dim: 512(1.00), Inertia: 329262.2873\u001b[0m\n",
            "Select 5087\n",
            "\u001b[38;5;243mafter PCA Dim: 512(1.00), Inertia: 296652.8391\u001b[0m\n",
            "Select 5234\n",
            "\u001b[38;5;243mafter PCA Dim: 512(1.00), Inertia: 257500.9360\u001b[0m\n",
            "Select 4309\n",
            "\u001b[38;5;243mafter PCA Dim: 512(1.00), Inertia: 250069.8838\u001b[0m\n",
            "Select 5456\n",
            "\u001b[38;5;243mafter PCA Dim: 512(1.00), Inertia: 274936.8498\u001b[0m\n",
            "Select 5589\n",
            "\u001b[38;5;243mafter PCA Dim: 512(1.00), Inertia: 249938.6495\u001b[0m\n",
            "Select 4790\n",
            "\u001b[38;5;243mafter PCA Dim: 512(1.00), Inertia: 282140.8241\u001b[0m\n",
            "Select 4996\n",
            "\u001b[38;5;243mafter PCA Dim: 512(1.00), Inertia: 226471.1009\u001b[0m\n",
            "\u001b[33mTask 0 Acc:  0.8431, Loss:  0.0039\u001b[0m\n",
            "\u001b[33mTask 1 Acc:  0.8622, Loss:  0.0036\u001b[0m\n",
            "\u001b[33mTask 2 Acc:  0.8779, Loss:  0.0035\u001b[0m\n",
            "\u001b[33mTask 3 Acc:  0.1830, Loss:  0.0178\u001b[0m\n",
            "\u001b[33mTask 4 Acc:  0.1686, Loss:  0.0185\u001b[0m\n",
            "\u001b[33mTask 5 Acc:  0.1656, Loss:  0.0185\u001b[0m\n",
            "\u001b[33mTask 6 Acc:  0.2356, Loss:  0.0170\u001b[0m\n",
            "\u001b[33mTask 7 Acc:  0.1878, Loss:  0.0183\u001b[0m\n",
            "\u001b[33mTask 8 Acc:  0.1279, Loss:  0.0184\u001b[0m\n",
            "\u001b[33mTask 9 Acc:  0.1681, Loss:  0.0188\u001b[0m\n",
            "\n",
            "Task 3 Start!\n",
            "Current Task Samples: 60000, Memory Samples: 90, alpha: 0\n",
            "\u001b[34msamples_per_dataset[64, 64, 64, 64]\u001b[0m\n",
            "Epoch\t1\tAcc: 0.8654, Loss: 0.4391, use sample: 240128\n",
            "Epoch\t2\tAcc: 0.9324, Loss: 0.2847, use sample: 240128\n",
            "Epoch\t3\tAcc: 0.9494, Loss: 0.2193, use sample: 240128\n",
            "Epoch\t4\tAcc: 0.9568, Loss: 0.1847, use sample: 240128\n",
            "Epoch\t5\tAcc: 0.9609, Loss: 0.1634, use sample: 240128\n",
            "Epoch\t6\tAcc: 0.9636, Loss: 0.1488, use sample: 240128\n",
            "Epoch\t7\tAcc: 0.9655, Loss: 0.1383, use sample: 240128\n",
            "Epoch\t8\tAcc: 0.9670, Loss: 0.1301, use sample: 240128\n",
            "Epoch\t9\tAcc: 0.9681, Loss: 0.1237, use sample: 240128\n",
            "Epoch\t10\tAcc: 0.9692, Loss: 0.1184, use sample: 240128\n",
            "Select 5006\n",
            "\u001b[38;5;243mafter PCA Dim: 512(1.00), Inertia: 316178.7461\u001b[0m\n",
            "Select 5721\n",
            "\u001b[38;5;243mafter PCA Dim: 512(1.00), Inertia: 336636.7319\u001b[0m\n",
            "Select 5279\n",
            "\u001b[38;5;243mafter PCA Dim: 512(1.00), Inertia: 270698.0647\u001b[0m\n",
            "Select 5165\n",
            "\u001b[38;5;243mafter PCA Dim: 512(1.00), Inertia: 297021.3404\u001b[0m\n",
            "Select 5392\n",
            "\u001b[38;5;243mafter PCA Dim: 512(1.00), Inertia: 280381.8311\u001b[0m\n",
            "Select 4822\n",
            "\u001b[38;5;243mafter PCA Dim: 512(1.00), Inertia: 245941.1106\u001b[0m\n",
            "Select 4795\n",
            "\u001b[38;5;243mafter PCA Dim: 512(1.00), Inertia: 285610.4826\u001b[0m\n",
            "Select 5335\n",
            "\u001b[38;5;243mafter PCA Dim: 512(1.00), Inertia: 272054.2429\u001b[0m\n",
            "Select 5518\n",
            "\u001b[38;5;243mafter PCA Dim: 512(1.00), Inertia: 318484.3003\u001b[0m\n",
            "Select 5705\n",
            "\u001b[38;5;243mafter PCA Dim: 512(1.00), Inertia: 108201.9190\u001b[0m\n",
            "\u001b[33mTask 0 Acc:  0.8351, Loss:  0.0041\u001b[0m\n",
            "\u001b[33mTask 1 Acc:  0.8554, Loss:  0.0037\u001b[0m\n",
            "\u001b[33mTask 2 Acc:  0.8704, Loss:  0.0033\u001b[0m\n",
            "\u001b[33mTask 3 Acc:  0.8838, Loss:  0.0033\u001b[0m\n",
            "\u001b[33mTask 4 Acc:  0.1529, Loss:  0.0193\u001b[0m\n",
            "\u001b[33mTask 5 Acc:  0.1975, Loss:  0.0188\u001b[0m\n",
            "\u001b[33mTask 6 Acc:  0.2243, Loss:  0.0173\u001b[0m\n",
            "\u001b[33mTask 7 Acc:  0.1615, Loss:  0.0196\u001b[0m\n",
            "\u001b[33mTask 8 Acc:  0.1440, Loss:  0.0190\u001b[0m\n",
            "\u001b[33mTask 9 Acc:  0.1435, Loss:  0.0198\u001b[0m\n",
            "\n",
            "Task 4 Start!\n",
            "Current Task Samples: 60000, Memory Samples: 120, alpha: 0\n",
            "\u001b[34msamples_per_dataset[52, 51, 51, 51, 51]\u001b[0m\n",
            "Epoch\t1\tAcc: 0.8895, Loss: 0.3556, use sample: 295424\n",
            "Epoch\t2\tAcc: 0.9434, Loss: 0.2197, use sample: 295424\n",
            "Epoch\t3\tAcc: 0.9575, Loss: 0.1697, use sample: 295424\n",
            "Epoch\t4\tAcc: 0.9641, Loss: 0.1439, use sample: 295424\n",
            "Epoch\t5\tAcc: 0.9676, Loss: 0.1280, use sample: 295424\n",
            "Epoch\t6\tAcc: 0.9701, Loss: 0.1172, use sample: 295424\n",
            "Epoch\t7\tAcc: 0.9719, Loss: 0.1092, use sample: 295424\n",
            "Epoch\t8\tAcc: 0.9733, Loss: 0.1030, use sample: 295424\n",
            "Epoch\t9\tAcc: 0.9743, Loss: 0.0981, use sample: 295424\n",
            "Epoch\t10\tAcc: 0.9752, Loss: 0.0940, use sample: 295424\n",
            "Select 5569\n",
            "\u001b[38;5;243mafter PCA Dim: 512(1.00), Inertia: 316015.9367\u001b[0m\n",
            "Select 6443\n",
            "\u001b[38;5;243mafter PCA Dim: 512(1.00), Inertia: 113640.9158\u001b[0m\n",
            "Select 4988\n",
            "\u001b[38;5;243mafter PCA Dim: 512(1.00), Inertia: 311092.3770\u001b[0m\n",
            "Select 5131\n",
            "\u001b[38;5;243mafter PCA Dim: 512(1.00), Inertia: 282778.1884\u001b[0m\n",
            "Select 5247\n",
            "\u001b[38;5;243mafter PCA Dim: 512(1.00), Inertia: 242994.1513\u001b[0m\n",
            "Select 4418\n",
            "\u001b[38;5;243mafter PCA Dim: 512(1.00), Inertia: 223109.2088\u001b[0m\n",
            "Select 5519\n",
            "\u001b[38;5;243mafter PCA Dim: 512(1.00), Inertia: 270507.5660\u001b[0m\n",
            "Select 5662\n",
            "\u001b[38;5;243mafter PCA Dim: 512(1.00), Inertia: 236558.9762\u001b[0m\n",
            "Select 4817\n",
            "\u001b[38;5;243mafter PCA Dim: 512(1.00), Inertia: 259701.1931\u001b[0m\n",
            "Select 4990\n",
            "\u001b[38;5;243mafter PCA Dim: 512(1.00), Inertia: 208936.4583\u001b[0m\n",
            "\u001b[33mTask 0 Acc:  0.8198, Loss:  0.0045\u001b[0m\n",
            "\u001b[33mTask 1 Acc:  0.8510, Loss:  0.0038\u001b[0m\n",
            "\u001b[33mTask 2 Acc:  0.8608, Loss:  0.0035\u001b[0m\n",
            "\u001b[33mTask 3 Acc:  0.8703, Loss:  0.0034\u001b[0m\n",
            "\u001b[33mTask 4 Acc:  0.8855, Loss:  0.0033\u001b[0m\n",
            "\u001b[33mTask 5 Acc:  0.2067, Loss:  0.0194\u001b[0m\n",
            "\u001b[33mTask 6 Acc:  0.2054, Loss:  0.0177\u001b[0m\n",
            "\u001b[33mTask 7 Acc:  0.1399, Loss:  0.0198\u001b[0m\n",
            "\u001b[33mTask 8 Acc:  0.1505, Loss:  0.0200\u001b[0m\n",
            "\u001b[33mTask 9 Acc:  0.1422, Loss:  0.0208\u001b[0m\n",
            "\n",
            "Task 5 Start!\n",
            "Current Task Samples: 60000, Memory Samples: 150, alpha: 0\n",
            "\u001b[34msamples_per_dataset[46, 42, 42, 42, 42, 42]\u001b[0m\n",
            "Epoch\t1\tAcc: 0.9050, Loss: 0.2981, use sample: 334080\n",
            "Epoch\t2\tAcc: 0.9494, Loss: 0.1843, use sample: 334080\n",
            "Epoch\t3\tAcc: 0.9618, Loss: 0.1440, use sample: 334080\n",
            "Epoch\t4\tAcc: 0.9674, Loss: 0.1231, use sample: 334080\n",
            "Epoch\t5\tAcc: 0.9708, Loss: 0.1101, use sample: 334080\n",
            "Epoch\t6\tAcc: 0.9731, Loss: 0.1011, use sample: 334080\n",
            "Epoch\t7\tAcc: 0.9747, Loss: 0.0945, use sample: 334080\n",
            "Epoch\t8\tAcc: 0.9760, Loss: 0.0893, use sample: 334080\n",
            "Epoch\t9\tAcc: 0.9770, Loss: 0.0852, use sample: 334080\n",
            "Epoch\t10\tAcc: 0.9779, Loss: 0.0817, use sample: 334080\n",
            "Select 5577\n",
            "\u001b[38;5;243mafter PCA Dim: 512(1.00), Inertia: 298864.1109\u001b[0m\n",
            "Select 6438\n",
            "\u001b[38;5;243mafter PCA Dim: 512(1.00), Inertia: 108403.4087\u001b[0m\n",
            "Select 5019\n",
            "\u001b[38;5;243mafter PCA Dim: 512(1.00), Inertia: 301538.1934\u001b[0m\n",
            "Select 5126\n",
            "\u001b[38;5;243mafter PCA Dim: 512(1.00), Inertia: 279037.0868\u001b[0m\n",
            "Select 5217\n",
            "\u001b[38;5;243mafter PCA Dim: 512(1.00), Inertia: 223833.7980\u001b[0m\n",
            "Select 4414\n",
            "\u001b[38;5;243mafter PCA Dim: 512(1.00), Inertia: 228381.0873\u001b[0m\n",
            "Select 5496\n",
            "\u001b[38;5;243mafter PCA Dim: 512(1.00), Inertia: 255254.4906\u001b[0m\n",
            "Select 5646\n",
            "\u001b[38;5;243mafter PCA Dim: 512(1.00), Inertia: 219057.9200\u001b[0m\n",
            "Select 4749\n",
            "\u001b[38;5;243mafter PCA Dim: 512(1.00), Inertia: 250735.5128\u001b[0m\n",
            "Select 5072\n",
            "\u001b[38;5;243mafter PCA Dim: 512(1.00), Inertia: 196102.0610\u001b[0m\n",
            "\u001b[33mTask 0 Acc:  0.8114, Loss:  0.0048\u001b[0m\n",
            "\u001b[33mTask 1 Acc:  0.8454, Loss:  0.0040\u001b[0m\n",
            "\u001b[33mTask 2 Acc:  0.8523, Loss:  0.0037\u001b[0m\n",
            "\u001b[33mTask 3 Acc:  0.8600, Loss:  0.0035\u001b[0m\n",
            "\u001b[33mTask 4 Acc:  0.8761, Loss:  0.0033\u001b[0m\n",
            "\u001b[33mTask 5 Acc:  0.8835, Loss:  0.0033\u001b[0m\n",
            "\u001b[33mTask 6 Acc:  0.2250, Loss:  0.0175\u001b[0m\n",
            "\u001b[33mTask 7 Acc:  0.1276, Loss:  0.0205\u001b[0m\n",
            "\u001b[33mTask 8 Acc:  0.1420, Loss:  0.0210\u001b[0m\n",
            "\u001b[33mTask 9 Acc:  0.1111, Loss:  0.0223\u001b[0m\n",
            "\n",
            "Task 6 Start!\n",
            "Current Task Samples: 60000, Memory Samples: 180, alpha: 0\n",
            "\u001b[34msamples_per_dataset[40, 36, 36, 36, 36, 36, 36]\u001b[0m\n",
            "Epoch\t1\tAcc: 0.9221, Loss: 0.2437, use sample: 384000\n",
            "Epoch\t2\tAcc: 0.9592, Loss: 0.1503, use sample: 384000\n",
            "Epoch\t3\tAcc: 0.9690, Loss: 0.1176, use sample: 384000\n",
            "Epoch\t4\tAcc: 0.9734, Loss: 0.1010, use sample: 384000\n",
            "Epoch\t5\tAcc: 0.9760, Loss: 0.0908, use sample: 384000\n",
            "Epoch\t6\tAcc: 0.9777, Loss: 0.0838, use sample: 384000\n",
            "Epoch\t7\tAcc: 0.9790, Loss: 0.0786, use sample: 384000\n",
            "Epoch\t8\tAcc: 0.9800, Loss: 0.0746, use sample: 384000\n",
            "Epoch\t9\tAcc: 0.9808, Loss: 0.0713, use sample: 384000\n",
            "Epoch\t10\tAcc: 0.9814, Loss: 0.0686, use sample: 384000\n",
            "Select 5334\n",
            "\u001b[38;5;243mafter PCA Dim: 512(1.00), Inertia: 231565.1152\u001b[0m\n",
            "Select 5726\n",
            "\u001b[38;5;243mafter PCA Dim: 512(1.00), Inertia: 314952.9474\u001b[0m\n",
            "Select 5458\n",
            "\u001b[38;5;243mafter PCA Dim: 512(1.00), Inertia: 263321.7179\u001b[0m\n",
            "Select 5394\n",
            "\u001b[38;5;243mafter PCA Dim: 512(1.00), Inertia: 254017.3594\u001b[0m\n",
            "Select 4912\n",
            "\u001b[38;5;243mafter PCA Dim: 512(1.00), Inertia: 264664.4853\u001b[0m\n",
            "Select 4664\n",
            "\u001b[38;5;243mafter PCA Dim: 512(1.00), Inertia: 215683.8192\u001b[0m\n",
            "Select 5592\n",
            "\u001b[38;5;243mafter PCA Dim: 512(1.00), Inertia: 296203.8094\u001b[0m\n",
            "Select 5967\n",
            "\u001b[38;5;243mafter PCA Dim: 512(1.00), Inertia: 134062.4573\u001b[0m\n",
            "Select 4946\n",
            "\u001b[38;5;243mafter PCA Dim: 512(1.00), Inertia: 290786.5846\u001b[0m\n",
            "Select 5025\n",
            "\u001b[38;5;243mafter PCA Dim: 512(1.00), Inertia: 264057.3855\u001b[0m\n",
            "\u001b[33mTask 0 Acc:  0.8046, Loss:  0.0053\u001b[0m\n",
            "\u001b[33mTask 1 Acc:  0.8375, Loss:  0.0042\u001b[0m\n",
            "\u001b[33mTask 2 Acc:  0.8436, Loss:  0.0040\u001b[0m\n",
            "\u001b[33mTask 3 Acc:  0.8531, Loss:  0.0036\u001b[0m\n",
            "\u001b[33mTask 4 Acc:  0.8693, Loss:  0.0034\u001b[0m\n",
            "\u001b[33mTask 5 Acc:  0.8718, Loss:  0.0033\u001b[0m\n",
            "\u001b[33mTask 6 Acc:  0.8888, Loss:  0.0032\u001b[0m\n",
            "\u001b[33mTask 7 Acc:  0.1212, Loss:  0.0219\u001b[0m\n",
            "\u001b[33mTask 8 Acc:  0.1302, Loss:  0.0221\u001b[0m\n",
            "\u001b[33mTask 9 Acc:  0.1107, Loss:  0.0226\u001b[0m\n",
            "\n",
            "Task 7 Start!\n",
            "Current Task Samples: 60000, Memory Samples: 210, alpha: 0\n",
            "\u001b[34msamples_per_dataset[32, 32, 32, 32, 32, 32, 32, 32]\u001b[0m\n",
            "Epoch\t1\tAcc: 0.9356, Loss: 0.2044, use sample: 480000\n",
            "Epoch\t2\tAcc: 0.9672, Loss: 0.1198, use sample: 480000\n",
            "Epoch\t3\tAcc: 0.9749, Loss: 0.0940, use sample: 480000\n",
            "Epoch\t4\tAcc: 0.9787, Loss: 0.0808, use sample: 480000\n",
            "Epoch\t5\tAcc: 0.9809, Loss: 0.0726, use sample: 480000\n",
            "Epoch\t6\tAcc: 0.9822, Loss: 0.0669, use sample: 480000\n",
            "Epoch\t7\tAcc: 0.9833, Loss: 0.0627, use sample: 480000\n",
            "Epoch\t8\tAcc: 0.9841, Loss: 0.0594, use sample: 480000\n",
            "Epoch\t9\tAcc: 0.9848, Loss: 0.0568, use sample: 480000\n",
            "Epoch\t10\tAcc: 0.9853, Loss: 0.0546, use sample: 480000\n",
            "Select 5575\n",
            "\u001b[38;5;243mafter PCA Dim: 512(1.00), Inertia: 287552.2645\u001b[0m\n",
            "Select 6438\n",
            "\u001b[38;5;243mafter PCA Dim: 512(1.00), Inertia: 109549.9491\u001b[0m\n",
            "Select 5045\n",
            "\u001b[38;5;243mafter PCA Dim: 512(1.00), Inertia: 288656.5098\u001b[0m\n",
            "Select 5156\n",
            "\u001b[38;5;243mafter PCA Dim: 512(1.00), Inertia: 254931.5815\u001b[0m\n",
            "Select 5242\n",
            "\u001b[38;5;243mafter PCA Dim: 512(1.00), Inertia: 222850.3609\u001b[0m\n",
            "Select 4514\n",
            "\u001b[38;5;243mafter PCA Dim: 512(1.00), Inertia: 215662.4175\u001b[0m\n",
            "Select 5511\n",
            "\u001b[38;5;243mafter PCA Dim: 512(1.00), Inertia: 247582.8580\u001b[0m\n",
            "Select 5675\n",
            "\u001b[38;5;243mafter PCA Dim: 512(1.00), Inertia: 219884.4174\u001b[0m\n",
            "Select 4834\n",
            "\u001b[38;5;243mafter PCA Dim: 512(1.00), Inertia: 234865.4153\u001b[0m\n",
            "Select 5071\n",
            "\u001b[38;5;243mafter PCA Dim: 512(1.00), Inertia: 197821.4154\u001b[0m\n",
            "\u001b[33mTask 0 Acc:  0.8038, Loss:  0.0053\u001b[0m\n",
            "\u001b[33mTask 1 Acc:  0.8302, Loss:  0.0045\u001b[0m\n",
            "\u001b[33mTask 2 Acc:  0.8425, Loss:  0.0040\u001b[0m\n",
            "\u001b[33mTask 3 Acc:  0.8474, Loss:  0.0037\u001b[0m\n",
            "\u001b[33mTask 4 Acc:  0.8610, Loss:  0.0036\u001b[0m\n",
            "\u001b[33mTask 5 Acc:  0.8684, Loss:  0.0034\u001b[0m\n",
            "\u001b[33mTask 6 Acc:  0.8812, Loss:  0.0032\u001b[0m\n",
            "\u001b[33mTask 7 Acc:  0.8921, Loss:  0.0031\u001b[0m\n",
            "\u001b[33mTask 8 Acc:  0.1396, Loss:  0.0237\u001b[0m\n",
            "\u001b[33mTask 9 Acc:  0.1134, Loss:  0.0232\u001b[0m\n",
            "\n",
            "Task 8 Start!\n",
            "Current Task Samples: 60000, Memory Samples: 240, alpha: 0\n",
            "\u001b[34msamples_per_dataset[32, 28, 28, 28, 28, 28, 28, 28, 28]\u001b[0m\n",
            "Epoch\t1\tAcc: 0.9309, Loss: 0.2158, use sample: 480000\n",
            "Epoch\t2\tAcc: 0.9664, Loss: 0.1202, use sample: 480000\n",
            "Epoch\t3\tAcc: 0.9747, Loss: 0.0936, use sample: 480000\n",
            "Epoch\t4\tAcc: 0.9782, Loss: 0.0806, use sample: 480000\n",
            "Epoch\t5\tAcc: 0.9803, Loss: 0.0726, use sample: 480000\n",
            "Epoch\t6\tAcc: 0.9819, Loss: 0.0670, use sample: 480000\n",
            "Epoch\t7\tAcc: 0.9829, Loss: 0.0628, use sample: 480000\n",
            "Epoch\t8\tAcc: 0.9839, Loss: 0.0596, use sample: 480000\n",
            "Epoch\t9\tAcc: 0.9846, Loss: 0.0570, use sample: 480000\n",
            "Epoch\t10\tAcc: 0.9851, Loss: 0.0548, use sample: 480000\n",
            "Select 5586\n",
            "\u001b[38;5;243mafter PCA Dim: 512(1.00), Inertia: 267983.0610\u001b[0m\n",
            "Select 6440\n",
            "\u001b[38;5;243mafter PCA Dim: 512(1.00), Inertia: 110431.6523\u001b[0m\n",
            "Select 5044\n",
            "\u001b[38;5;243mafter PCA Dim: 512(1.00), Inertia: 275690.6652\u001b[0m\n",
            "Select 5174\n",
            "\u001b[38;5;243mafter PCA Dim: 512(1.00), Inertia: 249237.4861\u001b[0m\n",
            "Select 5283\n",
            "\u001b[38;5;243mafter PCA Dim: 512(1.00), Inertia: 214611.7838\u001b[0m\n",
            "Select 4454\n",
            "\u001b[38;5;243mafter PCA Dim: 512(1.00), Inertia: 210440.5320\u001b[0m\n",
            "Select 5527\n",
            "\u001b[38;5;243mafter PCA Dim: 512(1.00), Inertia: 235271.5978\u001b[0m\n",
            "Select 5650\n",
            "\u001b[38;5;243mafter PCA Dim: 512(1.00), Inertia: 209739.9704\u001b[0m\n",
            "Select 4795\n",
            "\u001b[38;5;243mafter PCA Dim: 512(1.00), Inertia: 223235.9724\u001b[0m\n",
            "Select 5048\n",
            "\u001b[38;5;243mafter PCA Dim: 512(1.00), Inertia: 183489.7525\u001b[0m\n",
            "\u001b[33mTask 0 Acc:  0.7982, Loss:  0.0057\u001b[0m\n",
            "\u001b[33mTask 1 Acc:  0.8226, Loss:  0.0047\u001b[0m\n",
            "\u001b[33mTask 2 Acc:  0.8400, Loss:  0.0041\u001b[0m\n",
            "\u001b[33mTask 3 Acc:  0.8428, Loss:  0.0039\u001b[0m\n",
            "\u001b[33mTask 4 Acc:  0.8552, Loss:  0.0037\u001b[0m\n",
            "\u001b[33mTask 5 Acc:  0.8611, Loss:  0.0035\u001b[0m\n",
            "\u001b[33mTask 6 Acc:  0.8695, Loss:  0.0034\u001b[0m\n",
            "\u001b[33mTask 7 Acc:  0.8825, Loss:  0.0031\u001b[0m\n",
            "\u001b[33mTask 8 Acc:  0.8919, Loss:  0.0031\u001b[0m\n",
            "\u001b[33mTask 9 Acc:  0.1055, Loss:  0.0247\u001b[0m\n",
            "\n",
            "Task 9 Start!\n",
            "Current Task Samples: 60000, Memory Samples: 270, alpha: 0\n",
            "\u001b[34msamples_per_dataset[31, 25, 25, 25, 25, 25, 25, 25, 25, 25]\u001b[0m\n",
            "Epoch\t1\tAcc: 0.9312, Loss: 0.2096, use sample: 495616\n",
            "Epoch\t2\tAcc: 0.9661, Loss: 0.1168, use sample: 495616\n",
            "Epoch\t3\tAcc: 0.9749, Loss: 0.0907, use sample: 495616\n",
            "Epoch\t4\tAcc: 0.9790, Loss: 0.0779, use sample: 495616\n",
            "Epoch\t5\tAcc: 0.9811, Loss: 0.0700, use sample: 495616\n",
            "Epoch\t6\tAcc: 0.9826, Loss: 0.0646, use sample: 495616\n",
            "Epoch\t7\tAcc: 0.9837, Loss: 0.0606, use sample: 495616\n",
            "Epoch\t8\tAcc: 0.9846, Loss: 0.0574, use sample: 495616\n",
            "Epoch\t9\tAcc: 0.9853, Loss: 0.0549, use sample: 495616\n",
            "Epoch\t10\tAcc: 0.9859, Loss: 0.0527, use sample: 495616\n",
            "\u001b[33mTask 0 Acc:  0.7972, Loss:  0.0056\u001b[0m\n",
            "\u001b[33mTask 1 Acc:  0.8104, Loss:  0.0051\u001b[0m\n",
            "\u001b[33mTask 2 Acc:  0.8371, Loss:  0.0043\u001b[0m\n",
            "\u001b[33mTask 3 Acc:  0.8318, Loss:  0.0042\u001b[0m\n",
            "\u001b[33mTask 4 Acc:  0.8492, Loss:  0.0038\u001b[0m\n",
            "\u001b[33mTask 5 Acc:  0.8541, Loss:  0.0037\u001b[0m\n",
            "\u001b[33mTask 6 Acc:  0.8643, Loss:  0.0035\u001b[0m\n",
            "\u001b[33mTask 7 Acc:  0.8723, Loss:  0.0033\u001b[0m\n",
            "\u001b[33mTask 8 Acc:  0.8804, Loss:  0.0032\u001b[0m\n",
            "\u001b[33mTask 9 Acc:  0.8917, Loss:  0.0030\u001b[0m\n",
            "\n"
          ]
        }
      ],
      "source": [
        "model = Module().to(device)\n",
        "\n",
        "for i in range(task):\n",
        "    training(model, task_loader, [len(test_task[0])] * task,\n",
        "             num_task=i, epochs=epochs,\n",
        "            avalanche_list=avalanche_list, num_exempler=3, alpha=0)"
      ]
    },
    {
      "cell_type": "markdown",
      "metadata": {
        "id": "eTTwpyC4uSaw"
      },
      "source": [
        "## Calculate Outcome"
      ]
    },
    {
      "cell_type": "code",
      "execution_count": null,
      "metadata": {
        "id": "Oi5_cFBJuSaw",
        "colab": {
          "base_uri": "https://localhost:8080/"
        },
        "outputId": "885b59a6-c177-4e17-c94a-7782b2cc9a21"
      },
      "outputs": [
        {
          "output_type": "stream",
          "name": "stdout",
          "text": [
            "ACC : 0.8488\n",
            "BWT : -0.0403\n"
          ]
        }
      ],
      "source": [
        "acc = 0\n",
        "bwt = 0\n",
        "\n",
        "for i in range(task):\n",
        "    acc += record_acc[-1, i]\n",
        "acc /= task\n",
        "\n",
        "for i in range(task - 1):\n",
        "    bwt += record_acc[-1, i] - record_acc[i, i]\n",
        "bwt /= (task - 1)\n",
        "\n",
        "print(f'ACC : {acc:.4f}')\n",
        "print(f'BWT : {bwt:.4f}')"
      ]
    },
    {
      "cell_type": "markdown",
      "metadata": {
        "id": "ACMLV4SLk5h3"
      },
      "source": [
        " - Task 0"
      ]
    },
    {
      "cell_type": "code",
      "execution_count": null,
      "metadata": {
        "id": "J1bz86Qxk5h4",
        "colab": {
          "base_uri": "https://localhost:8080/",
          "height": 802
        },
        "outputId": "396a502e-0e46-4405-9fb1-ab1e3c0cc081"
      },
      "outputs": [
        {
          "output_type": "stream",
          "name": "stdout",
          "text": [
            "\u001b[33mAccuracy\u001b[0m 0.7972\n",
            "\u001b[33mClassification Report\u001b[0m\n",
            "              precision    recall  f1-score   support\n",
            "\n",
            "           0       0.84      0.92      0.88       980\n",
            "           1       0.90      0.93      0.92      1135\n",
            "           2       0.73      0.81      0.77      1032\n",
            "           3       0.74      0.87      0.80      1010\n",
            "           4       0.89      0.58      0.70       982\n",
            "           5       0.82      0.61      0.70       892\n",
            "           6       0.77      0.93      0.84       958\n",
            "           7       0.84      0.81      0.83      1028\n",
            "           8       0.78      0.72      0.75       974\n",
            "           9       0.71      0.76      0.73      1009\n",
            "\n",
            "    accuracy                           0.80     10000\n",
            "   macro avg       0.80      0.79      0.79     10000\n",
            "weighted avg       0.80      0.80      0.79     10000\n",
            "\n"
          ]
        },
        {
          "output_type": "display_data",
          "data": {
            "text/plain": [
              "<Figure size 640x480 with 2 Axes>"
            ],
            "image/png": "[encoded data removed]"
          },
          "metadata": {}
        }
      ],
      "source": [
        "true_label = []\n",
        "pred_label = []\n",
        "try:\n",
        "    class_name = test_task_1.classes\n",
        "except:\n",
        "    class_name = [str(i) for i in  range(10)]\n",
        "\n",
        "with torch.no_grad():\n",
        "    for data in task_loader[0]:\n",
        "        img, label = data\n",
        "        img, label = img.to(device), label.to(device)\n",
        "        _, output = model(img)\n",
        "        output = output.argmax(1)\n",
        "        true_label.extend(label.cpu().numpy())\n",
        "        pred_label.extend(output.cpu().numpy())\n",
        "\n",
        "from sklearn.metrics import accuracy_score\n",
        "from sklearn.metrics import classification_report\n",
        "print('\\033[33m' + 'Accuracy' + '\\033[0m', accuracy_score(true_label, pred_label))\n",
        "print('\\033[33m' + 'Classification Report' + '\\033[0m',\n",
        "      classification_report(true_label, pred_label, target_names=class_name),\n",
        "      sep='\\n')\n",
        "from sklearn.metrics import confusion_matrix\n",
        "import seaborn as sns\n",
        "\n",
        "cm = confusion_matrix(true_label, pred_label)\n",
        "plt.cla(); plt.clf()\n",
        "sns.heatmap(cm, annot=True, fmt=\"d\", cmap=\"Blues\", xticklabels=class_name, yticklabels=class_name)\n",
        "plt.xlabel(\"Predicted Label\")\n",
        "plt.ylabel(\"True Label\")\n",
        "plt.title(\"Task 0 Confusion Matrix\")\n",
        "plt.show()"
      ]
    },
    {
      "cell_type": "code",
      "execution_count": null,
      "metadata": {
        "id": "9TpH6Q832TWo",
        "colab": {
          "base_uri": "https://localhost:8080/"
        },
        "outputId": "60854686-0f10-46e7-a660-726d6dcb71b7"
      },
      "outputs": [
        {
          "output_type": "stream",
          "name": "stdout",
          "text": [
            "2025-05-14_07_08_05\n"
          ]
        }
      ],
      "source": [
        "import datetime\n",
        "import pytz\n",
        "\n",
        "now = datetime.datetime.now(pytz.timezone('Asia/Taipei')).strftime(\"%Y-%m-%d_%H_%M_%S\")\n",
        "print(now)"
      ]
    },
    {
      "cell_type": "code",
      "execution_count": null,
      "metadata": {
        "id": "8zSF3T-dT4-B"
      },
      "outputs": [],
      "source": [
        "import pickle\n",
        "with open('history.pickle', 'wb') as f:\n",
        "  pickle.dump(record_acc, f)"
      ]
    },
    {
      "cell_type": "code",
      "execution_count": null,
      "metadata": {
        "id": "4bqEefNwG5Zn",
        "colab": {
          "base_uri": "https://localhost:8080/"
        },
        "outputId": "44e6ab11-6938-4fe3-d730-c83a6c9b86c8"
      },
      "outputs": [
        {
          "output_type": "execute_result",
          "data": {
            "text/plain": [
              "array([[0.87839997, 0.0669    , 0.1513    , 0.1184    , 0.1601    ,\n",
              "        0.13079999, 0.1523    , 0.09959999, 0.15629999, 0.1682    ],\n",
              "       [0.85529995, 0.87799996, 0.21259999, 0.15889999, 0.1894    ,\n",
              "        0.1752    , 0.2288    , 0.1727    , 0.1548    , 0.1646    ],\n",
              "       [0.84309995, 0.86219996, 0.8779    , 0.183     , 0.16859999,\n",
              "        0.1656    , 0.23559999, 0.18779999, 0.12789999, 0.1681    ],\n",
              "       [0.8351    , 0.85539997, 0.87039995, 0.88379997, 0.1529    ,\n",
              "        0.19749999, 0.2243    , 0.16149999, 0.14399999, 0.1435    ],\n",
              "       [0.81979996, 0.85099995, 0.86079997, 0.87029999, 0.88549995,\n",
              "        0.2067    , 0.20539999, 0.1399    , 0.1505    , 0.14219999],\n",
              "       [0.8114    , 0.84539998, 0.85229999, 0.85999995, 0.8761    ,\n",
              "        0.88349998, 0.22499999, 0.1276    , 0.14199999, 0.1111    ],\n",
              "       [0.8046    , 0.83749998, 0.84359998, 0.8531    , 0.86930001,\n",
              "        0.87180001, 0.88879997, 0.1212    , 0.1302    , 0.1107    ],\n",
              "       [0.80379999, 0.83019996, 0.84249997, 0.84739995, 0.861     ,\n",
              "        0.86839998, 0.88119996, 0.89209998, 0.13959999, 0.1134    ],\n",
              "       [0.79819995, 0.82260001, 0.83999997, 0.84279996, 0.85519999,\n",
              "        0.86109996, 0.86949998, 0.88249999, 0.8919    , 0.1055    ],\n",
              "       [0.79719996, 0.81040001, 0.83709997, 0.83179998, 0.84919995,\n",
              "        0.85409999, 0.86429995, 0.87229997, 0.8804    , 0.89169997]])"
            ]
          },
          "metadata": {},
          "execution_count": 32
        }
      ],
      "source": [
        "record_acc"
      ]
    }
  ],
  "metadata": {
    "colab": {
      "provenance": [],
      "toc_visible": true,
      "gpuType": "T4",
      "include_colab_link": true
    },
    "kaggle": {
      "accelerator": "none",
      "dataSources": [],
      "dockerImageVersionId": 31012,
      "isGpuEnabled": false,
      "isInternetEnabled": true,
      "language": "python",
      "sourceType": "notebook"
    },
    "kernelspec": {
      "display_name": "Python 3",
      "name": "python3"
    },
    "language_info": {
      "codemirror_mode": {
        "name": "ipython",
        "version": 3
      },
      "file_extension": ".py",
      "mimetype": "text/x-python",
      "name": "python",
      "nbconvert_exporter": "python",
      "pygments_lexer": "ipython3",
      "version": "3.11.11"
    },
    "accelerator": "GPU"
  },
  "nbformat": 4,
  "nbformat_minor": 0
}